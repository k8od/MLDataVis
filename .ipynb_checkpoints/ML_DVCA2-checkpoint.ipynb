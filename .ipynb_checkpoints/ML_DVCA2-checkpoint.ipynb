{
 "cells": [
  {
   "cell_type": "markdown",
   "id": "965d019c",
   "metadata": {
    "id": "965d019c"
   },
   "source": [
    "# Machine Learning for Business & Data Visualisation CA2\n",
    "    Kate O'Dwyer\n",
    "\n"
   ]
  },
  {
   "cell_type": "markdown",
   "id": "26bae3f3",
   "metadata": {},
   "source": [
    "https://www.kaggle.com/code/samruddhim/part-2-time-series-analysis"
   ]
  },
  {
   "cell_type": "markdown",
   "id": "a68fa33d",
   "metadata": {
    "id": "a68fa33d"
   },
   "source": [
    "## Import Libraries & Remove Warnings "
   ]
  },
  {
   "cell_type": "code",
   "execution_count": 4,
   "id": "6031afb8",
   "metadata": {
    "id": "6031afb8",
    "vscode": {
     "languageId": "python"
    }
   },
   "outputs": [],
   "source": [
    "#Disable the warnings\n",
    "import warnings\n",
    "warnings.filterwarnings('ignore')\n",
    "\n",
    "\n",
    "#Importing Libraries\n",
    "import numpy as np \n",
    "import pandas as pd \n",
    "import matplotlib.pyplot as plt\n",
    "import seaborn as sns \n",
    "%matplotlib inline\n",
    "\n",
    "import statistics as stats\n",
    "import statsmodels.api as sm\n",
    "from statsmodels.formula.api import ols\n",
    "from scipy import stats\n",
    "import scipy as scipy"
   ]
  },
  {
   "cell_type": "markdown",
   "id": "a546bbab",
   "metadata": {
    "id": "a546bbab"
   },
   "source": [
    "## Reading in Data Set"
   ]
  },
  {
   "cell_type": "code",
   "execution_count": 5,
   "id": "b896cf9b",
   "metadata": {
    "id": "b896cf9b",
    "vscode": {
     "languageId": "python"
    }
   },
   "outputs": [],
   "source": [
    "df = pd.read_csv('train.csv', na_values = 'na')"
   ]
  },
  {
   "cell_type": "markdown",
   "id": "7d9cc903",
   "metadata": {
    "id": "7d9cc903"
   },
   "source": [
    "## Investigating Data Set"
   ]
  },
  {
   "cell_type": "code",
   "execution_count": 44,
   "id": "1eae72d7",
   "metadata": {
    "id": "1eae72d7",
    "outputId": "29fbfa8f-057a-40dc-e59d-ab2b04eb575e",
    "vscode": {
     "languageId": "python"
    }
   },
   "outputs": [
    {
     "data": {
      "text/html": [
       "<div>\n",
       "<style scoped>\n",
       "    .dataframe tbody tr th:only-of-type {\n",
       "        vertical-align: middle;\n",
       "    }\n",
       "\n",
       "    .dataframe tbody tr th {\n",
       "        vertical-align: top;\n",
       "    }\n",
       "\n",
       "    .dataframe thead th {\n",
       "        text-align: right;\n",
       "    }\n",
       "</style>\n",
       "<table border=\"1\" class=\"dataframe\">\n",
       "  <thead>\n",
       "    <tr style=\"text-align: right;\">\n",
       "      <th></th>\n",
       "      <th>Row ID</th>\n",
       "      <th>Order ID</th>\n",
       "      <th>Order Date</th>\n",
       "      <th>Ship Date</th>\n",
       "      <th>Ship Mode</th>\n",
       "      <th>Customer ID</th>\n",
       "      <th>Customer Name</th>\n",
       "      <th>Segment</th>\n",
       "      <th>Country</th>\n",
       "      <th>City</th>\n",
       "      <th>State</th>\n",
       "      <th>Postal Code</th>\n",
       "      <th>Region</th>\n",
       "      <th>Product ID</th>\n",
       "      <th>Category</th>\n",
       "      <th>Sub-Category</th>\n",
       "      <th>Product Name</th>\n",
       "      <th>Sales</th>\n",
       "    </tr>\n",
       "  </thead>\n",
       "  <tbody>\n",
       "    <tr>\n",
       "      <th>0</th>\n",
       "      <td>1</td>\n",
       "      <td>CA-2017-152156</td>\n",
       "      <td>08/11/2017</td>\n",
       "      <td>11/11/2017</td>\n",
       "      <td>Second Class</td>\n",
       "      <td>CG-12520</td>\n",
       "      <td>Claire Gute</td>\n",
       "      <td>Consumer</td>\n",
       "      <td>United States</td>\n",
       "      <td>Henderson</td>\n",
       "      <td>Kentucky</td>\n",
       "      <td>42420.0</td>\n",
       "      <td>South</td>\n",
       "      <td>FUR-BO-10001798</td>\n",
       "      <td>Furniture</td>\n",
       "      <td>Bookcases</td>\n",
       "      <td>Bush Somerset Collection Bookcase</td>\n",
       "      <td>261.9600</td>\n",
       "    </tr>\n",
       "    <tr>\n",
       "      <th>1</th>\n",
       "      <td>2</td>\n",
       "      <td>CA-2017-152156</td>\n",
       "      <td>08/11/2017</td>\n",
       "      <td>11/11/2017</td>\n",
       "      <td>Second Class</td>\n",
       "      <td>CG-12520</td>\n",
       "      <td>Claire Gute</td>\n",
       "      <td>Consumer</td>\n",
       "      <td>United States</td>\n",
       "      <td>Henderson</td>\n",
       "      <td>Kentucky</td>\n",
       "      <td>42420.0</td>\n",
       "      <td>South</td>\n",
       "      <td>FUR-CH-10000454</td>\n",
       "      <td>Furniture</td>\n",
       "      <td>Chairs</td>\n",
       "      <td>Hon Deluxe Fabric Upholstered Stacking Chairs,...</td>\n",
       "      <td>731.9400</td>\n",
       "    </tr>\n",
       "    <tr>\n",
       "      <th>2</th>\n",
       "      <td>3</td>\n",
       "      <td>CA-2017-138688</td>\n",
       "      <td>12/06/2017</td>\n",
       "      <td>16/06/2017</td>\n",
       "      <td>Second Class</td>\n",
       "      <td>DV-13045</td>\n",
       "      <td>Darrin Van Huff</td>\n",
       "      <td>Corporate</td>\n",
       "      <td>United States</td>\n",
       "      <td>Los Angeles</td>\n",
       "      <td>California</td>\n",
       "      <td>90036.0</td>\n",
       "      <td>West</td>\n",
       "      <td>OFF-LA-10000240</td>\n",
       "      <td>Office Supplies</td>\n",
       "      <td>Labels</td>\n",
       "      <td>Self-Adhesive Address Labels for Typewriters b...</td>\n",
       "      <td>14.6200</td>\n",
       "    </tr>\n",
       "    <tr>\n",
       "      <th>3</th>\n",
       "      <td>4</td>\n",
       "      <td>US-2016-108966</td>\n",
       "      <td>11/10/2016</td>\n",
       "      <td>18/10/2016</td>\n",
       "      <td>Standard Class</td>\n",
       "      <td>SO-20335</td>\n",
       "      <td>Sean O'Donnell</td>\n",
       "      <td>Consumer</td>\n",
       "      <td>United States</td>\n",
       "      <td>Fort Lauderdale</td>\n",
       "      <td>Florida</td>\n",
       "      <td>33311.0</td>\n",
       "      <td>South</td>\n",
       "      <td>FUR-TA-10000577</td>\n",
       "      <td>Furniture</td>\n",
       "      <td>Tables</td>\n",
       "      <td>Bretford CR4500 Series Slim Rectangular Table</td>\n",
       "      <td>957.5775</td>\n",
       "    </tr>\n",
       "    <tr>\n",
       "      <th>4</th>\n",
       "      <td>5</td>\n",
       "      <td>US-2016-108966</td>\n",
       "      <td>11/10/2016</td>\n",
       "      <td>18/10/2016</td>\n",
       "      <td>Standard Class</td>\n",
       "      <td>SO-20335</td>\n",
       "      <td>Sean O'Donnell</td>\n",
       "      <td>Consumer</td>\n",
       "      <td>United States</td>\n",
       "      <td>Fort Lauderdale</td>\n",
       "      <td>Florida</td>\n",
       "      <td>33311.0</td>\n",
       "      <td>South</td>\n",
       "      <td>OFF-ST-10000760</td>\n",
       "      <td>Office Supplies</td>\n",
       "      <td>Storage</td>\n",
       "      <td>Eldon Fold 'N Roll Cart System</td>\n",
       "      <td>22.3680</td>\n",
       "    </tr>\n",
       "  </tbody>\n",
       "</table>\n",
       "</div>"
      ],
      "text/plain": [
       "   Row ID        Order ID  Order Date   Ship Date       Ship Mode Customer ID  \\\n",
       "0       1  CA-2017-152156  08/11/2017  11/11/2017    Second Class    CG-12520   \n",
       "1       2  CA-2017-152156  08/11/2017  11/11/2017    Second Class    CG-12520   \n",
       "2       3  CA-2017-138688  12/06/2017  16/06/2017    Second Class    DV-13045   \n",
       "3       4  US-2016-108966  11/10/2016  18/10/2016  Standard Class    SO-20335   \n",
       "4       5  US-2016-108966  11/10/2016  18/10/2016  Standard Class    SO-20335   \n",
       "\n",
       "     Customer Name    Segment        Country             City       State  \\\n",
       "0      Claire Gute   Consumer  United States        Henderson    Kentucky   \n",
       "1      Claire Gute   Consumer  United States        Henderson    Kentucky   \n",
       "2  Darrin Van Huff  Corporate  United States      Los Angeles  California   \n",
       "3   Sean O'Donnell   Consumer  United States  Fort Lauderdale     Florida   \n",
       "4   Sean O'Donnell   Consumer  United States  Fort Lauderdale     Florida   \n",
       "\n",
       "   Postal Code Region       Product ID         Category Sub-Category  \\\n",
       "0      42420.0  South  FUR-BO-10001798        Furniture    Bookcases   \n",
       "1      42420.0  South  FUR-CH-10000454        Furniture       Chairs   \n",
       "2      90036.0   West  OFF-LA-10000240  Office Supplies       Labels   \n",
       "3      33311.0  South  FUR-TA-10000577        Furniture       Tables   \n",
       "4      33311.0  South  OFF-ST-10000760  Office Supplies      Storage   \n",
       "\n",
       "                                        Product Name     Sales  \n",
       "0                  Bush Somerset Collection Bookcase  261.9600  \n",
       "1  Hon Deluxe Fabric Upholstered Stacking Chairs,...  731.9400  \n",
       "2  Self-Adhesive Address Labels for Typewriters b...   14.6200  \n",
       "3      Bretford CR4500 Series Slim Rectangular Table  957.5775  \n",
       "4                     Eldon Fold 'N Roll Cart System   22.3680  "
      ]
     },
     "execution_count": 44,
     "metadata": {},
     "output_type": "execute_result"
    }
   ],
   "source": [
    "df.head()"
   ]
  },
  {
   "cell_type": "code",
   "execution_count": 45,
   "id": "d718d057",
   "metadata": {
    "id": "d718d057",
    "outputId": "7f545a61-eb10-438f-9961-0365ced969ab",
    "vscode": {
     "languageId": "python"
    }
   },
   "outputs": [
    {
     "data": {
      "text/html": [
       "<div>\n",
       "<style scoped>\n",
       "    .dataframe tbody tr th:only-of-type {\n",
       "        vertical-align: middle;\n",
       "    }\n",
       "\n",
       "    .dataframe tbody tr th {\n",
       "        vertical-align: top;\n",
       "    }\n",
       "\n",
       "    .dataframe thead th {\n",
       "        text-align: right;\n",
       "    }\n",
       "</style>\n",
       "<table border=\"1\" class=\"dataframe\">\n",
       "  <thead>\n",
       "    <tr style=\"text-align: right;\">\n",
       "      <th></th>\n",
       "      <th>Row ID</th>\n",
       "      <th>Order ID</th>\n",
       "      <th>Order Date</th>\n",
       "      <th>Ship Date</th>\n",
       "      <th>Ship Mode</th>\n",
       "      <th>Customer ID</th>\n",
       "      <th>Customer Name</th>\n",
       "      <th>Segment</th>\n",
       "      <th>Country</th>\n",
       "      <th>City</th>\n",
       "      <th>State</th>\n",
       "      <th>Postal Code</th>\n",
       "      <th>Region</th>\n",
       "      <th>Product ID</th>\n",
       "      <th>Category</th>\n",
       "      <th>Sub-Category</th>\n",
       "      <th>Product Name</th>\n",
       "      <th>Sales</th>\n",
       "    </tr>\n",
       "  </thead>\n",
       "  <tbody>\n",
       "    <tr>\n",
       "      <th>9795</th>\n",
       "      <td>9796</td>\n",
       "      <td>CA-2017-125920</td>\n",
       "      <td>21/05/2017</td>\n",
       "      <td>28/05/2017</td>\n",
       "      <td>Standard Class</td>\n",
       "      <td>SH-19975</td>\n",
       "      <td>Sally Hughsby</td>\n",
       "      <td>Corporate</td>\n",
       "      <td>United States</td>\n",
       "      <td>Chicago</td>\n",
       "      <td>Illinois</td>\n",
       "      <td>60610.0</td>\n",
       "      <td>Central</td>\n",
       "      <td>OFF-BI-10003429</td>\n",
       "      <td>Office Supplies</td>\n",
       "      <td>Binders</td>\n",
       "      <td>Cardinal HOLDit! Binder Insert Strips,Extra St...</td>\n",
       "      <td>3.798</td>\n",
       "    </tr>\n",
       "    <tr>\n",
       "      <th>9796</th>\n",
       "      <td>9797</td>\n",
       "      <td>CA-2016-128608</td>\n",
       "      <td>12/01/2016</td>\n",
       "      <td>17/01/2016</td>\n",
       "      <td>Standard Class</td>\n",
       "      <td>CS-12490</td>\n",
       "      <td>Cindy Schnelling</td>\n",
       "      <td>Corporate</td>\n",
       "      <td>United States</td>\n",
       "      <td>Toledo</td>\n",
       "      <td>Ohio</td>\n",
       "      <td>43615.0</td>\n",
       "      <td>East</td>\n",
       "      <td>OFF-AR-10001374</td>\n",
       "      <td>Office Supplies</td>\n",
       "      <td>Art</td>\n",
       "      <td>BIC Brite Liner Highlighters, Chisel Tip</td>\n",
       "      <td>10.368</td>\n",
       "    </tr>\n",
       "    <tr>\n",
       "      <th>9797</th>\n",
       "      <td>9798</td>\n",
       "      <td>CA-2016-128608</td>\n",
       "      <td>12/01/2016</td>\n",
       "      <td>17/01/2016</td>\n",
       "      <td>Standard Class</td>\n",
       "      <td>CS-12490</td>\n",
       "      <td>Cindy Schnelling</td>\n",
       "      <td>Corporate</td>\n",
       "      <td>United States</td>\n",
       "      <td>Toledo</td>\n",
       "      <td>Ohio</td>\n",
       "      <td>43615.0</td>\n",
       "      <td>East</td>\n",
       "      <td>TEC-PH-10004977</td>\n",
       "      <td>Technology</td>\n",
       "      <td>Phones</td>\n",
       "      <td>GE 30524EE4</td>\n",
       "      <td>235.188</td>\n",
       "    </tr>\n",
       "    <tr>\n",
       "      <th>9798</th>\n",
       "      <td>9799</td>\n",
       "      <td>CA-2016-128608</td>\n",
       "      <td>12/01/2016</td>\n",
       "      <td>17/01/2016</td>\n",
       "      <td>Standard Class</td>\n",
       "      <td>CS-12490</td>\n",
       "      <td>Cindy Schnelling</td>\n",
       "      <td>Corporate</td>\n",
       "      <td>United States</td>\n",
       "      <td>Toledo</td>\n",
       "      <td>Ohio</td>\n",
       "      <td>43615.0</td>\n",
       "      <td>East</td>\n",
       "      <td>TEC-PH-10000912</td>\n",
       "      <td>Technology</td>\n",
       "      <td>Phones</td>\n",
       "      <td>Anker 24W Portable Micro USB Car Charger</td>\n",
       "      <td>26.376</td>\n",
       "    </tr>\n",
       "    <tr>\n",
       "      <th>9799</th>\n",
       "      <td>9800</td>\n",
       "      <td>CA-2016-128608</td>\n",
       "      <td>12/01/2016</td>\n",
       "      <td>17/01/2016</td>\n",
       "      <td>Standard Class</td>\n",
       "      <td>CS-12490</td>\n",
       "      <td>Cindy Schnelling</td>\n",
       "      <td>Corporate</td>\n",
       "      <td>United States</td>\n",
       "      <td>Toledo</td>\n",
       "      <td>Ohio</td>\n",
       "      <td>43615.0</td>\n",
       "      <td>East</td>\n",
       "      <td>TEC-AC-10000487</td>\n",
       "      <td>Technology</td>\n",
       "      <td>Accessories</td>\n",
       "      <td>SanDisk Cruzer 4 GB USB Flash Drive</td>\n",
       "      <td>10.384</td>\n",
       "    </tr>\n",
       "  </tbody>\n",
       "</table>\n",
       "</div>"
      ],
      "text/plain": [
       "      Row ID        Order ID  Order Date   Ship Date       Ship Mode  \\\n",
       "9795    9796  CA-2017-125920  21/05/2017  28/05/2017  Standard Class   \n",
       "9796    9797  CA-2016-128608  12/01/2016  17/01/2016  Standard Class   \n",
       "9797    9798  CA-2016-128608  12/01/2016  17/01/2016  Standard Class   \n",
       "9798    9799  CA-2016-128608  12/01/2016  17/01/2016  Standard Class   \n",
       "9799    9800  CA-2016-128608  12/01/2016  17/01/2016  Standard Class   \n",
       "\n",
       "     Customer ID     Customer Name    Segment        Country     City  \\\n",
       "9795    SH-19975     Sally Hughsby  Corporate  United States  Chicago   \n",
       "9796    CS-12490  Cindy Schnelling  Corporate  United States   Toledo   \n",
       "9797    CS-12490  Cindy Schnelling  Corporate  United States   Toledo   \n",
       "9798    CS-12490  Cindy Schnelling  Corporate  United States   Toledo   \n",
       "9799    CS-12490  Cindy Schnelling  Corporate  United States   Toledo   \n",
       "\n",
       "         State  Postal Code   Region       Product ID         Category  \\\n",
       "9795  Illinois      60610.0  Central  OFF-BI-10003429  Office Supplies   \n",
       "9796      Ohio      43615.0     East  OFF-AR-10001374  Office Supplies   \n",
       "9797      Ohio      43615.0     East  TEC-PH-10004977       Technology   \n",
       "9798      Ohio      43615.0     East  TEC-PH-10000912       Technology   \n",
       "9799      Ohio      43615.0     East  TEC-AC-10000487       Technology   \n",
       "\n",
       "     Sub-Category                                       Product Name    Sales  \n",
       "9795      Binders  Cardinal HOLDit! Binder Insert Strips,Extra St...    3.798  \n",
       "9796          Art           BIC Brite Liner Highlighters, Chisel Tip   10.368  \n",
       "9797       Phones                                        GE 30524EE4  235.188  \n",
       "9798       Phones           Anker 24W Portable Micro USB Car Charger   26.376  \n",
       "9799  Accessories                SanDisk Cruzer 4 GB USB Flash Drive   10.384  "
      ]
     },
     "execution_count": 45,
     "metadata": {},
     "output_type": "execute_result"
    }
   ],
   "source": [
    "df.tail()"
   ]
  },
  {
   "cell_type": "code",
   "execution_count": 46,
   "id": "3899543d",
   "metadata": {
    "id": "3899543d",
    "outputId": "c4c7d291-198f-4c90-b430-79598f4e180f",
    "vscode": {
     "languageId": "python"
    }
   },
   "outputs": [
    {
     "name": "stdout",
     "output_type": "stream",
     "text": [
      "<class 'pandas.core.frame.DataFrame'>\n",
      "RangeIndex: 9800 entries, 0 to 9799\n",
      "Data columns (total 18 columns):\n",
      " #   Column         Non-Null Count  Dtype  \n",
      "---  ------         --------------  -----  \n",
      " 0   Row ID         9800 non-null   int64  \n",
      " 1   Order ID       9800 non-null   object \n",
      " 2   Order Date     9800 non-null   object \n",
      " 3   Ship Date      9800 non-null   object \n",
      " 4   Ship Mode      9800 non-null   object \n",
      " 5   Customer ID    9800 non-null   object \n",
      " 6   Customer Name  9800 non-null   object \n",
      " 7   Segment        9800 non-null   object \n",
      " 8   Country        9800 non-null   object \n",
      " 9   City           9800 non-null   object \n",
      " 10  State          9800 non-null   object \n",
      " 11  Postal Code    9789 non-null   float64\n",
      " 12  Region         9800 non-null   object \n",
      " 13  Product ID     9800 non-null   object \n",
      " 14  Category       9800 non-null   object \n",
      " 15  Sub-Category   9800 non-null   object \n",
      " 16  Product Name   9800 non-null   object \n",
      " 17  Sales          9800 non-null   float64\n",
      "dtypes: float64(2), int64(1), object(15)\n",
      "memory usage: 1.3+ MB\n"
     ]
    }
   ],
   "source": [
    "df.info() #information about the data set"
   ]
  },
  {
   "cell_type": "markdown",
   "id": "f6e0e92b",
   "metadata": {},
   "source": [
    "- Will need to turn the data into a time series, will also need to remove the NaNs as there seems to be a lot at the the end of the data frame. Will also remove the unnamed column"
   ]
  },
  {
   "cell_type": "code",
   "execution_count": 47,
   "id": "54f01b4e",
   "metadata": {
    "id": "54f01b4e",
    "outputId": "bfbc78e1-1ee3-4b28-c517-69705ba92a96",
    "scrolled": true,
    "vscode": {
     "languageId": "python"
    }
   },
   "outputs": [
    {
     "name": "stdout",
     "output_type": "stream",
     "text": [
      "Row ID            0\n",
      "Order ID          0\n",
      "Order Date        0\n",
      "Ship Date         0\n",
      "Ship Mode         0\n",
      "Customer ID       0\n",
      "Customer Name     0\n",
      "Segment           0\n",
      "Country           0\n",
      "City              0\n",
      "State             0\n",
      "Postal Code      11\n",
      "Region            0\n",
      "Product ID        0\n",
      "Category          0\n",
      "Sub-Category      0\n",
      "Product Name      0\n",
      "Sales             0\n",
      "dtype: int64\n"
     ]
    }
   ],
   "source": [
    "print(df.isnull().sum())"
   ]
  },
  {
   "cell_type": "markdown",
   "id": "73cf4d12",
   "metadata": {
    "id": "73cf4d12"
   },
   "source": [
    "- Will remove all NaNs first before proceeding."
   ]
  },
  {
   "cell_type": "markdown",
   "id": "75cf4705",
   "metadata": {
    "id": "75cf4705"
   },
   "source": [
    "# Data Cleaning"
   ]
  },
  {
   "cell_type": "markdown",
   "id": "85d0c110",
   "metadata": {
    "id": "85d0c110"
   },
   "source": [
    "#### Drop 'Row ID'"
   ]
  },
  {
   "cell_type": "code",
   "execution_count": 6,
   "id": "f23e66d8",
   "metadata": {
    "id": "f23e66d8",
    "vscode": {
     "languageId": "python"
    }
   },
   "outputs": [],
   "source": [
    "df.drop(['Row ID'] , axis = 1 , inplace = True)"
   ]
  },
  {
   "cell_type": "markdown",
   "id": "f02250e0",
   "metadata": {},
   "source": [
    "#### Drop NaNs"
   ]
  },
  {
   "cell_type": "code",
   "execution_count": 7,
   "id": "2f7ada3b",
   "metadata": {},
   "outputs": [],
   "source": [
    "df.dropna(axis=0, inplace = True)"
   ]
  },
  {
   "cell_type": "code",
   "execution_count": 8,
   "id": "e16b5a7a",
   "metadata": {
    "id": "e16b5a7a",
    "outputId": "2dea7b80-d211-4084-ba9c-217ed032c522",
    "vscode": {
     "languageId": "python"
    }
   },
   "outputs": [
    {
     "data": {
      "text/html": [
       "<div>\n",
       "<style scoped>\n",
       "    .dataframe tbody tr th:only-of-type {\n",
       "        vertical-align: middle;\n",
       "    }\n",
       "\n",
       "    .dataframe tbody tr th {\n",
       "        vertical-align: top;\n",
       "    }\n",
       "\n",
       "    .dataframe thead th {\n",
       "        text-align: right;\n",
       "    }\n",
       "</style>\n",
       "<table border=\"1\" class=\"dataframe\">\n",
       "  <thead>\n",
       "    <tr style=\"text-align: right;\">\n",
       "      <th></th>\n",
       "      <th>Order ID</th>\n",
       "      <th>Order Date</th>\n",
       "      <th>Ship Date</th>\n",
       "      <th>Ship Mode</th>\n",
       "      <th>Customer ID</th>\n",
       "      <th>Customer Name</th>\n",
       "      <th>Segment</th>\n",
       "      <th>Country</th>\n",
       "      <th>City</th>\n",
       "      <th>State</th>\n",
       "      <th>Postal Code</th>\n",
       "      <th>Region</th>\n",
       "      <th>Product ID</th>\n",
       "      <th>Category</th>\n",
       "      <th>Sub-Category</th>\n",
       "      <th>Product Name</th>\n",
       "      <th>Sales</th>\n",
       "    </tr>\n",
       "  </thead>\n",
       "  <tbody>\n",
       "    <tr>\n",
       "      <th>9795</th>\n",
       "      <td>CA-2017-125920</td>\n",
       "      <td>21/05/2017</td>\n",
       "      <td>28/05/2017</td>\n",
       "      <td>Standard Class</td>\n",
       "      <td>SH-19975</td>\n",
       "      <td>Sally Hughsby</td>\n",
       "      <td>Corporate</td>\n",
       "      <td>United States</td>\n",
       "      <td>Chicago</td>\n",
       "      <td>Illinois</td>\n",
       "      <td>60610.0</td>\n",
       "      <td>Central</td>\n",
       "      <td>OFF-BI-10003429</td>\n",
       "      <td>Office Supplies</td>\n",
       "      <td>Binders</td>\n",
       "      <td>Cardinal HOLDit! Binder Insert Strips,Extra St...</td>\n",
       "      <td>3.798</td>\n",
       "    </tr>\n",
       "    <tr>\n",
       "      <th>9796</th>\n",
       "      <td>CA-2016-128608</td>\n",
       "      <td>12/01/2016</td>\n",
       "      <td>17/01/2016</td>\n",
       "      <td>Standard Class</td>\n",
       "      <td>CS-12490</td>\n",
       "      <td>Cindy Schnelling</td>\n",
       "      <td>Corporate</td>\n",
       "      <td>United States</td>\n",
       "      <td>Toledo</td>\n",
       "      <td>Ohio</td>\n",
       "      <td>43615.0</td>\n",
       "      <td>East</td>\n",
       "      <td>OFF-AR-10001374</td>\n",
       "      <td>Office Supplies</td>\n",
       "      <td>Art</td>\n",
       "      <td>BIC Brite Liner Highlighters, Chisel Tip</td>\n",
       "      <td>10.368</td>\n",
       "    </tr>\n",
       "    <tr>\n",
       "      <th>9797</th>\n",
       "      <td>CA-2016-128608</td>\n",
       "      <td>12/01/2016</td>\n",
       "      <td>17/01/2016</td>\n",
       "      <td>Standard Class</td>\n",
       "      <td>CS-12490</td>\n",
       "      <td>Cindy Schnelling</td>\n",
       "      <td>Corporate</td>\n",
       "      <td>United States</td>\n",
       "      <td>Toledo</td>\n",
       "      <td>Ohio</td>\n",
       "      <td>43615.0</td>\n",
       "      <td>East</td>\n",
       "      <td>TEC-PH-10004977</td>\n",
       "      <td>Technology</td>\n",
       "      <td>Phones</td>\n",
       "      <td>GE 30524EE4</td>\n",
       "      <td>235.188</td>\n",
       "    </tr>\n",
       "    <tr>\n",
       "      <th>9798</th>\n",
       "      <td>CA-2016-128608</td>\n",
       "      <td>12/01/2016</td>\n",
       "      <td>17/01/2016</td>\n",
       "      <td>Standard Class</td>\n",
       "      <td>CS-12490</td>\n",
       "      <td>Cindy Schnelling</td>\n",
       "      <td>Corporate</td>\n",
       "      <td>United States</td>\n",
       "      <td>Toledo</td>\n",
       "      <td>Ohio</td>\n",
       "      <td>43615.0</td>\n",
       "      <td>East</td>\n",
       "      <td>TEC-PH-10000912</td>\n",
       "      <td>Technology</td>\n",
       "      <td>Phones</td>\n",
       "      <td>Anker 24W Portable Micro USB Car Charger</td>\n",
       "      <td>26.376</td>\n",
       "    </tr>\n",
       "    <tr>\n",
       "      <th>9799</th>\n",
       "      <td>CA-2016-128608</td>\n",
       "      <td>12/01/2016</td>\n",
       "      <td>17/01/2016</td>\n",
       "      <td>Standard Class</td>\n",
       "      <td>CS-12490</td>\n",
       "      <td>Cindy Schnelling</td>\n",
       "      <td>Corporate</td>\n",
       "      <td>United States</td>\n",
       "      <td>Toledo</td>\n",
       "      <td>Ohio</td>\n",
       "      <td>43615.0</td>\n",
       "      <td>East</td>\n",
       "      <td>TEC-AC-10000487</td>\n",
       "      <td>Technology</td>\n",
       "      <td>Accessories</td>\n",
       "      <td>SanDisk Cruzer 4 GB USB Flash Drive</td>\n",
       "      <td>10.384</td>\n",
       "    </tr>\n",
       "  </tbody>\n",
       "</table>\n",
       "</div>"
      ],
      "text/plain": [
       "            Order ID  Order Date   Ship Date       Ship Mode Customer ID  \\\n",
       "9795  CA-2017-125920  21/05/2017  28/05/2017  Standard Class    SH-19975   \n",
       "9796  CA-2016-128608  12/01/2016  17/01/2016  Standard Class    CS-12490   \n",
       "9797  CA-2016-128608  12/01/2016  17/01/2016  Standard Class    CS-12490   \n",
       "9798  CA-2016-128608  12/01/2016  17/01/2016  Standard Class    CS-12490   \n",
       "9799  CA-2016-128608  12/01/2016  17/01/2016  Standard Class    CS-12490   \n",
       "\n",
       "         Customer Name    Segment        Country     City     State  \\\n",
       "9795     Sally Hughsby  Corporate  United States  Chicago  Illinois   \n",
       "9796  Cindy Schnelling  Corporate  United States   Toledo      Ohio   \n",
       "9797  Cindy Schnelling  Corporate  United States   Toledo      Ohio   \n",
       "9798  Cindy Schnelling  Corporate  United States   Toledo      Ohio   \n",
       "9799  Cindy Schnelling  Corporate  United States   Toledo      Ohio   \n",
       "\n",
       "      Postal Code   Region       Product ID         Category Sub-Category  \\\n",
       "9795      60610.0  Central  OFF-BI-10003429  Office Supplies      Binders   \n",
       "9796      43615.0     East  OFF-AR-10001374  Office Supplies          Art   \n",
       "9797      43615.0     East  TEC-PH-10004977       Technology       Phones   \n",
       "9798      43615.0     East  TEC-PH-10000912       Technology       Phones   \n",
       "9799      43615.0     East  TEC-AC-10000487       Technology  Accessories   \n",
       "\n",
       "                                           Product Name    Sales  \n",
       "9795  Cardinal HOLDit! Binder Insert Strips,Extra St...    3.798  \n",
       "9796           BIC Brite Liner Highlighters, Chisel Tip   10.368  \n",
       "9797                                        GE 30524EE4  235.188  \n",
       "9798           Anker 24W Portable Micro USB Car Charger   26.376  \n",
       "9799                SanDisk Cruzer 4 GB USB Flash Drive   10.384  "
      ]
     },
     "execution_count": 8,
     "metadata": {},
     "output_type": "execute_result"
    }
   ],
   "source": [
    "df.tail()"
   ]
  },
  {
   "cell_type": "code",
   "execution_count": 9,
   "id": "8020f37a",
   "metadata": {},
   "outputs": [
    {
     "name": "stdout",
     "output_type": "stream",
     "text": [
      "Order ID         0\n",
      "Order Date       0\n",
      "Ship Date        0\n",
      "Ship Mode        0\n",
      "Customer ID      0\n",
      "Customer Name    0\n",
      "Segment          0\n",
      "Country          0\n",
      "City             0\n",
      "State            0\n",
      "Postal Code      0\n",
      "Region           0\n",
      "Product ID       0\n",
      "Category         0\n",
      "Sub-Category     0\n",
      "Product Name     0\n",
      "Sales            0\n",
      "dtype: int64\n"
     ]
    }
   ],
   "source": [
    "print(df.isnull().sum())"
   ]
  },
  {
   "cell_type": "markdown",
   "id": "9741483a",
   "metadata": {},
   "source": [
    "#### Convert Date to datetime series"
   ]
  },
  {
   "cell_type": "code",
   "execution_count": 10,
   "id": "a481371d",
   "metadata": {
    "id": "a481371d",
    "vscode": {
     "languageId": "python"
    }
   },
   "outputs": [],
   "source": [
    "# Convert date column to datetime format\n",
    "df['Order Date'] = pd.to_datetime(df['Order Date'],format=\"%d/%m/%Y\")"
   ]
  },
  {
   "cell_type": "code",
   "execution_count": 11,
   "id": "c3c99ff7",
   "metadata": {
    "id": "c3c99ff7",
    "outputId": "8579911c-c458-4831-c528-e9a351f9306f",
    "vscode": {
     "languageId": "python"
    }
   },
   "outputs": [
    {
     "data": {
      "text/plain": [
       "Order ID                 object\n",
       "Order Date       datetime64[ns]\n",
       "Ship Date                object\n",
       "Ship Mode                object\n",
       "Customer ID              object\n",
       "Customer Name            object\n",
       "Segment                  object\n",
       "Country                  object\n",
       "City                     object\n",
       "State                    object\n",
       "Postal Code             float64\n",
       "Region                   object\n",
       "Product ID               object\n",
       "Category                 object\n",
       "Sub-Category             object\n",
       "Product Name             object\n",
       "Sales                   float64\n",
       "dtype: object"
      ]
     },
     "execution_count": 11,
     "metadata": {},
     "output_type": "execute_result"
    }
   ],
   "source": [
    "# Checking the data type \n",
    "\n",
    "df.dtypes"
   ]
  },
  {
   "cell_type": "markdown",
   "id": "25df4001",
   "metadata": {},
   "source": [
    "#### Check for duplicated values"
   ]
  },
  {
   "cell_type": "code",
   "execution_count": 12,
   "id": "eacb8e88",
   "metadata": {
    "id": "eacb8e88",
    "outputId": "a810e5bf-f6fd-4395-8d67-44ce60f60152",
    "vscode": {
     "languageId": "python"
    }
   },
   "outputs": [
    {
     "name": "stdout",
     "output_type": "stream",
     "text": [
      "Number of Duplicated Values:  1\n"
     ]
    }
   ],
   "source": [
    "#Check for duplicate values\n",
    "print(\"Number of Duplicated Values: \",df.duplicated().sum())"
   ]
  },
  {
   "cell_type": "markdown",
   "id": "f22d86a7",
   "metadata": {},
   "source": [
    "Sort by order date:"
   ]
  },
  {
   "cell_type": "code",
   "execution_count": 13,
   "id": "72518266",
   "metadata": {},
   "outputs": [],
   "source": [
    "#sorting data by order date\n",
    "df.sort_values(by=['Order Date'], inplace=True, ascending=True) #Sorting data by  ascending order of the coloumn values 'Order Date'\n",
    "df.set_index(\"Order Date\", inplace = True) #Setting 'Order Date' as index of the dataframe 'df' for ease of Time Series Analysis"
   ]
  },
  {
   "cell_type": "markdown",
   "id": "724db4b2",
   "metadata": {},
   "source": [
    "Create a new data frame to perform time series on:"
   ]
  },
  {
   "cell_type": "code",
   "execution_count": 14,
   "id": "a320d312",
   "metadata": {},
   "outputs": [
    {
     "data": {
      "text/html": [
       "<div>\n",
       "<style scoped>\n",
       "    .dataframe tbody tr th:only-of-type {\n",
       "        vertical-align: middle;\n",
       "    }\n",
       "\n",
       "    .dataframe tbody tr th {\n",
       "        vertical-align: top;\n",
       "    }\n",
       "\n",
       "    .dataframe thead th {\n",
       "        text-align: right;\n",
       "    }\n",
       "</style>\n",
       "<table border=\"1\" class=\"dataframe\">\n",
       "  <thead>\n",
       "    <tr style=\"text-align: right;\">\n",
       "      <th></th>\n",
       "      <th>Sales</th>\n",
       "    </tr>\n",
       "    <tr>\n",
       "      <th>Order Date</th>\n",
       "      <th></th>\n",
       "    </tr>\n",
       "  </thead>\n",
       "  <tbody>\n",
       "    <tr>\n",
       "      <th>2015-01-03</th>\n",
       "      <td>16.448</td>\n",
       "    </tr>\n",
       "    <tr>\n",
       "      <th>2015-01-04</th>\n",
       "      <td>3.540</td>\n",
       "    </tr>\n",
       "    <tr>\n",
       "      <th>2015-01-04</th>\n",
       "      <td>272.736</td>\n",
       "    </tr>\n",
       "    <tr>\n",
       "      <th>2015-01-04</th>\n",
       "      <td>11.784</td>\n",
       "    </tr>\n",
       "    <tr>\n",
       "      <th>2015-01-05</th>\n",
       "      <td>19.536</td>\n",
       "    </tr>\n",
       "    <tr>\n",
       "      <th>...</th>\n",
       "      <td>...</td>\n",
       "    </tr>\n",
       "    <tr>\n",
       "      <th>2018-12-30</th>\n",
       "      <td>323.136</td>\n",
       "    </tr>\n",
       "    <tr>\n",
       "      <th>2018-12-30</th>\n",
       "      <td>52.776</td>\n",
       "    </tr>\n",
       "    <tr>\n",
       "      <th>2018-12-30</th>\n",
       "      <td>90.930</td>\n",
       "    </tr>\n",
       "    <tr>\n",
       "      <th>2018-12-30</th>\n",
       "      <td>13.904</td>\n",
       "    </tr>\n",
       "    <tr>\n",
       "      <th>2018-12-30</th>\n",
       "      <td>3.024</td>\n",
       "    </tr>\n",
       "  </tbody>\n",
       "</table>\n",
       "<p>9789 rows × 1 columns</p>\n",
       "</div>"
      ],
      "text/plain": [
       "              Sales\n",
       "Order Date         \n",
       "2015-01-03   16.448\n",
       "2015-01-04    3.540\n",
       "2015-01-04  272.736\n",
       "2015-01-04   11.784\n",
       "2015-01-05   19.536\n",
       "...             ...\n",
       "2018-12-30  323.136\n",
       "2018-12-30   52.776\n",
       "2018-12-30   90.930\n",
       "2018-12-30   13.904\n",
       "2018-12-30    3.024\n",
       "\n",
       "[9789 rows x 1 columns]"
      ]
     },
     "execution_count": 14,
     "metadata": {},
     "output_type": "execute_result"
    }
   ],
   "source": [
    "df_ts = pd.DataFrame(df['Sales'])\n",
    "df_ts"
   ]
  },
  {
   "cell_type": "markdown",
   "id": "6eab441b",
   "metadata": {},
   "source": [
    "# EDAs"
   ]
  },
  {
   "cell_type": "code",
   "execution_count": 16,
   "id": "ff790d93",
   "metadata": {
    "scrolled": true
   },
   "outputs": [
    {
     "data": {
      "image/png": "[encoded data removed]",
      "text/plain": [
       "<Figure size 1200x600 with 1 Axes>"
      ]
     },
     "metadata": {},
     "output_type": "display_data"
    }
   ],
   "source": [
    "plt.figure(figsize=(12, 6))\n",
    "plt.plot(df_ts['Sales'], label='Sales')\n",
    "plt.title('Time Series Plot of Sales')\n",
    "plt.xlabel('Date')\n",
    "plt.ylabel('Sales')\n",
    "plt.legend()\n",
    "plt.grid(True)\n",
    "plt.show()"
   ]
  },
  {
   "cell_type": "markdown",
   "id": "986ef81e",
   "metadata": {},
   "source": [
    "Can we predict the Sales using time series forcasting? "
   ]
  },
  {
   "cell_type": "markdown",
   "id": "969d4728",
   "metadata": {},
   "source": [
    "# Stationary Check - Augmented Dickey-Fuller (ADF) Test:"
   ]
  },
  {
   "cell_type": "code",
   "execution_count": 17,
   "id": "33e7f332",
   "metadata": {},
   "outputs": [],
   "source": [
    "from statsmodels.tsa.stattools import adfuller"
   ]
  },
  {
   "cell_type": "markdown",
   "id": "ddc3788c",
   "metadata": {},
   "source": [
    "H0 : time series in non stationary \n",
    "H1 : time series is stationary"
   ]
  },
  {
   "cell_type": "code",
   "execution_count": 18,
   "id": "35eeadca",
   "metadata": {},
   "outputs": [
    {
     "data": {
      "text/plain": [
       "(-98.91587853052087,\n",
       " 0.0,\n",
       " 0,\n",
       " 9788,\n",
       " {'1%': -3.4310182688788515,\n",
       "  '5%': -2.8618353343878655,\n",
       "  '10%': -2.566927201367395},\n",
       " 153234.64702791546)"
      ]
     },
     "execution_count": 18,
     "metadata": {},
     "output_type": "execute_result"
    }
   ],
   "source": [
    "adfuller(df_ts[\"Sales\"])"
   ]
  },
  {
   "cell_type": "markdown",
   "id": "139925c7",
   "metadata": {},
   "source": [
    "As p = 0.0 and is thus below the signifigance level (alpha = 0.05) we can regevt H0 which indicates that the time series is stationary. "
   ]
  },
  {
   "cell_type": "markdown",
   "id": "7d4a9867",
   "metadata": {},
   "source": [
    "## ACF and PACF Plot:"
   ]
  },
  {
   "cell_type": "code",
   "execution_count": 19,
   "id": "7560bb31",
   "metadata": {},
   "outputs": [
    {
     "data": {
      "text/plain": [
       "<Figure size 1200x600 with 0 Axes>"
      ]
     },
     "metadata": {},
     "output_type": "display_data"
    },
    {
     "data": {
      "image/png": "[encoded data removed]",
      "text/plain": [
       "<Figure size 640x480 with 1 Axes>"
      ]
     },
     "metadata": {},
     "output_type": "display_data"
    }
   ],
   "source": [
    "from statsmodels.graphics.tsaplots import plot_acf\n",
    "\n",
    "plt.figure(figsize=(12, 6))\n",
    "plot_acf(df_ts, lags=20)\n",
    "plt.title('Autocorrelation Function (ACF) Plot')\n",
    "plt.xlabel('Lag')\n",
    "plt.ylabel('Autocorrelation')\n",
    "plt.show()"
   ]
  },
  {
   "cell_type": "code",
   "execution_count": 20,
   "id": "464c2aa2",
   "metadata": {
    "scrolled": true
   },
   "outputs": [
    {
     "data": {
      "text/plain": [
       "<Figure size 1200x600 with 0 Axes>"
      ]
     },
     "metadata": {},
     "output_type": "display_data"
    },
    {
     "data": {
      "image/png": "[encoded data removed]",
      "text/plain": [
       "<Figure size 640x480 with 1 Axes>"
      ]
     },
     "metadata": {},
     "output_type": "display_data"
    }
   ],
   "source": [
    "from statsmodels.graphics.tsaplots import plot_pacf\n",
    "\n",
    "plt.figure(figsize=(12, 6))\n",
    "plot_pacf(df_ts, lags=20)\n",
    "plt.title('PACF Plot')\n",
    "plt.xlabel('Lag')\n",
    "plt.ylabel('Autocorrelation')\n",
    "plt.show()"
   ]
  },
  {
   "cell_type": "code",
   "execution_count": 21,
   "id": "f9116b78",
   "metadata": {},
   "outputs": [
    {
     "ename": "ImportError",
     "evalue": "cannot import name 'ARMA' from 'statsmodels.tsa.arima.model' (C:\\Users\\multiflow\\anaconda3\\Lib\\site-packages\\statsmodels\\tsa\\arima\\model.py)",
     "output_type": "error",
     "traceback": [
      "\u001b[1;31m---------------------------------------------------------------------------\u001b[0m",
      "\u001b[1;31mImportError\u001b[0m                               Traceback (most recent call last)",
      "Cell \u001b[1;32mIn[21], line 1\u001b[0m\n\u001b[1;32m----> 1\u001b[0m \u001b[38;5;28;01mfrom\u001b[39;00m \u001b[38;5;21;01mstatsmodels\u001b[39;00m\u001b[38;5;21;01m.\u001b[39;00m\u001b[38;5;21;01mtsa\u001b[39;00m\u001b[38;5;21;01m.\u001b[39;00m\u001b[38;5;21;01marima\u001b[39;00m\u001b[38;5;21;01m.\u001b[39;00m\u001b[38;5;21;01mmodel\u001b[39;00m \u001b[38;5;28;01mimport\u001b[39;00m ARMA\n\u001b[0;32m      3\u001b[0m model \u001b[38;5;241m=\u001b[39m ARMA(df_ts, order\u001b[38;5;241m=\u001b[39m(\u001b[38;5;241m1\u001b[39m,\u001b[38;5;241m1\u001b[39m))\n\u001b[0;32m      5\u001b[0m results \u001b[38;5;241m=\u001b[39m model\u001b[38;5;241m.\u001b[39mfit()\n",
      "\u001b[1;31mImportError\u001b[0m: cannot import name 'ARMA' from 'statsmodels.tsa.arima.model' (C:\\Users\\multiflow\\anaconda3\\Lib\\site-packages\\statsmodels\\tsa\\arima\\model.py)"
     ]
    }
   ],
   "source": [
    "from statsmodels.tsa.arima.model import ARMA\n",
    "\n",
    "model = ARMA(df_ts, order=(1,1))\n",
    "\n",
    "results = model.fit()"
   ]
  },
  {
   "cell_type": "code",
   "execution_count": 26,
   "id": "55dccc84",
   "metadata": {},
   "outputs": [],
   "source": [
    "import statsmodels.tsa.api as sm"
   ]
  },
  {
   "cell_type": "code",
   "execution_count": 27,
   "id": "c6c469d9",
   "metadata": {},
   "outputs": [
    {
     "name": "stderr",
     "output_type": "stream",
     "text": [
      "C:\\Users\\multiflow\\anaconda3\\Lib\\site-packages\\statsmodels\\tsa\\base\\tsa_model.py:473: ValueWarning:\n",
      "\n",
      "A date index has been provided, but it has no associated frequency information and so will be ignored when e.g. forecasting.\n",
      "\n",
      "C:\\Users\\multiflow\\anaconda3\\Lib\\site-packages\\statsmodels\\tsa\\base\\tsa_model.py:473: ValueWarning:\n",
      "\n",
      "A date index has been provided, but it has no associated frequency information and so will be ignored when e.g. forecasting.\n",
      "\n",
      "C:\\Users\\multiflow\\anaconda3\\Lib\\site-packages\\statsmodels\\tsa\\base\\tsa_model.py:473: ValueWarning:\n",
      "\n",
      "A date index has been provided, but it has no associated frequency information and so will be ignored when e.g. forecasting.\n",
      "\n"
     ]
    }
   ],
   "source": [
    "model = sm.ARIMA(df_ts[\"Sales\"], order=(1, 0, 1)).fit()"
   ]
  },
  {
   "cell_type": "code",
   "execution_count": 28,
   "id": "8bcb75e6",
   "metadata": {},
   "outputs": [
    {
     "data": {
      "text/html": [
       "<table class=\"simpletable\">\n",
       "<caption>SARIMAX Results</caption>\n",
       "<tr>\n",
       "  <th>Dep. Variable:</th>         <td>Sales</td>      <th>  No. Observations:  </th>    <td>9789</td>   \n",
       "</tr>\n",
       "<tr>\n",
       "  <th>Model:</th>            <td>ARIMA(1, 0, 1)</td>  <th>  Log Likelihood     </th> <td>-76913.371</td>\n",
       "</tr>\n",
       "<tr>\n",
       "  <th>Date:</th>            <td>Sat, 25 Nov 2023</td> <th>  AIC                </th> <td>153834.741</td>\n",
       "</tr>\n",
       "<tr>\n",
       "  <th>Time:</th>                <td>22:30:38</td>     <th>  BIC                </th> <td>153863.497</td>\n",
       "</tr>\n",
       "<tr>\n",
       "  <th>Sample:</th>                  <td>0</td>        <th>  HQIC               </th> <td>153844.485</td>\n",
       "</tr>\n",
       "<tr>\n",
       "  <th></th>                      <td> - 9789</td>     <th>                     </th>      <td> </td>    \n",
       "</tr>\n",
       "<tr>\n",
       "  <th>Covariance Type:</th>        <td>opg</td>       <th>                     </th>      <td> </td>    \n",
       "</tr>\n",
       "</table>\n",
       "<table class=\"simpletable\">\n",
       "<tr>\n",
       "     <td></td>       <th>coef</th>     <th>std err</th>      <th>z</th>      <th>P>|z|</th>  <th>[0.025</th>    <th>0.975]</th>  \n",
       "</tr>\n",
       "<tr>\n",
       "  <th>const</th>  <td>  230.1162</td> <td>    9.446</td> <td>   24.362</td> <td> 0.000</td> <td>  211.603</td> <td>  248.629</td>\n",
       "</tr>\n",
       "<tr>\n",
       "  <th>ar.L1</th>  <td> 4.378e-05</td> <td>  183.861</td> <td> 2.38e-07</td> <td> 1.000</td> <td> -360.361</td> <td>  360.361</td>\n",
       "</tr>\n",
       "<tr>\n",
       "  <th>ma.L1</th>  <td> 3.885e-05</td> <td>  183.861</td> <td> 2.11e-07</td> <td> 1.000</td> <td> -360.362</td> <td>  360.362</td>\n",
       "</tr>\n",
       "<tr>\n",
       "  <th>sigma2</th> <td> 3.911e+05</td> <td>  691.073</td> <td>  565.915</td> <td> 0.000</td> <td>  3.9e+05</td> <td> 3.92e+05</td>\n",
       "</tr>\n",
       "</table>\n",
       "<table class=\"simpletable\">\n",
       "<tr>\n",
       "  <th>Ljung-Box (L1) (Q):</th>     <td>0.00</td> <th>  Jarque-Bera (JB):  </th> <td>38757057.56</td>\n",
       "</tr>\n",
       "<tr>\n",
       "  <th>Prob(Q):</th>                <td>1.00</td> <th>  Prob(JB):          </th>    <td>0.00</td>    \n",
       "</tr>\n",
       "<tr>\n",
       "  <th>Heteroskedasticity (H):</th> <td>0.80</td> <th>  Skew:              </th>    <td>13.05</td>   \n",
       "</tr>\n",
       "<tr>\n",
       "  <th>Prob(H) (two-sided):</th>    <td>0.00</td> <th>  Kurtosis:          </th>   <td>310.15</td>   \n",
       "</tr>\n",
       "</table><br/><br/>Warnings:<br/>[1] Covariance matrix calculated using the outer product of gradients (complex-step)."
      ],
      "text/latex": [
       "\\begin{center}\n",
       "\\begin{tabular}{lclc}\n",
       "\\toprule\n",
       "\\textbf{Dep. Variable:}          &      Sales       & \\textbf{  No. Observations:  } &     9789     \\\\\n",
       "\\textbf{Model:}                  &  ARIMA(1, 0, 1)  & \\textbf{  Log Likelihood     } &  -76913.371  \\\\\n",
       "\\textbf{Date:}                   & Sat, 25 Nov 2023 & \\textbf{  AIC                } &  153834.741  \\\\\n",
       "\\textbf{Time:}                   &     22:30:38     & \\textbf{  BIC                } &  153863.497  \\\\\n",
       "\\textbf{Sample:}                 &        0         & \\textbf{  HQIC               } &  153844.485  \\\\\n",
       "\\textbf{}                        &      - 9789      & \\textbf{                     } &              \\\\\n",
       "\\textbf{Covariance Type:}        &       opg        & \\textbf{                     } &              \\\\\n",
       "\\bottomrule\n",
       "\\end{tabular}\n",
       "\\begin{tabular}{lcccccc}\n",
       "                & \\textbf{coef} & \\textbf{std err} & \\textbf{z} & \\textbf{P$> |$z$|$} & \\textbf{[0.025} & \\textbf{0.975]}  \\\\\n",
       "\\midrule\n",
       "\\textbf{const}  &     230.1162  &        9.446     &    24.362  &         0.000        &      211.603    &      248.629     \\\\\n",
       "\\textbf{ar.L1}  &    4.378e-05  &      183.861     &  2.38e-07  &         1.000        &     -360.361    &      360.361     \\\\\n",
       "\\textbf{ma.L1}  &    3.885e-05  &      183.861     &  2.11e-07  &         1.000        &     -360.362    &      360.362     \\\\\n",
       "\\textbf{sigma2} &    3.911e+05  &      691.073     &   565.915  &         0.000        &      3.9e+05    &     3.92e+05     \\\\\n",
       "\\bottomrule\n",
       "\\end{tabular}\n",
       "\\begin{tabular}{lclc}\n",
       "\\textbf{Ljung-Box (L1) (Q):}     & 0.00 & \\textbf{  Jarque-Bera (JB):  } & 38757057.56  \\\\\n",
       "\\textbf{Prob(Q):}                & 1.00 & \\textbf{  Prob(JB):          } &     0.00     \\\\\n",
       "\\textbf{Heteroskedasticity (H):} & 0.80 & \\textbf{  Skew:              } &    13.05     \\\\\n",
       "\\textbf{Prob(H) (two-sided):}    & 0.00 & \\textbf{  Kurtosis:          } &    310.15    \\\\\n",
       "\\bottomrule\n",
       "\\end{tabular}\n",
       "%\\caption{SARIMAX Results}\n",
       "\\end{center}\n",
       "\n",
       "Warnings: \\newline\n",
       " [1] Covariance matrix calculated using the outer product of gradients (complex-step)."
      ],
      "text/plain": [
       "<class 'statsmodels.iolib.summary.Summary'>\n",
       "\"\"\"\n",
       "                               SARIMAX Results                                \n",
       "==============================================================================\n",
       "Dep. Variable:                  Sales   No. Observations:                 9789\n",
       "Model:                 ARIMA(1, 0, 1)   Log Likelihood              -76913.371\n",
       "Date:                Sat, 25 Nov 2023   AIC                         153834.741\n",
       "Time:                        22:30:38   BIC                         153863.497\n",
       "Sample:                             0   HQIC                        153844.485\n",
       "                               - 9789                                         \n",
       "Covariance Type:                  opg                                         \n",
       "==============================================================================\n",
       "                 coef    std err          z      P>|z|      [0.025      0.975]\n",
       "------------------------------------------------------------------------------\n",
       "const        230.1162      9.446     24.362      0.000     211.603     248.629\n",
       "ar.L1       4.378e-05    183.861   2.38e-07      1.000    -360.361     360.361\n",
       "ma.L1       3.885e-05    183.861   2.11e-07      1.000    -360.362     360.362\n",
       "sigma2      3.911e+05    691.073    565.915      0.000     3.9e+05    3.92e+05\n",
       "===================================================================================\n",
       "Ljung-Box (L1) (Q):                   0.00   Jarque-Bera (JB):          38757057.56\n",
       "Prob(Q):                              1.00   Prob(JB):                         0.00\n",
       "Heteroskedasticity (H):               0.80   Skew:                            13.05\n",
       "Prob(H) (two-sided):                  0.00   Kurtosis:                       310.15\n",
       "===================================================================================\n",
       "\n",
       "Warnings:\n",
       "[1] Covariance matrix calculated using the outer product of gradients (complex-step).\n",
       "\"\"\""
      ]
     },
     "execution_count": 28,
     "metadata": {},
     "output_type": "execute_result"
    }
   ],
   "source": [
    "model.summary()"
   ]
  },
  {
   "cell_type": "markdown",
   "id": "5255b8d7",
   "metadata": {},
   "source": [
    "# Forecast Steps"
   ]
  },
  {
   "cell_type": "code",
   "execution_count": 29,
   "id": "efaa6cdf",
   "metadata": {},
   "outputs": [
    {
     "ename": "NameError",
     "evalue": "name 'results' is not defined",
     "output_type": "error",
     "traceback": [
      "\u001b[1;31m---------------------------------------------------------------------------\u001b[0m",
      "\u001b[1;31mNameError\u001b[0m                                 Traceback (most recent call last)",
      "Cell \u001b[1;32mIn[29], line 2\u001b[0m\n\u001b[0;32m      1\u001b[0m forecast_steps \u001b[38;5;241m=\u001b[39m \u001b[38;5;241m10\u001b[39m\n\u001b[1;32m----> 2\u001b[0m forecast_results \u001b[38;5;241m=\u001b[39m results\u001b[38;5;241m.\u001b[39mget_forecast(steps\u001b[38;5;241m=\u001b[39mforecast_steps)\n",
      "\u001b[1;31mNameError\u001b[0m: name 'results' is not defined"
     ]
    }
   ],
   "source": [
    "forecast_steps = 10\n",
    "forecast_results = results.get_forecast(steps=forecast_steps)"
   ]
  },
  {
   "cell_type": "code",
   "execution_count": 30,
   "id": "c029c2a1",
   "metadata": {},
   "outputs": [],
   "source": [
    "pred_time = 10\n",
    "result = model.predict(pred_time)"
   ]
  },
  {
   "cell_type": "code",
   "execution_count": 31,
   "id": "bad6337a",
   "metadata": {},
   "outputs": [
    {
     "data": {
      "text/plain": [
       "[<matplotlib.lines.Line2D at 0x2189ec53390>]"
      ]
     },
     "execution_count": 31,
     "metadata": {},
     "output_type": "execute_result"
    },
    {
     "data": {
      "image/png": "[encoded data removed]",
      "text/plain": [
       "<Figure size 640x480 with 1 Axes>"
      ]
     },
     "metadata": {},
     "output_type": "display_data"
    }
   ],
   "source": [
    "plt.plot(range(len(result)-pred_time), result[:-pred_time])\n",
    "plt.plot(range(len(result)-pred_time, len(result)), result[-pred_time:])"
   ]
  },
  {
   "cell_type": "markdown",
   "id": "47c38f26",
   "metadata": {},
   "source": [
    "# Question 2"
   ]
  },
  {
   "cell_type": "markdown",
   "id": "41b4a0f2",
   "metadata": {
    "id": "a546bbab"
   },
   "source": [
    "## Reading in Data Set"
   ]
  },
  {
   "cell_type": "code",
   "execution_count": 32,
   "id": "84001c5d",
   "metadata": {},
   "outputs": [],
   "source": [
    "df1 = pd.read_csv('covid19_tweets.csv', na_values = 'na')"
   ]
  },
  {
   "cell_type": "markdown",
   "id": "ccc05ded",
   "metadata": {
    "id": "7d9cc903"
   },
   "source": [
    "## Investigating Data Set"
   ]
  },
  {
   "cell_type": "code",
   "execution_count": 33,
   "id": "f4652467",
   "metadata": {
    "id": "1eae72d7",
    "outputId": "29fbfa8f-057a-40dc-e59d-ab2b04eb575e",
    "vscode": {
     "languageId": "python"
    }
   },
   "outputs": [
    {
     "data": {
      "text/html": [
       "<div>\n",
       "<style scoped>\n",
       "    .dataframe tbody tr th:only-of-type {\n",
       "        vertical-align: middle;\n",
       "    }\n",
       "\n",
       "    .dataframe tbody tr th {\n",
       "        vertical-align: top;\n",
       "    }\n",
       "\n",
       "    .dataframe thead th {\n",
       "        text-align: right;\n",
       "    }\n",
       "</style>\n",
       "<table border=\"1\" class=\"dataframe\">\n",
       "  <thead>\n",
       "    <tr style=\"text-align: right;\">\n",
       "      <th></th>\n",
       "      <th>user_name</th>\n",
       "      <th>user_location</th>\n",
       "      <th>user_description</th>\n",
       "      <th>user_created</th>\n",
       "      <th>user_followers</th>\n",
       "      <th>user_friends</th>\n",
       "      <th>user_favourites</th>\n",
       "      <th>user_verified</th>\n",
       "      <th>date</th>\n",
       "      <th>text</th>\n",
       "      <th>hashtags</th>\n",
       "      <th>source</th>\n",
       "      <th>is_retweet</th>\n",
       "    </tr>\n",
       "  </thead>\n",
       "  <tbody>\n",
       "    <tr>\n",
       "      <th>0</th>\n",
       "      <td>ᏉᎥ☻լꂅϮ</td>\n",
       "      <td>astroworld</td>\n",
       "      <td>wednesday addams as a disney princess keepin i...</td>\n",
       "      <td>26/05/2017 05:46</td>\n",
       "      <td>624</td>\n",
       "      <td>950</td>\n",
       "      <td>18775</td>\n",
       "      <td>False</td>\n",
       "      <td>25/07/2020 12:27</td>\n",
       "      <td>If I smelled the scent of hand sanitizers toda...</td>\n",
       "      <td>NaN</td>\n",
       "      <td>Twitter for iPhone</td>\n",
       "      <td>False</td>\n",
       "    </tr>\n",
       "    <tr>\n",
       "      <th>1</th>\n",
       "      <td>Tom Basile 🇺🇸</td>\n",
       "      <td>New York, NY</td>\n",
       "      <td>Husband, Father, Columnist &amp; Commentator. Auth...</td>\n",
       "      <td>16/04/2009 20:06</td>\n",
       "      <td>2253</td>\n",
       "      <td>1677</td>\n",
       "      <td>24</td>\n",
       "      <td>True</td>\n",
       "      <td>25/07/2020 12:27</td>\n",
       "      <td>Hey @Yankees @YankeesPR and @MLB - wouldn't it...</td>\n",
       "      <td>NaN</td>\n",
       "      <td>Twitter for Android</td>\n",
       "      <td>False</td>\n",
       "    </tr>\n",
       "    <tr>\n",
       "      <th>2</th>\n",
       "      <td>Time4fisticuffs</td>\n",
       "      <td>Pewee Valley, KY</td>\n",
       "      <td>#Christian #Catholic #Conservative #Reagan #Re...</td>\n",
       "      <td>28/02/2009 18:57</td>\n",
       "      <td>9275</td>\n",
       "      <td>9525</td>\n",
       "      <td>7254</td>\n",
       "      <td>False</td>\n",
       "      <td>25/07/2020 12:27</td>\n",
       "      <td>@diane3443 @wdunlap @realDonaldTrump Trump nev...</td>\n",
       "      <td>['COVID19']</td>\n",
       "      <td>Twitter for Android</td>\n",
       "      <td>False</td>\n",
       "    </tr>\n",
       "    <tr>\n",
       "      <th>3</th>\n",
       "      <td>ethel mertz</td>\n",
       "      <td>Stuck in the Middle</td>\n",
       "      <td>#Browns #Indians #ClevelandProud #[]_[] #Cavs ...</td>\n",
       "      <td>07/03/2019 01:45</td>\n",
       "      <td>197</td>\n",
       "      <td>987</td>\n",
       "      <td>1488</td>\n",
       "      <td>False</td>\n",
       "      <td>25/07/2020 12:27</td>\n",
       "      <td>@brookbanktv The one gift #COVID19 has give me...</td>\n",
       "      <td>['COVID19']</td>\n",
       "      <td>Twitter for iPhone</td>\n",
       "      <td>False</td>\n",
       "    </tr>\n",
       "    <tr>\n",
       "      <th>4</th>\n",
       "      <td>DIPR-J&amp;K</td>\n",
       "      <td>Jammu and Kashmir</td>\n",
       "      <td>🖊️Official Twitter handle of Department of Inf...</td>\n",
       "      <td>12/02/2017 06:45</td>\n",
       "      <td>101009</td>\n",
       "      <td>168</td>\n",
       "      <td>101</td>\n",
       "      <td>False</td>\n",
       "      <td>25/07/2020 12:27</td>\n",
       "      <td>25 July : Media Bulletin on Novel #CoronaVirus...</td>\n",
       "      <td>['CoronaVirusUpdates', 'COVID19']</td>\n",
       "      <td>Twitter for Android</td>\n",
       "      <td>False</td>\n",
       "    </tr>\n",
       "  </tbody>\n",
       "</table>\n",
       "</div>"
      ],
      "text/plain": [
       "         user_name         user_location  \\\n",
       "0           ᏉᎥ☻լꂅϮ            astroworld   \n",
       "1    Tom Basile 🇺🇸          New York, NY   \n",
       "2  Time4fisticuffs      Pewee Valley, KY   \n",
       "3      ethel mertz  Stuck in the Middle    \n",
       "4         DIPR-J&K     Jammu and Kashmir   \n",
       "\n",
       "                                    user_description      user_created  \\\n",
       "0  wednesday addams as a disney princess keepin i...  26/05/2017 05:46   \n",
       "1  Husband, Father, Columnist & Commentator. Auth...  16/04/2009 20:06   \n",
       "2  #Christian #Catholic #Conservative #Reagan #Re...  28/02/2009 18:57   \n",
       "3  #Browns #Indians #ClevelandProud #[]_[] #Cavs ...  07/03/2019 01:45   \n",
       "4  🖊️Official Twitter handle of Department of Inf...  12/02/2017 06:45   \n",
       "\n",
       "   user_followers  user_friends  user_favourites  user_verified  \\\n",
       "0             624           950            18775          False   \n",
       "1            2253          1677               24           True   \n",
       "2            9275          9525             7254          False   \n",
       "3             197           987             1488          False   \n",
       "4          101009           168              101          False   \n",
       "\n",
       "               date                                               text  \\\n",
       "0  25/07/2020 12:27  If I smelled the scent of hand sanitizers toda...   \n",
       "1  25/07/2020 12:27  Hey @Yankees @YankeesPR and @MLB - wouldn't it...   \n",
       "2  25/07/2020 12:27  @diane3443 @wdunlap @realDonaldTrump Trump nev...   \n",
       "3  25/07/2020 12:27  @brookbanktv The one gift #COVID19 has give me...   \n",
       "4  25/07/2020 12:27  25 July : Media Bulletin on Novel #CoronaVirus...   \n",
       "\n",
       "                            hashtags               source  is_retweet  \n",
       "0                                NaN   Twitter for iPhone       False  \n",
       "1                                NaN  Twitter for Android       False  \n",
       "2                        ['COVID19']  Twitter for Android       False  \n",
       "3                        ['COVID19']   Twitter for iPhone       False  \n",
       "4  ['CoronaVirusUpdates', 'COVID19']  Twitter for Android       False  "
      ]
     },
     "execution_count": 33,
     "metadata": {},
     "output_type": "execute_result"
    }
   ],
   "source": [
    "df1.head()"
   ]
  },
  {
   "cell_type": "code",
   "execution_count": 34,
   "id": "8148ec9e",
   "metadata": {
    "id": "d718d057",
    "outputId": "7f545a61-eb10-438f-9961-0365ced969ab",
    "vscode": {
     "languageId": "python"
    }
   },
   "outputs": [
    {
     "data": {
      "text/html": [
       "<div>\n",
       "<style scoped>\n",
       "    .dataframe tbody tr th:only-of-type {\n",
       "        vertical-align: middle;\n",
       "    }\n",
       "\n",
       "    .dataframe tbody tr th {\n",
       "        vertical-align: top;\n",
       "    }\n",
       "\n",
       "    .dataframe thead th {\n",
       "        text-align: right;\n",
       "    }\n",
       "</style>\n",
       "<table border=\"1\" class=\"dataframe\">\n",
       "  <thead>\n",
       "    <tr style=\"text-align: right;\">\n",
       "      <th></th>\n",
       "      <th>user_name</th>\n",
       "      <th>user_location</th>\n",
       "      <th>user_description</th>\n",
       "      <th>user_created</th>\n",
       "      <th>user_followers</th>\n",
       "      <th>user_friends</th>\n",
       "      <th>user_favourites</th>\n",
       "      <th>user_verified</th>\n",
       "      <th>date</th>\n",
       "      <th>text</th>\n",
       "      <th>hashtags</th>\n",
       "      <th>source</th>\n",
       "      <th>is_retweet</th>\n",
       "    </tr>\n",
       "  </thead>\n",
       "  <tbody>\n",
       "    <tr>\n",
       "      <th>179103</th>\n",
       "      <td>AJIMATI AbdulRahman O.</td>\n",
       "      <td>Ilorin, Nigeria</td>\n",
       "      <td>Animal Scientist|| Muslim|| Real Madrid/Chelsea</td>\n",
       "      <td>30/12/2013 18:59</td>\n",
       "      <td>412</td>\n",
       "      <td>1609</td>\n",
       "      <td>1062</td>\n",
       "      <td>False</td>\n",
       "      <td>29/08/2020 19:44</td>\n",
       "      <td>Thanks @IamOhmai for nominating me for the @WH...</td>\n",
       "      <td>['WearAMask']</td>\n",
       "      <td>Twitter for Android</td>\n",
       "      <td>False</td>\n",
       "    </tr>\n",
       "    <tr>\n",
       "      <th>179104</th>\n",
       "      <td>Jason</td>\n",
       "      <td>Ontario</td>\n",
       "      <td>When your cat has more baking soda than Ninja ...</td>\n",
       "      <td>21/12/2011 04:41</td>\n",
       "      <td>150</td>\n",
       "      <td>182</td>\n",
       "      <td>7295</td>\n",
       "      <td>False</td>\n",
       "      <td>29/08/2020 19:44</td>\n",
       "      <td>2020! The year of insanity! Lol! #COVID19 http...</td>\n",
       "      <td>['COVID19']</td>\n",
       "      <td>Twitter for Android</td>\n",
       "      <td>False</td>\n",
       "    </tr>\n",
       "    <tr>\n",
       "      <th>179105</th>\n",
       "      <td>BEEHEMOTH ⏳</td>\n",
       "      <td>🇨🇦 Canada</td>\n",
       "      <td>⚒️ The Architects of Free Trade ⚒️ Really Did ...</td>\n",
       "      <td>13/07/2016 17:21</td>\n",
       "      <td>1623</td>\n",
       "      <td>2160</td>\n",
       "      <td>98000</td>\n",
       "      <td>False</td>\n",
       "      <td>29/08/2020 19:44</td>\n",
       "      <td>@CTVNews A powerful painting by Juan Lucena. I...</td>\n",
       "      <td>NaN</td>\n",
       "      <td>Twitter Web App</td>\n",
       "      <td>False</td>\n",
       "    </tr>\n",
       "    <tr>\n",
       "      <th>179106</th>\n",
       "      <td>Gary DelPonte</td>\n",
       "      <td>New York City</td>\n",
       "      <td>Global UX UI Visual Designer. StoryTeller, Mus...</td>\n",
       "      <td>27/10/2009 17:43</td>\n",
       "      <td>1338</td>\n",
       "      <td>1111</td>\n",
       "      <td>0</td>\n",
       "      <td>False</td>\n",
       "      <td>29/08/2020 19:44</td>\n",
       "      <td>More than 1,200 students test positive for #CO...</td>\n",
       "      <td>['COVID19']</td>\n",
       "      <td>Twitter for iPhone</td>\n",
       "      <td>False</td>\n",
       "    </tr>\n",
       "    <tr>\n",
       "      <th>179107</th>\n",
       "      <td>TUKY II</td>\n",
       "      <td>Aliwal North, South Africa</td>\n",
       "      <td>TOKELO SEKHOPA | TUKY II | LAST BORN | EISH TU...</td>\n",
       "      <td>14/04/2018 17:30</td>\n",
       "      <td>97</td>\n",
       "      <td>1697</td>\n",
       "      <td>566</td>\n",
       "      <td>False</td>\n",
       "      <td>29/08/2020 19:44</td>\n",
       "      <td>I stop when I see a Stop\\n\\n@SABCNews\\n@Izinda...</td>\n",
       "      <td>NaN</td>\n",
       "      <td>Twitter for Android</td>\n",
       "      <td>False</td>\n",
       "    </tr>\n",
       "  </tbody>\n",
       "</table>\n",
       "</div>"
      ],
      "text/plain": [
       "                     user_name               user_location  \\\n",
       "179103  AJIMATI AbdulRahman O.             Ilorin, Nigeria   \n",
       "179104                   Jason                     Ontario   \n",
       "179105             BEEHEMOTH ⏳                   🇨🇦 Canada   \n",
       "179106           Gary DelPonte               New York City   \n",
       "179107                 TUKY II  Aliwal North, South Africa   \n",
       "\n",
       "                                         user_description      user_created  \\\n",
       "179103    Animal Scientist|| Muslim|| Real Madrid/Chelsea  30/12/2013 18:59   \n",
       "179104  When your cat has more baking soda than Ninja ...  21/12/2011 04:41   \n",
       "179105  ⚒️ The Architects of Free Trade ⚒️ Really Did ...  13/07/2016 17:21   \n",
       "179106  Global UX UI Visual Designer. StoryTeller, Mus...  27/10/2009 17:43   \n",
       "179107  TOKELO SEKHOPA | TUKY II | LAST BORN | EISH TU...  14/04/2018 17:30   \n",
       "\n",
       "        user_followers  user_friends  user_favourites  user_verified  \\\n",
       "179103             412          1609             1062          False   \n",
       "179104             150           182             7295          False   \n",
       "179105            1623          2160            98000          False   \n",
       "179106            1338          1111                0          False   \n",
       "179107              97          1697              566          False   \n",
       "\n",
       "                    date                                               text  \\\n",
       "179103  29/08/2020 19:44  Thanks @IamOhmai for nominating me for the @WH...   \n",
       "179104  29/08/2020 19:44  2020! The year of insanity! Lol! #COVID19 http...   \n",
       "179105  29/08/2020 19:44  @CTVNews A powerful painting by Juan Lucena. I...   \n",
       "179106  29/08/2020 19:44  More than 1,200 students test positive for #CO...   \n",
       "179107  29/08/2020 19:44  I stop when I see a Stop\\n\\n@SABCNews\\n@Izinda...   \n",
       "\n",
       "             hashtags               source  is_retweet  \n",
       "179103  ['WearAMask']  Twitter for Android       False  \n",
       "179104    ['COVID19']  Twitter for Android       False  \n",
       "179105            NaN      Twitter Web App       False  \n",
       "179106    ['COVID19']   Twitter for iPhone       False  \n",
       "179107            NaN  Twitter for Android       False  "
      ]
     },
     "execution_count": 34,
     "metadata": {},
     "output_type": "execute_result"
    }
   ],
   "source": [
    "df1.tail()"
   ]
  },
  {
   "cell_type": "code",
   "execution_count": 35,
   "id": "27e87a79",
   "metadata": {
    "id": "3899543d",
    "outputId": "c4c7d291-198f-4c90-b430-79598f4e180f",
    "vscode": {
     "languageId": "python"
    }
   },
   "outputs": [
    {
     "name": "stdout",
     "output_type": "stream",
     "text": [
      "<class 'pandas.core.frame.DataFrame'>\n",
      "RangeIndex: 179108 entries, 0 to 179107\n",
      "Data columns (total 13 columns):\n",
      " #   Column            Non-Null Count   Dtype \n",
      "---  ------            --------------   ----- \n",
      " 0   user_name         179108 non-null  object\n",
      " 1   user_location     142337 non-null  object\n",
      " 2   user_description  168822 non-null  object\n",
      " 3   user_created      179108 non-null  object\n",
      " 4   user_followers    179108 non-null  int64 \n",
      " 5   user_friends      179108 non-null  int64 \n",
      " 6   user_favourites   179108 non-null  int64 \n",
      " 7   user_verified     179108 non-null  bool  \n",
      " 8   date              179108 non-null  object\n",
      " 9   text              179108 non-null  object\n",
      " 10  hashtags          127774 non-null  object\n",
      " 11  source            179031 non-null  object\n",
      " 12  is_retweet        179108 non-null  bool  \n",
      "dtypes: bool(2), int64(3), object(8)\n",
      "memory usage: 15.4+ MB\n"
     ]
    }
   ],
   "source": [
    "df1.info() #information about the data set"
   ]
  },
  {
   "cell_type": "code",
   "execution_count": 36,
   "id": "813847d1",
   "metadata": {
    "id": "54f01b4e",
    "outputId": "bfbc78e1-1ee3-4b28-c517-69705ba92a96",
    "scrolled": true,
    "vscode": {
     "languageId": "python"
    }
   },
   "outputs": [
    {
     "name": "stdout",
     "output_type": "stream",
     "text": [
      "user_name               0\n",
      "user_location       36771\n",
      "user_description    10286\n",
      "user_created            0\n",
      "user_followers          0\n",
      "user_friends            0\n",
      "user_favourites         0\n",
      "user_verified           0\n",
      "date                    0\n",
      "text                    0\n",
      "hashtags            51334\n",
      "source                 77\n",
      "is_retweet              0\n",
      "dtype: int64\n"
     ]
    }
   ],
   "source": [
    "print(df1.isnull().sum())"
   ]
  },
  {
   "cell_type": "markdown",
   "id": "5dc6684d",
   "metadata": {},
   "source": [
    "## Word Cloud"
   ]
  },
  {
   "cell_type": "code",
   "execution_count": 37,
   "id": "ef297ff6",
   "metadata": {},
   "outputs": [
    {
     "name": "stdout",
     "output_type": "stream",
     "text": [
      "Requirement already satisfied: wordcloud in c:\\users\\multiflow\\anaconda3\\lib\\site-packages (1.9.2)\n",
      "Requirement already satisfied: numpy>=1.6.1 in c:\\users\\multiflow\\anaconda3\\lib\\site-packages (from wordcloud) (1.24.3)\n",
      "Requirement already satisfied: pillow in c:\\users\\multiflow\\anaconda3\\lib\\site-packages (from wordcloud) (9.4.0)\n",
      "Requirement already satisfied: matplotlib in c:\\users\\multiflow\\anaconda3\\lib\\site-packages (from wordcloud) (3.7.2)\n",
      "Requirement already satisfied: contourpy>=1.0.1 in c:\\users\\multiflow\\anaconda3\\lib\\site-packages (from matplotlib->wordcloud) (1.0.5)\n",
      "Requirement already satisfied: cycler>=0.10 in c:\\users\\multiflow\\anaconda3\\lib\\site-packages (from matplotlib->wordcloud) (0.11.0)\n",
      "Requirement already satisfied: fonttools>=4.22.0 in c:\\users\\multiflow\\anaconda3\\lib\\site-packages (from matplotlib->wordcloud) (4.25.0)\n",
      "Requirement already satisfied: kiwisolver>=1.0.1 in c:\\users\\multiflow\\anaconda3\\lib\\site-packages (from matplotlib->wordcloud) (1.4.4)\n",
      "Requirement already satisfied: packaging>=20.0 in c:\\users\\multiflow\\anaconda3\\lib\\site-packages (from matplotlib->wordcloud) (23.1)\n",
      "Requirement already satisfied: pyparsing<3.1,>=2.3.1 in c:\\users\\multiflow\\anaconda3\\lib\\site-packages (from matplotlib->wordcloud) (3.0.9)\n",
      "Requirement already satisfied: python-dateutil>=2.7 in c:\\users\\multiflow\\anaconda3\\lib\\site-packages (from matplotlib->wordcloud) (2.8.2)\n",
      "Requirement already satisfied: six>=1.5 in c:\\users\\multiflow\\anaconda3\\lib\\site-packages (from python-dateutil>=2.7->matplotlib->wordcloud) (1.16.0)\n",
      "Note: you may need to restart the kernel to use updated packages.\n"
     ]
    }
   ],
   "source": [
    "pip install wordcloud"
   ]
  },
  {
   "cell_type": "code",
   "execution_count": 38,
   "id": "965703b5",
   "metadata": {},
   "outputs": [
    {
     "ename": "FileNotFoundError",
     "evalue": "[Errno 2] No such file or directory: 'sample_text.txt'",
     "output_type": "error",
     "traceback": [
      "\u001b[1;31m---------------------------------------------------------------------------\u001b[0m",
      "\u001b[1;31mFileNotFoundError\u001b[0m                         Traceback (most recent call last)",
      "Cell \u001b[1;32mIn[38], line 4\u001b[0m\n\u001b[0;32m      1\u001b[0m \u001b[38;5;28;01mfrom\u001b[39;00m \u001b[38;5;21;01mwordcloud\u001b[39;00m \u001b[38;5;28;01mimport\u001b[39;00m WordCloud\n\u001b[0;32m      3\u001b[0m \u001b[38;5;66;03m# Read text from a file\u001b[39;00m\n\u001b[1;32m----> 4\u001b[0m \u001b[38;5;28;01mwith\u001b[39;00m \u001b[38;5;28mopen\u001b[39m(\u001b[38;5;124m'\u001b[39m\u001b[38;5;124msample_text.txt\u001b[39m\u001b[38;5;124m'\u001b[39m, \u001b[38;5;124m'\u001b[39m\u001b[38;5;124mr\u001b[39m\u001b[38;5;124m'\u001b[39m) \u001b[38;5;28;01mas\u001b[39;00m file:\n\u001b[0;32m      5\u001b[0m     text_data \u001b[38;5;241m=\u001b[39m file\u001b[38;5;241m.\u001b[39mread()\n\u001b[0;32m      7\u001b[0m \u001b[38;5;66;03m# Create a WordCloud object\u001b[39;00m\n",
      "File \u001b[1;32m~\\anaconda3\\Lib\\site-packages\\IPython\\core\\interactiveshell.py:286\u001b[0m, in \u001b[0;36m_modified_open\u001b[1;34m(file, *args, **kwargs)\u001b[0m\n\u001b[0;32m    279\u001b[0m \u001b[38;5;28;01mif\u001b[39;00m file \u001b[38;5;129;01min\u001b[39;00m {\u001b[38;5;241m0\u001b[39m, \u001b[38;5;241m1\u001b[39m, \u001b[38;5;241m2\u001b[39m}:\n\u001b[0;32m    280\u001b[0m     \u001b[38;5;28;01mraise\u001b[39;00m \u001b[38;5;167;01mValueError\u001b[39;00m(\n\u001b[0;32m    281\u001b[0m         \u001b[38;5;124mf\u001b[39m\u001b[38;5;124m\"\u001b[39m\u001b[38;5;124mIPython won\u001b[39m\u001b[38;5;124m'\u001b[39m\u001b[38;5;124mt let you open fd=\u001b[39m\u001b[38;5;132;01m{\u001b[39;00mfile\u001b[38;5;132;01m}\u001b[39;00m\u001b[38;5;124m by default \u001b[39m\u001b[38;5;124m\"\u001b[39m\n\u001b[0;32m    282\u001b[0m         \u001b[38;5;124m\"\u001b[39m\u001b[38;5;124mas it is likely to crash IPython. If you know what you are doing, \u001b[39m\u001b[38;5;124m\"\u001b[39m\n\u001b[0;32m    283\u001b[0m         \u001b[38;5;124m\"\u001b[39m\u001b[38;5;124myou can use builtins\u001b[39m\u001b[38;5;124m'\u001b[39m\u001b[38;5;124m open.\u001b[39m\u001b[38;5;124m\"\u001b[39m\n\u001b[0;32m    284\u001b[0m     )\n\u001b[1;32m--> 286\u001b[0m \u001b[38;5;28;01mreturn\u001b[39;00m io_open(file, \u001b[38;5;241m*\u001b[39margs, \u001b[38;5;241m*\u001b[39m\u001b[38;5;241m*\u001b[39mkwargs)\n",
      "\u001b[1;31mFileNotFoundError\u001b[0m: [Errno 2] No such file or directory: 'sample_text.txt'"
     ]
    }
   ],
   "source": [
    "from wordcloud import WordCloud\n",
    "\n",
    "# Read text from a file\n",
    "with open('sample_text.txt', 'r') as file:\n",
    "    text_data = file.read()\n",
    "\n",
    "# Create a WordCloud object\n",
    "wordcloud = WordCloud(width=800, height=400, background_color=\"white\").generate(text_data)\n",
    "\n",
    "# Display the generated image:\n",
    "plt.figure(figsize=(10, 5))\n",
    "plt.imshow(wordcloud, interpolation='bilinear')\n",
    "plt.axis(\"off\")\n",
    "plt.show()"
   ]
  },
  {
   "cell_type": "markdown",
   "id": "f17214e6",
   "metadata": {
    "id": "f17214e6"
   },
   "source": [
    "# CA2 - Dashboard Creation"
   ]
  },
  {
   "cell_type": "code",
   "execution_count": null,
   "id": "3933bf5a",
   "metadata": {},
   "outputs": [],
   "source": []
  },
  {
   "cell_type": "code",
   "execution_count": 57,
   "id": "756dd66e",
   "metadata": {},
   "outputs": [
    {
     "data": {
      "text/html": [
       "<div>\n",
       "<style scoped>\n",
       "    .dataframe tbody tr th:only-of-type {\n",
       "        vertical-align: middle;\n",
       "    }\n",
       "\n",
       "    .dataframe tbody tr th {\n",
       "        vertical-align: top;\n",
       "    }\n",
       "\n",
       "    .dataframe thead th {\n",
       "        text-align: right;\n",
       "    }\n",
       "</style>\n",
       "<table border=\"1\" class=\"dataframe\">\n",
       "  <thead>\n",
       "    <tr style=\"text-align: right;\">\n",
       "      <th></th>\n",
       "      <th>Order ID</th>\n",
       "      <th>Ship Date</th>\n",
       "      <th>Ship Mode</th>\n",
       "      <th>Customer ID</th>\n",
       "      <th>Customer Name</th>\n",
       "      <th>Segment</th>\n",
       "      <th>Country</th>\n",
       "      <th>City</th>\n",
       "      <th>State</th>\n",
       "      <th>Postal Code</th>\n",
       "      <th>Region</th>\n",
       "      <th>Product ID</th>\n",
       "      <th>Category</th>\n",
       "      <th>Sub-Category</th>\n",
       "      <th>Product Name</th>\n",
       "      <th>Sales</th>\n",
       "    </tr>\n",
       "    <tr>\n",
       "      <th>Order Date</th>\n",
       "      <th></th>\n",
       "      <th></th>\n",
       "      <th></th>\n",
       "      <th></th>\n",
       "      <th></th>\n",
       "      <th></th>\n",
       "      <th></th>\n",
       "      <th></th>\n",
       "      <th></th>\n",
       "      <th></th>\n",
       "      <th></th>\n",
       "      <th></th>\n",
       "      <th></th>\n",
       "      <th></th>\n",
       "      <th></th>\n",
       "      <th></th>\n",
       "    </tr>\n",
       "  </thead>\n",
       "  <tbody>\n",
       "    <tr>\n",
       "      <th>2015-01-03</th>\n",
       "      <td>CA-2015-103800</td>\n",
       "      <td>07/01/2015</td>\n",
       "      <td>Standard Class</td>\n",
       "      <td>DP-13000</td>\n",
       "      <td>Darren Powers</td>\n",
       "      <td>Consumer</td>\n",
       "      <td>United States</td>\n",
       "      <td>Houston</td>\n",
       "      <td>Texas</td>\n",
       "      <td>77095.0</td>\n",
       "      <td>Central</td>\n",
       "      <td>OFF-PA-10000174</td>\n",
       "      <td>Office Supplies</td>\n",
       "      <td>Paper</td>\n",
       "      <td>Message Book, Wirebound, Four 5 1/2\" X 4\" Form...</td>\n",
       "      <td>16.448</td>\n",
       "    </tr>\n",
       "    <tr>\n",
       "      <th>2015-01-04</th>\n",
       "      <td>CA-2015-112326</td>\n",
       "      <td>08/01/2015</td>\n",
       "      <td>Standard Class</td>\n",
       "      <td>PO-19195</td>\n",
       "      <td>Phillina Ober</td>\n",
       "      <td>Home Office</td>\n",
       "      <td>United States</td>\n",
       "      <td>Naperville</td>\n",
       "      <td>Illinois</td>\n",
       "      <td>60540.0</td>\n",
       "      <td>Central</td>\n",
       "      <td>OFF-BI-10004094</td>\n",
       "      <td>Office Supplies</td>\n",
       "      <td>Binders</td>\n",
       "      <td>GBC Standard Plastic Binding Systems Combs</td>\n",
       "      <td>3.540</td>\n",
       "    </tr>\n",
       "    <tr>\n",
       "      <th>2015-01-04</th>\n",
       "      <td>CA-2015-112326</td>\n",
       "      <td>08/01/2015</td>\n",
       "      <td>Standard Class</td>\n",
       "      <td>PO-19195</td>\n",
       "      <td>Phillina Ober</td>\n",
       "      <td>Home Office</td>\n",
       "      <td>United States</td>\n",
       "      <td>Naperville</td>\n",
       "      <td>Illinois</td>\n",
       "      <td>60540.0</td>\n",
       "      <td>Central</td>\n",
       "      <td>OFF-ST-10002743</td>\n",
       "      <td>Office Supplies</td>\n",
       "      <td>Storage</td>\n",
       "      <td>SAFCO Boltless Steel Shelving</td>\n",
       "      <td>272.736</td>\n",
       "    </tr>\n",
       "    <tr>\n",
       "      <th>2015-01-04</th>\n",
       "      <td>CA-2015-112326</td>\n",
       "      <td>08/01/2015</td>\n",
       "      <td>Standard Class</td>\n",
       "      <td>PO-19195</td>\n",
       "      <td>Phillina Ober</td>\n",
       "      <td>Home Office</td>\n",
       "      <td>United States</td>\n",
       "      <td>Naperville</td>\n",
       "      <td>Illinois</td>\n",
       "      <td>60540.0</td>\n",
       "      <td>Central</td>\n",
       "      <td>OFF-LA-10003223</td>\n",
       "      <td>Office Supplies</td>\n",
       "      <td>Labels</td>\n",
       "      <td>Avery 508</td>\n",
       "      <td>11.784</td>\n",
       "    </tr>\n",
       "    <tr>\n",
       "      <th>2015-01-05</th>\n",
       "      <td>CA-2015-141817</td>\n",
       "      <td>12/01/2015</td>\n",
       "      <td>Standard Class</td>\n",
       "      <td>MB-18085</td>\n",
       "      <td>Mick Brown</td>\n",
       "      <td>Consumer</td>\n",
       "      <td>United States</td>\n",
       "      <td>Philadelphia</td>\n",
       "      <td>Pennsylvania</td>\n",
       "      <td>19143.0</td>\n",
       "      <td>East</td>\n",
       "      <td>OFF-AR-10003478</td>\n",
       "      <td>Office Supplies</td>\n",
       "      <td>Art</td>\n",
       "      <td>Avery Hi-Liter EverBold Pen Style Fluorescent ...</td>\n",
       "      <td>19.536</td>\n",
       "    </tr>\n",
       "  </tbody>\n",
       "</table>\n",
       "</div>"
      ],
      "text/plain": [
       "                  Order ID   Ship Date       Ship Mode Customer ID  \\\n",
       "Order Date                                                           \n",
       "2015-01-03  CA-2015-103800  07/01/2015  Standard Class    DP-13000   \n",
       "2015-01-04  CA-2015-112326  08/01/2015  Standard Class    PO-19195   \n",
       "2015-01-04  CA-2015-112326  08/01/2015  Standard Class    PO-19195   \n",
       "2015-01-04  CA-2015-112326  08/01/2015  Standard Class    PO-19195   \n",
       "2015-01-05  CA-2015-141817  12/01/2015  Standard Class    MB-18085   \n",
       "\n",
       "            Customer Name      Segment        Country          City  \\\n",
       "Order Date                                                            \n",
       "2015-01-03  Darren Powers     Consumer  United States       Houston   \n",
       "2015-01-04  Phillina Ober  Home Office  United States    Naperville   \n",
       "2015-01-04  Phillina Ober  Home Office  United States    Naperville   \n",
       "2015-01-04  Phillina Ober  Home Office  United States    Naperville   \n",
       "2015-01-05     Mick Brown     Consumer  United States  Philadelphia   \n",
       "\n",
       "                   State  Postal Code   Region       Product ID  \\\n",
       "Order Date                                                        \n",
       "2015-01-03         Texas      77095.0  Central  OFF-PA-10000174   \n",
       "2015-01-04      Illinois      60540.0  Central  OFF-BI-10004094   \n",
       "2015-01-04      Illinois      60540.0  Central  OFF-ST-10002743   \n",
       "2015-01-04      Illinois      60540.0  Central  OFF-LA-10003223   \n",
       "2015-01-05  Pennsylvania      19143.0     East  OFF-AR-10003478   \n",
       "\n",
       "                   Category Sub-Category  \\\n",
       "Order Date                                 \n",
       "2015-01-03  Office Supplies        Paper   \n",
       "2015-01-04  Office Supplies      Binders   \n",
       "2015-01-04  Office Supplies      Storage   \n",
       "2015-01-04  Office Supplies       Labels   \n",
       "2015-01-05  Office Supplies          Art   \n",
       "\n",
       "                                                 Product Name    Sales  \n",
       "Order Date                                                              \n",
       "2015-01-03  Message Book, Wirebound, Four 5 1/2\" X 4\" Form...   16.448  \n",
       "2015-01-04         GBC Standard Plastic Binding Systems Combs    3.540  \n",
       "2015-01-04                      SAFCO Boltless Steel Shelving  272.736  \n",
       "2015-01-04                                          Avery 508   11.784  \n",
       "2015-01-05  Avery Hi-Liter EverBold Pen Style Fluorescent ...   19.536  "
      ]
     },
     "execution_count": 57,
     "metadata": {},
     "output_type": "execute_result"
    }
   ],
   "source": [
    "df.head()"
   ]
  },
  {
   "cell_type": "code",
   "execution_count": 58,
   "id": "36e70b91",
   "metadata": {},
   "outputs": [
    {
     "data": {
      "text/html": [
       "<div>\n",
       "<style scoped>\n",
       "    .dataframe tbody tr th:only-of-type {\n",
       "        vertical-align: middle;\n",
       "    }\n",
       "\n",
       "    .dataframe tbody tr th {\n",
       "        vertical-align: top;\n",
       "    }\n",
       "\n",
       "    .dataframe thead th {\n",
       "        text-align: right;\n",
       "    }\n",
       "</style>\n",
       "<table border=\"1\" class=\"dataframe\">\n",
       "  <thead>\n",
       "    <tr style=\"text-align: right;\">\n",
       "      <th></th>\n",
       "      <th>Order ID</th>\n",
       "      <th>Ship Date</th>\n",
       "      <th>Ship Mode</th>\n",
       "      <th>Customer ID</th>\n",
       "      <th>Customer Name</th>\n",
       "      <th>Segment</th>\n",
       "      <th>Country</th>\n",
       "      <th>City</th>\n",
       "      <th>State</th>\n",
       "      <th>Postal Code</th>\n",
       "      <th>Region</th>\n",
       "      <th>Product ID</th>\n",
       "      <th>Category</th>\n",
       "      <th>Sub-Category</th>\n",
       "      <th>Product Name</th>\n",
       "      <th>Sales</th>\n",
       "    </tr>\n",
       "    <tr>\n",
       "      <th>Order Date</th>\n",
       "      <th></th>\n",
       "      <th></th>\n",
       "      <th></th>\n",
       "      <th></th>\n",
       "      <th></th>\n",
       "      <th></th>\n",
       "      <th></th>\n",
       "      <th></th>\n",
       "      <th></th>\n",
       "      <th></th>\n",
       "      <th></th>\n",
       "      <th></th>\n",
       "      <th></th>\n",
       "      <th></th>\n",
       "      <th></th>\n",
       "      <th></th>\n",
       "    </tr>\n",
       "  </thead>\n",
       "  <tbody>\n",
       "    <tr>\n",
       "      <th>2018-12-30</th>\n",
       "      <td>CA-2018-143259</td>\n",
       "      <td>03/01/2019</td>\n",
       "      <td>Standard Class</td>\n",
       "      <td>PO-18865</td>\n",
       "      <td>Patrick O'Donnell</td>\n",
       "      <td>Consumer</td>\n",
       "      <td>United States</td>\n",
       "      <td>New York City</td>\n",
       "      <td>New York</td>\n",
       "      <td>10009.0</td>\n",
       "      <td>East</td>\n",
       "      <td>FUR-BO-10003441</td>\n",
       "      <td>Furniture</td>\n",
       "      <td>Bookcases</td>\n",
       "      <td>Bush Westfield Collection Bookcases, Fully Ass...</td>\n",
       "      <td>323.136</td>\n",
       "    </tr>\n",
       "    <tr>\n",
       "      <th>2018-12-30</th>\n",
       "      <td>CA-2018-143259</td>\n",
       "      <td>03/01/2019</td>\n",
       "      <td>Standard Class</td>\n",
       "      <td>PO-18865</td>\n",
       "      <td>Patrick O'Donnell</td>\n",
       "      <td>Consumer</td>\n",
       "      <td>United States</td>\n",
       "      <td>New York City</td>\n",
       "      <td>New York</td>\n",
       "      <td>10009.0</td>\n",
       "      <td>East</td>\n",
       "      <td>OFF-BI-10003684</td>\n",
       "      <td>Office Supplies</td>\n",
       "      <td>Binders</td>\n",
       "      <td>Wilson Jones Legal Size Ring Binders</td>\n",
       "      <td>52.776</td>\n",
       "    </tr>\n",
       "    <tr>\n",
       "      <th>2018-12-30</th>\n",
       "      <td>CA-2018-143259</td>\n",
       "      <td>03/01/2019</td>\n",
       "      <td>Standard Class</td>\n",
       "      <td>PO-18865</td>\n",
       "      <td>Patrick O'Donnell</td>\n",
       "      <td>Consumer</td>\n",
       "      <td>United States</td>\n",
       "      <td>New York City</td>\n",
       "      <td>New York</td>\n",
       "      <td>10009.0</td>\n",
       "      <td>East</td>\n",
       "      <td>TEC-PH-10004774</td>\n",
       "      <td>Technology</td>\n",
       "      <td>Phones</td>\n",
       "      <td>Gear Head AU3700S Headset</td>\n",
       "      <td>90.930</td>\n",
       "    </tr>\n",
       "    <tr>\n",
       "      <th>2018-12-30</th>\n",
       "      <td>CA-2018-115427</td>\n",
       "      <td>03/01/2019</td>\n",
       "      <td>Standard Class</td>\n",
       "      <td>EB-13975</td>\n",
       "      <td>Erica Bern</td>\n",
       "      <td>Corporate</td>\n",
       "      <td>United States</td>\n",
       "      <td>Fairfield</td>\n",
       "      <td>California</td>\n",
       "      <td>94533.0</td>\n",
       "      <td>West</td>\n",
       "      <td>OFF-BI-10002103</td>\n",
       "      <td>Office Supplies</td>\n",
       "      <td>Binders</td>\n",
       "      <td>Cardinal Slant-D Ring Binder, Heavy Gauge Vinyl</td>\n",
       "      <td>13.904</td>\n",
       "    </tr>\n",
       "    <tr>\n",
       "      <th>2018-12-30</th>\n",
       "      <td>CA-2018-156720</td>\n",
       "      <td>03/01/2019</td>\n",
       "      <td>Standard Class</td>\n",
       "      <td>JM-15580</td>\n",
       "      <td>Jill Matthias</td>\n",
       "      <td>Consumer</td>\n",
       "      <td>United States</td>\n",
       "      <td>Loveland</td>\n",
       "      <td>Colorado</td>\n",
       "      <td>80538.0</td>\n",
       "      <td>West</td>\n",
       "      <td>OFF-FA-10003472</td>\n",
       "      <td>Office Supplies</td>\n",
       "      <td>Fasteners</td>\n",
       "      <td>Bagged Rubber Bands</td>\n",
       "      <td>3.024</td>\n",
       "    </tr>\n",
       "  </tbody>\n",
       "</table>\n",
       "</div>"
      ],
      "text/plain": [
       "                  Order ID   Ship Date       Ship Mode Customer ID  \\\n",
       "Order Date                                                           \n",
       "2018-12-30  CA-2018-143259  03/01/2019  Standard Class    PO-18865   \n",
       "2018-12-30  CA-2018-143259  03/01/2019  Standard Class    PO-18865   \n",
       "2018-12-30  CA-2018-143259  03/01/2019  Standard Class    PO-18865   \n",
       "2018-12-30  CA-2018-115427  03/01/2019  Standard Class    EB-13975   \n",
       "2018-12-30  CA-2018-156720  03/01/2019  Standard Class    JM-15580   \n",
       "\n",
       "                Customer Name    Segment        Country           City  \\\n",
       "Order Date                                                               \n",
       "2018-12-30  Patrick O'Donnell   Consumer  United States  New York City   \n",
       "2018-12-30  Patrick O'Donnell   Consumer  United States  New York City   \n",
       "2018-12-30  Patrick O'Donnell   Consumer  United States  New York City   \n",
       "2018-12-30         Erica Bern  Corporate  United States      Fairfield   \n",
       "2018-12-30      Jill Matthias   Consumer  United States       Loveland   \n",
       "\n",
       "                 State  Postal Code Region       Product ID         Category  \\\n",
       "Order Date                                                                     \n",
       "2018-12-30    New York      10009.0   East  FUR-BO-10003441        Furniture   \n",
       "2018-12-30    New York      10009.0   East  OFF-BI-10003684  Office Supplies   \n",
       "2018-12-30    New York      10009.0   East  TEC-PH-10004774       Technology   \n",
       "2018-12-30  California      94533.0   West  OFF-BI-10002103  Office Supplies   \n",
       "2018-12-30    Colorado      80538.0   West  OFF-FA-10003472  Office Supplies   \n",
       "\n",
       "           Sub-Category                                       Product Name  \\\n",
       "Order Date                                                                   \n",
       "2018-12-30    Bookcases  Bush Westfield Collection Bookcases, Fully Ass...   \n",
       "2018-12-30      Binders               Wilson Jones Legal Size Ring Binders   \n",
       "2018-12-30       Phones                          Gear Head AU3700S Headset   \n",
       "2018-12-30      Binders    Cardinal Slant-D Ring Binder, Heavy Gauge Vinyl   \n",
       "2018-12-30    Fasteners                                Bagged Rubber Bands   \n",
       "\n",
       "              Sales  \n",
       "Order Date           \n",
       "2018-12-30  323.136  \n",
       "2018-12-30   52.776  \n",
       "2018-12-30   90.930  \n",
       "2018-12-30   13.904  \n",
       "2018-12-30    3.024  "
      ]
     },
     "execution_count": 58,
     "metadata": {},
     "output_type": "execute_result"
    }
   ],
   "source": [
    "df.tail()"
   ]
  },
  {
   "cell_type": "code",
   "execution_count": 15,
   "id": "1ec25c3d",
   "metadata": {
    "scrolled": true
   },
   "outputs": [],
   "source": [
    "# Calculate average sales for each state\n",
    "average_sales = df.groupby('State')['Sales'].mean().reset_index()\n",
    "\n",
    "# Merge the average sales back into the original DataFrame\n",
    "df = pd.merge(df, average_sales, on = 'State', how = 'left')\n",
    "\n",
    "# Rename the new column\n",
    "df.rename(columns = {'Sales_y': 'Average_Sales'}, inplace = True)\n",
    "df.rename(columns = {'Sales_x': 'Sales'}, inplace = True)"
   ]
  },
  {
   "cell_type": "code",
   "execution_count": 16,
   "id": "49b8f8f8",
   "metadata": {},
   "outputs": [
    {
     "data": {
      "text/html": [
       "<div>\n",
       "<style scoped>\n",
       "    .dataframe tbody tr th:only-of-type {\n",
       "        vertical-align: middle;\n",
       "    }\n",
       "\n",
       "    .dataframe tbody tr th {\n",
       "        vertical-align: top;\n",
       "    }\n",
       "\n",
       "    .dataframe thead th {\n",
       "        text-align: right;\n",
       "    }\n",
       "</style>\n",
       "<table border=\"1\" class=\"dataframe\">\n",
       "  <thead>\n",
       "    <tr style=\"text-align: right;\">\n",
       "      <th></th>\n",
       "      <th>Order ID</th>\n",
       "      <th>Ship Date</th>\n",
       "      <th>Ship Mode</th>\n",
       "      <th>Customer ID</th>\n",
       "      <th>Customer Name</th>\n",
       "      <th>Segment</th>\n",
       "      <th>Country</th>\n",
       "      <th>City</th>\n",
       "      <th>State</th>\n",
       "      <th>Postal Code</th>\n",
       "      <th>Region</th>\n",
       "      <th>Product ID</th>\n",
       "      <th>Category</th>\n",
       "      <th>Sub-Category</th>\n",
       "      <th>Product Name</th>\n",
       "      <th>Sales</th>\n",
       "      <th>Average_Sales</th>\n",
       "    </tr>\n",
       "  </thead>\n",
       "  <tbody>\n",
       "    <tr>\n",
       "      <th>0</th>\n",
       "      <td>CA-2015-103800</td>\n",
       "      <td>07/01/2015</td>\n",
       "      <td>Standard Class</td>\n",
       "      <td>DP-13000</td>\n",
       "      <td>Darren Powers</td>\n",
       "      <td>Consumer</td>\n",
       "      <td>United States</td>\n",
       "      <td>Houston</td>\n",
       "      <td>Texas</td>\n",
       "      <td>77095.0</td>\n",
       "      <td>Central</td>\n",
       "      <td>OFF-PA-10000174</td>\n",
       "      <td>Office Supplies</td>\n",
       "      <td>Paper</td>\n",
       "      <td>Message Book, Wirebound, Four 5 1/2\" X 4\" Form...</td>\n",
       "      <td>16.448</td>\n",
       "      <td>173.250290</td>\n",
       "    </tr>\n",
       "    <tr>\n",
       "      <th>1</th>\n",
       "      <td>CA-2015-112326</td>\n",
       "      <td>08/01/2015</td>\n",
       "      <td>Standard Class</td>\n",
       "      <td>PO-19195</td>\n",
       "      <td>Phillina Ober</td>\n",
       "      <td>Home Office</td>\n",
       "      <td>United States</td>\n",
       "      <td>Naperville</td>\n",
       "      <td>Illinois</td>\n",
       "      <td>60540.0</td>\n",
       "      <td>Central</td>\n",
       "      <td>OFF-BI-10004094</td>\n",
       "      <td>Office Supplies</td>\n",
       "      <td>Binders</td>\n",
       "      <td>GBC Standard Plastic Binding Systems Combs</td>\n",
       "      <td>3.540</td>\n",
       "      <td>164.050760</td>\n",
       "    </tr>\n",
       "    <tr>\n",
       "      <th>2</th>\n",
       "      <td>CA-2015-112326</td>\n",
       "      <td>08/01/2015</td>\n",
       "      <td>Standard Class</td>\n",
       "      <td>PO-19195</td>\n",
       "      <td>Phillina Ober</td>\n",
       "      <td>Home Office</td>\n",
       "      <td>United States</td>\n",
       "      <td>Naperville</td>\n",
       "      <td>Illinois</td>\n",
       "      <td>60540.0</td>\n",
       "      <td>Central</td>\n",
       "      <td>OFF-ST-10002743</td>\n",
       "      <td>Office Supplies</td>\n",
       "      <td>Storage</td>\n",
       "      <td>SAFCO Boltless Steel Shelving</td>\n",
       "      <td>272.736</td>\n",
       "      <td>164.050760</td>\n",
       "    </tr>\n",
       "    <tr>\n",
       "      <th>3</th>\n",
       "      <td>CA-2015-112326</td>\n",
       "      <td>08/01/2015</td>\n",
       "      <td>Standard Class</td>\n",
       "      <td>PO-19195</td>\n",
       "      <td>Phillina Ober</td>\n",
       "      <td>Home Office</td>\n",
       "      <td>United States</td>\n",
       "      <td>Naperville</td>\n",
       "      <td>Illinois</td>\n",
       "      <td>60540.0</td>\n",
       "      <td>Central</td>\n",
       "      <td>OFF-LA-10003223</td>\n",
       "      <td>Office Supplies</td>\n",
       "      <td>Labels</td>\n",
       "      <td>Avery 508</td>\n",
       "      <td>11.784</td>\n",
       "      <td>164.050760</td>\n",
       "    </tr>\n",
       "    <tr>\n",
       "      <th>4</th>\n",
       "      <td>CA-2015-141817</td>\n",
       "      <td>12/01/2015</td>\n",
       "      <td>Standard Class</td>\n",
       "      <td>MB-18085</td>\n",
       "      <td>Mick Brown</td>\n",
       "      <td>Consumer</td>\n",
       "      <td>United States</td>\n",
       "      <td>Philadelphia</td>\n",
       "      <td>Pennsylvania</td>\n",
       "      <td>19143.0</td>\n",
       "      <td>East</td>\n",
       "      <td>OFF-AR-10003478</td>\n",
       "      <td>Office Supplies</td>\n",
       "      <td>Art</td>\n",
       "      <td>Avery Hi-Liter EverBold Pen Style Fluorescent ...</td>\n",
       "      <td>19.536</td>\n",
       "      <td>199.788058</td>\n",
       "    </tr>\n",
       "  </tbody>\n",
       "</table>\n",
       "</div>"
      ],
      "text/plain": [
       "         Order ID   Ship Date       Ship Mode Customer ID  Customer Name  \\\n",
       "0  CA-2015-103800  07/01/2015  Standard Class    DP-13000  Darren Powers   \n",
       "1  CA-2015-112326  08/01/2015  Standard Class    PO-19195  Phillina Ober   \n",
       "2  CA-2015-112326  08/01/2015  Standard Class    PO-19195  Phillina Ober   \n",
       "3  CA-2015-112326  08/01/2015  Standard Class    PO-19195  Phillina Ober   \n",
       "4  CA-2015-141817  12/01/2015  Standard Class    MB-18085     Mick Brown   \n",
       "\n",
       "       Segment        Country          City         State  Postal Code  \\\n",
       "0     Consumer  United States       Houston         Texas      77095.0   \n",
       "1  Home Office  United States    Naperville      Illinois      60540.0   \n",
       "2  Home Office  United States    Naperville      Illinois      60540.0   \n",
       "3  Home Office  United States    Naperville      Illinois      60540.0   \n",
       "4     Consumer  United States  Philadelphia  Pennsylvania      19143.0   \n",
       "\n",
       "    Region       Product ID         Category Sub-Category  \\\n",
       "0  Central  OFF-PA-10000174  Office Supplies        Paper   \n",
       "1  Central  OFF-BI-10004094  Office Supplies      Binders   \n",
       "2  Central  OFF-ST-10002743  Office Supplies      Storage   \n",
       "3  Central  OFF-LA-10003223  Office Supplies       Labels   \n",
       "4     East  OFF-AR-10003478  Office Supplies          Art   \n",
       "\n",
       "                                        Product Name    Sales  Average_Sales  \n",
       "0  Message Book, Wirebound, Four 5 1/2\" X 4\" Form...   16.448     173.250290  \n",
       "1         GBC Standard Plastic Binding Systems Combs    3.540     164.050760  \n",
       "2                      SAFCO Boltless Steel Shelving  272.736     164.050760  \n",
       "3                                          Avery 508   11.784     164.050760  \n",
       "4  Avery Hi-Liter EverBold Pen Style Fluorescent ...   19.536     199.788058  "
      ]
     },
     "execution_count": 16,
     "metadata": {},
     "output_type": "execute_result"
    }
   ],
   "source": [
    "df.head()"
   ]
  },
  {
   "cell_type": "code",
   "execution_count": 17,
   "id": "b9a8a4bf",
   "metadata": {},
   "outputs": [],
   "source": [
    "# Convert the 'Shipping_Date' column to datetime objects\n",
    "df['Ship Date'] = pd.to_datetime(df['Ship Date'],format=\"%d/%m/%Y\")\n",
    "\n",
    "# Extract the year from the 'Shipping_Date' column\n",
    "df['Year'] = df['Ship Date'].dt.year"
   ]
  },
  {
   "cell_type": "code",
   "execution_count": 18,
   "id": "4a8ea002",
   "metadata": {},
   "outputs": [
    {
     "name": "stdout",
     "output_type": "stream",
     "text": [
      "   Year        Sales\n",
      "0  2015  467041.8731\n",
      "1  2016  462182.2884\n",
      "2  2017  599339.2850\n",
      "3  2018  718884.2694\n",
      "4  2019    5159.6968\n"
     ]
    }
   ],
   "source": [
    "# Group by the 'Year;\n",
    "grouped_sales_year = df.groupby('Year').agg({'Sales': 'sum'}).reset_index()\n",
    "\n",
    "# Display the grouped data\n",
    "print(grouped_sales_year)"
   ]
  },
  {
   "cell_type": "markdown",
   "id": "19035279",
   "metadata": {},
   "source": [
    "## Sales per State for Years"
   ]
  },
  {
   "cell_type": "code",
   "execution_count": 19,
   "id": "94852a08",
   "metadata": {},
   "outputs": [],
   "source": [
    "# Mapping dictionary for state abbreviations\n",
    "state_abbr = {\n",
    "    'Alabama': 'AL', 'Alaska': 'AK', 'Arizona': 'AZ', 'Arkansas': 'AR', 'California': 'CA',\n",
    "    'Colorado': 'CO', 'Connecticut': 'CT', 'Delaware': 'DE', 'Florida': 'FL', 'Georgia': 'GA',\n",
    "    'Hawaii': 'HI', 'Idaho': 'ID', 'Illinois': 'IL', 'Indiana': 'IN', 'Iowa': 'IA',\n",
    "    'Kansas': 'KS', 'Kentucky': 'KY', 'Louisiana': 'LA', 'Maine': 'ME', 'Maryland': 'MD',\n",
    "    'Massachusetts': 'MA', 'Michigan': 'MI', 'Minnesota': 'MN', 'Mississippi': 'MS',\n",
    "    'Missouri': 'MO', 'Montana': 'MT', 'Nebraska': 'NE', 'Nevada': 'NV', 'New Hampshire': 'NH',\n",
    "    'New Jersey': 'NJ', 'New Mexico': 'NM', 'New York': 'NY', 'North Carolina': 'NC',\n",
    "    'North Dakota': 'ND', 'Ohio': 'OH', 'Oklahoma': 'OK', 'Oregon': 'OR', 'Pennsylvania': 'PA',\n",
    "    'Rhode Island': 'RI', 'South Carolina': 'SC', 'South Dakota': 'SD', 'Tennessee': 'TN',\n",
    "    'Texas': 'TX', 'Utah': 'UT', 'Vermont': 'VT', 'Virginia': 'VA', 'Washington': 'WA',\n",
    "    'West Virginia': 'WV', 'Wisconsin': 'WI', 'Wyoming': 'WY'\n",
    "}\n",
    "\n",
    "# Replace state names with abbreviations\n",
    "df['State'] = df['State'].map(state_abbr)"
   ]
  },
  {
   "cell_type": "code",
   "execution_count": 21,
   "id": "676f7f96",
   "metadata": {},
   "outputs": [],
   "source": [
    "import plotly.express as px"
   ]
  },
  {
   "cell_type": "code",
   "execution_count": 22,
   "id": "19dfc6b5",
   "metadata": {},
   "outputs": [],
   "source": [
    "import plotly.express as px\n",
    "# Plot an interactive map with average sales data and a slider\n",
    "states = px.choropleth(\n",
    "    df,\n",
    "    locations='State',\n",
    "    locationmode='USA-states',\n",
    "    color='Average_Sales',\n",
    "    hover_name='State',\n",
    "    animation_frame='Year',\n",
    "    scope='usa',\n",
    "    color_continuous_scale='Viridis',\n",
    "    title='Average Sales by State (Yearly)',\n",
    "    range_color=[0, max(df['Average_Sales'])]\n",
    ")"
   ]
  },
  {
   "cell_type": "markdown",
   "id": "dbf8df83",
   "metadata": {},
   "source": [
    "## Average Sales for Item and Sub Item based on Year"
   ]
  },
  {
   "cell_type": "code",
   "execution_count": 24,
   "id": "bb3285f6",
   "metadata": {},
   "outputs": [
    {
     "data": {
      "application/vnd.plotly.v1+json": {
       "config": {
        "plotlyServerURL": "https://plot.ly"
       },
       "data": [
        {
         "alignmentgroup": "True",
         "hovertemplate": "Sub-Category=Tables<br>Year=2015<br>Category=%{x}<br>Average Sales=%{y}<extra></extra>",
         "legendgroup": "Tables",
         "marker": {
          "color": "#636efa",
          "pattern": {
           "shape": ""
          }
         },
         "name": "Tables",
         "offsetgroup": "Tables",
         "orientation": "v",
         "showlegend": true,
         "textposition": "outside",
         "texttemplate": "%{y:.2f}",
         "type": "bar",
         "x": [
          "Furniture"
         ],
         "xaxis": "x",
         "y": [
          655.5654130434783
         ],
         "yaxis": "y"
        },
        {
         "alignmentgroup": "True",
         "hovertemplate": "Sub-Category=Chairs<br>Year=2015<br>Category=%{x}<br>Average Sales=%{y}<extra></extra>",
         "legendgroup": "Chairs",
         "marker": {
          "color": "#EF553B",
          "pattern": {
           "shape": ""
          }
         },
         "name": "Chairs",
         "offsetgroup": "Chairs",
         "orientation": "v",
         "showlegend": true,
         "textposition": "outside",
         "texttemplate": "%{y:.2f}",
         "type": "bar",
         "x": [
          "Furniture"
         ],
         "xaxis": "x",
         "y": [
          604.843492063492
         ],
         "yaxis": "y"
        },
        {
         "alignmentgroup": "True",
         "hovertemplate": "Sub-Category=Bookcases<br>Year=2015<br>Category=%{x}<br>Average Sales=%{y}<extra></extra>",
         "legendgroup": "Bookcases",
         "marker": {
          "color": "#00cc96",
          "pattern": {
           "shape": ""
          }
         },
         "name": "Bookcases",
         "offsetgroup": "Bookcases",
         "orientation": "v",
         "showlegend": true,
         "textposition": "outside",
         "texttemplate": "%{y:.2f}",
         "type": "bar",
         "x": [
          "Furniture"
         ],
         "xaxis": "x",
         "y": [
          517.749417142857
         ],
         "yaxis": "y"
        },
        {
         "alignmentgroup": "True",
         "hovertemplate": "Sub-Category=Furnishings<br>Year=2015<br>Category=%{x}<br>Average Sales=%{y}<extra></extra>",
         "legendgroup": "Furnishings",
         "marker": {
          "color": "#ab63fa",
          "pattern": {
           "shape": ""
          }
         },
         "name": "Furnishings",
         "offsetgroup": "Furnishings",
         "orientation": "v",
         "showlegend": true,
         "textposition": "outside",
         "texttemplate": "%{y:.2f}",
         "type": "bar",
         "x": [
          "Furniture"
         ],
         "xaxis": "x",
         "y": [
          76.57954913294797
         ],
         "yaxis": "y"
        },
        {
         "alignmentgroup": "True",
         "hovertemplate": "Sub-Category=Supplies<br>Year=2015<br>Category=%{x}<br>Average Sales=%{y}<extra></extra>",
         "legendgroup": "Supplies",
         "marker": {
          "color": "#FFA15A",
          "pattern": {
           "shape": ""
          }
         },
         "name": "Supplies",
         "offsetgroup": "Supplies",
         "orientation": "v",
         "showlegend": true,
         "textposition": "outside",
         "texttemplate": "%{y:.2f}",
         "type": "bar",
         "x": [
          "Office Supplies"
         ],
         "xaxis": "x",
         "y": [
          377.2531578947369
         ],
         "yaxis": "y"
        },
        {
         "alignmentgroup": "True",
         "hovertemplate": "Sub-Category=Storage<br>Year=2015<br>Category=%{x}<br>Average Sales=%{y}<extra></extra>",
         "legendgroup": "Storage",
         "marker": {
          "color": "#19d3f3",
          "pattern": {
           "shape": ""
          }
         },
         "name": "Storage",
         "offsetgroup": "Storage",
         "orientation": "v",
         "showlegend": true,
         "textposition": "outside",
         "texttemplate": "%{y:.2f}",
         "type": "bar",
         "x": [
          "Office Supplies"
         ],
         "xaxis": "x",
         "y": [
          284.53407100591716
         ],
         "yaxis": "y"
        },
        {
         "alignmentgroup": "True",
         "hovertemplate": "Sub-Category=Binders<br>Year=2015<br>Category=%{x}<br>Average Sales=%{y}<extra></extra>",
         "legendgroup": "Binders",
         "marker": {
          "color": "#FF6692",
          "pattern": {
           "shape": ""
          }
         },
         "name": "Binders",
         "offsetgroup": "Binders",
         "orientation": "v",
         "showlegend": true,
         "textposition": "outside",
         "texttemplate": "%{y:.2f}",
         "type": "bar",
         "x": [
          "Office Supplies"
         ],
         "xaxis": "x",
         "y": [
          152.9003440860215
         ],
         "yaxis": "y"
        },
        {
         "alignmentgroup": "True",
         "hovertemplate": "Sub-Category=Appliances<br>Year=2015<br>Category=%{x}<br>Average Sales=%{y}<extra></extra>",
         "legendgroup": "Appliances",
         "marker": {
          "color": "#B6E880",
          "pattern": {
           "shape": ""
          }
         },
         "name": "Appliances",
         "offsetgroup": "Appliances",
         "orientation": "v",
         "showlegend": true,
         "textposition": "outside",
         "texttemplate": "%{y:.2f}",
         "type": "bar",
         "x": [
          "Office Supplies"
         ],
         "xaxis": "x",
         "y": [
          147.78438888888888
         ],
         "yaxis": "y"
        },
        {
         "alignmentgroup": "True",
         "hovertemplate": "Sub-Category=Envelopes<br>Year=2015<br>Category=%{x}<br>Average Sales=%{y}<extra></extra>",
         "legendgroup": "Envelopes",
         "marker": {
          "color": "#FF97FF",
          "pattern": {
           "shape": ""
          }
         },
         "name": "Envelopes",
         "offsetgroup": "Envelopes",
         "orientation": "v",
         "showlegend": true,
         "textposition": "outside",
         "texttemplate": "%{y:.2f}",
         "type": "bar",
         "x": [
          "Office Supplies"
         ],
         "xaxis": "x",
         "y": [
          74.15760784313726
         ],
         "yaxis": "y"
        },
        {
         "alignmentgroup": "True",
         "hovertemplate": "Sub-Category=Machines<br>Year=2015<br>Category=%{x}<br>Average Sales=%{y}<extra></extra>",
         "legendgroup": "Machines",
         "marker": {
          "color": "#FECB52",
          "pattern": {
           "shape": ""
          }
         },
         "name": "Machines",
         "offsetgroup": "Machines",
         "orientation": "v",
         "showlegend": true,
         "textposition": "outside",
         "texttemplate": "%{y:.2f}",
         "type": "bar",
         "x": [
          "Technology"
         ],
         "xaxis": "x",
         "y": [
          2450.21684
         ],
         "yaxis": "y"
        },
        {
         "alignmentgroup": "True",
         "hovertemplate": "Sub-Category=Copiers<br>Year=2015<br>Category=%{x}<br>Average Sales=%{y}<extra></extra>",
         "legendgroup": "Copiers",
         "marker": {
          "color": "#636efa",
          "pattern": {
           "shape": ""
          }
         },
         "name": "Copiers",
         "offsetgroup": "Copiers",
         "orientation": "v",
         "showlegend": true,
         "textposition": "outside",
         "texttemplate": "%{y:.2f}",
         "type": "bar",
         "x": [
          "Technology"
         ],
         "xaxis": "x",
         "y": [
          1084.9782
         ],
         "yaxis": "y"
        },
        {
         "alignmentgroup": "True",
         "hovertemplate": "Sub-Category=Phones<br>Year=2015<br>Category=%{x}<br>Average Sales=%{y}<extra></extra>",
         "legendgroup": "Phones",
         "marker": {
          "color": "#EF553B",
          "pattern": {
           "shape": ""
          }
         },
         "name": "Phones",
         "offsetgroup": "Phones",
         "orientation": "v",
         "showlegend": true,
         "textposition": "outside",
         "texttemplate": "%{y:.2f}",
         "type": "bar",
         "x": [
          "Technology"
         ],
         "xaxis": "x",
         "y": [
          462.7543414634146
         ],
         "yaxis": "y"
        },
        {
         "alignmentgroup": "True",
         "hovertemplate": "Sub-Category=Accessories<br>Year=2015<br>Category=%{x}<br>Average Sales=%{y}<extra></extra>",
         "legendgroup": "Accessories",
         "marker": {
          "color": "#00cc96",
          "pattern": {
           "shape": ""
          }
         },
         "name": "Accessories",
         "offsetgroup": "Accessories",
         "orientation": "v",
         "showlegend": true,
         "textposition": "outside",
         "texttemplate": "%{y:.2f}",
         "type": "bar",
         "x": [
          "Technology"
         ],
         "xaxis": "x",
         "y": [
          159.3125864661654
         ],
         "yaxis": "y"
        }
       ],
       "frames": [
        {
         "data": [
          {
           "alignmentgroup": "True",
           "hovertemplate": "Sub-Category=Tables<br>Year=2015<br>Category=%{x}<br>Average Sales=%{y}<extra></extra>",
           "legendgroup": "Tables",
           "marker": {
            "color": "#636efa",
            "pattern": {
             "shape": ""
            }
           },
           "name": "Tables",
           "offsetgroup": "Tables",
           "orientation": "v",
           "showlegend": true,
           "textposition": "auto",
           "type": "bar",
           "x": [
            "Furniture"
           ],
           "xaxis": "x",
           "y": [
            655.5654130434783
           ],
           "yaxis": "y"
          },
          {
           "alignmentgroup": "True",
           "hovertemplate": "Sub-Category=Chairs<br>Year=2015<br>Category=%{x}<br>Average Sales=%{y}<extra></extra>",
           "legendgroup": "Chairs",
           "marker": {
            "color": "#EF553B",
            "pattern": {
             "shape": ""
            }
           },
           "name": "Chairs",
           "offsetgroup": "Chairs",
           "orientation": "v",
           "showlegend": true,
           "textposition": "auto",
           "type": "bar",
           "x": [
            "Furniture"
           ],
           "xaxis": "x",
           "y": [
            604.843492063492
           ],
           "yaxis": "y"
          },
          {
           "alignmentgroup": "True",
           "hovertemplate": "Sub-Category=Bookcases<br>Year=2015<br>Category=%{x}<br>Average Sales=%{y}<extra></extra>",
           "legendgroup": "Bookcases",
           "marker": {
            "color": "#00cc96",
            "pattern": {
             "shape": ""
            }
           },
           "name": "Bookcases",
           "offsetgroup": "Bookcases",
           "orientation": "v",
           "showlegend": true,
           "textposition": "auto",
           "type": "bar",
           "x": [
            "Furniture"
           ],
           "xaxis": "x",
           "y": [
            517.749417142857
           ],
           "yaxis": "y"
          },
          {
           "alignmentgroup": "True",
           "hovertemplate": "Sub-Category=Furnishings<br>Year=2015<br>Category=%{x}<br>Average Sales=%{y}<extra></extra>",
           "legendgroup": "Furnishings",
           "marker": {
            "color": "#ab63fa",
            "pattern": {
             "shape": ""
            }
           },
           "name": "Furnishings",
           "offsetgroup": "Furnishings",
           "orientation": "v",
           "showlegend": true,
           "textposition": "auto",
           "type": "bar",
           "x": [
            "Furniture"
           ],
           "xaxis": "x",
           "y": [
            76.57954913294797
           ],
           "yaxis": "y"
          },
          {
           "alignmentgroup": "True",
           "hovertemplate": "Sub-Category=Supplies<br>Year=2015<br>Category=%{x}<br>Average Sales=%{y}<extra></extra>",
           "legendgroup": "Supplies",
           "marker": {
            "color": "#FFA15A",
            "pattern": {
             "shape": ""
            }
           },
           "name": "Supplies",
           "offsetgroup": "Supplies",
           "orientation": "v",
           "showlegend": true,
           "textposition": "auto",
           "type": "bar",
           "x": [
            "Office Supplies"
           ],
           "xaxis": "x",
           "y": [
            377.2531578947369
           ],
           "yaxis": "y"
          },
          {
           "alignmentgroup": "True",
           "hovertemplate": "Sub-Category=Storage<br>Year=2015<br>Category=%{x}<br>Average Sales=%{y}<extra></extra>",
           "legendgroup": "Storage",
           "marker": {
            "color": "#19d3f3",
            "pattern": {
             "shape": ""
            }
           },
           "name": "Storage",
           "offsetgroup": "Storage",
           "orientation": "v",
           "showlegend": true,
           "textposition": "auto",
           "type": "bar",
           "x": [
            "Office Supplies"
           ],
           "xaxis": "x",
           "y": [
            284.53407100591716
           ],
           "yaxis": "y"
          },
          {
           "alignmentgroup": "True",
           "hovertemplate": "Sub-Category=Binders<br>Year=2015<br>Category=%{x}<br>Average Sales=%{y}<extra></extra>",
           "legendgroup": "Binders",
           "marker": {
            "color": "#FF6692",
            "pattern": {
             "shape": ""
            }
           },
           "name": "Binders",
           "offsetgroup": "Binders",
           "orientation": "v",
           "showlegend": true,
           "textposition": "auto",
           "type": "bar",
           "x": [
            "Office Supplies"
           ],
           "xaxis": "x",
           "y": [
            152.9003440860215
           ],
           "yaxis": "y"
          },
          {
           "alignmentgroup": "True",
           "hovertemplate": "Sub-Category=Appliances<br>Year=2015<br>Category=%{x}<br>Average Sales=%{y}<extra></extra>",
           "legendgroup": "Appliances",
           "marker": {
            "color": "#B6E880",
            "pattern": {
             "shape": ""
            }
           },
           "name": "Appliances",
           "offsetgroup": "Appliances",
           "orientation": "v",
           "showlegend": true,
           "textposition": "auto",
           "type": "bar",
           "x": [
            "Office Supplies"
           ],
           "xaxis": "x",
           "y": [
            147.78438888888888
           ],
           "yaxis": "y"
          },
          {
           "alignmentgroup": "True",
           "hovertemplate": "Sub-Category=Envelopes<br>Year=2015<br>Category=%{x}<br>Average Sales=%{y}<extra></extra>",
           "legendgroup": "Envelopes",
           "marker": {
            "color": "#FF97FF",
            "pattern": {
             "shape": ""
            }
           },
           "name": "Envelopes",
           "offsetgroup": "Envelopes",
           "orientation": "v",
           "showlegend": true,
           "textposition": "auto",
           "type": "bar",
           "x": [
            "Office Supplies"
           ],
           "xaxis": "x",
           "y": [
            74.15760784313726
           ],
           "yaxis": "y"
          },
          {
           "alignmentgroup": "True",
           "hovertemplate": "Sub-Category=Machines<br>Year=2015<br>Category=%{x}<br>Average Sales=%{y}<extra></extra>",
           "legendgroup": "Machines",
           "marker": {
            "color": "#FECB52",
            "pattern": {
             "shape": ""
            }
           },
           "name": "Machines",
           "offsetgroup": "Machines",
           "orientation": "v",
           "showlegend": true,
           "textposition": "auto",
           "type": "bar",
           "x": [
            "Technology"
           ],
           "xaxis": "x",
           "y": [
            2450.21684
           ],
           "yaxis": "y"
          },
          {
           "alignmentgroup": "True",
           "hovertemplate": "Sub-Category=Copiers<br>Year=2015<br>Category=%{x}<br>Average Sales=%{y}<extra></extra>",
           "legendgroup": "Copiers",
           "marker": {
            "color": "#636efa",
            "pattern": {
             "shape": ""
            }
           },
           "name": "Copiers",
           "offsetgroup": "Copiers",
           "orientation": "v",
           "showlegend": true,
           "textposition": "auto",
           "type": "bar",
           "x": [
            "Technology"
           ],
           "xaxis": "x",
           "y": [
            1084.9782
           ],
           "yaxis": "y"
          },
          {
           "alignmentgroup": "True",
           "hovertemplate": "Sub-Category=Phones<br>Year=2015<br>Category=%{x}<br>Average Sales=%{y}<extra></extra>",
           "legendgroup": "Phones",
           "marker": {
            "color": "#EF553B",
            "pattern": {
             "shape": ""
            }
           },
           "name": "Phones",
           "offsetgroup": "Phones",
           "orientation": "v",
           "showlegend": true,
           "textposition": "auto",
           "type": "bar",
           "x": [
            "Technology"
           ],
           "xaxis": "x",
           "y": [
            462.7543414634146
           ],
           "yaxis": "y"
          },
          {
           "alignmentgroup": "True",
           "hovertemplate": "Sub-Category=Accessories<br>Year=2015<br>Category=%{x}<br>Average Sales=%{y}<extra></extra>",
           "legendgroup": "Accessories",
           "marker": {
            "color": "#00cc96",
            "pattern": {
             "shape": ""
            }
           },
           "name": "Accessories",
           "offsetgroup": "Accessories",
           "orientation": "v",
           "showlegend": true,
           "textposition": "auto",
           "type": "bar",
           "x": [
            "Technology"
           ],
           "xaxis": "x",
           "y": [
            159.3125864661654
           ],
           "yaxis": "y"
          }
         ],
         "name": "2015"
        },
        {
         "data": [
          {
           "alignmentgroup": "True",
           "hovertemplate": "Sub-Category=Tables<br>Year=2016<br>Category=%{x}<br>Average Sales=%{y}<extra></extra>",
           "legendgroup": "Tables",
           "marker": {
            "color": "#636efa",
            "pattern": {
             "shape": ""
            }
           },
           "name": "Tables",
           "offsetgroup": "Tables",
           "orientation": "v",
           "showlegend": true,
           "textposition": "auto",
           "type": "bar",
           "x": [
            "Furniture"
           ],
           "xaxis": "x",
           "y": [
            641.4457053571429
           ],
           "yaxis": "y"
          },
          {
           "alignmentgroup": "True",
           "hovertemplate": "Sub-Category=Chairs<br>Year=2016<br>Category=%{x}<br>Average Sales=%{y}<extra></extra>",
           "legendgroup": "Chairs",
           "marker": {
            "color": "#EF553B",
            "pattern": {
             "shape": ""
            }
           },
           "name": "Chairs",
           "offsetgroup": "Chairs",
           "orientation": "v",
           "showlegend": true,
           "textposition": "auto",
           "type": "bar",
           "x": [
            "Furniture"
           ],
           "xaxis": "x",
           "y": [
            536.1790378787879
           ],
           "yaxis": "y"
          },
          {
           "alignmentgroup": "True",
           "hovertemplate": "Sub-Category=Bookcases<br>Year=2016<br>Category=%{x}<br>Average Sales=%{y}<extra></extra>",
           "legendgroup": "Bookcases",
           "marker": {
            "color": "#00cc96",
            "pattern": {
             "shape": ""
            }
           },
           "name": "Bookcases",
           "offsetgroup": "Bookcases",
           "orientation": "v",
           "showlegend": true,
           "textposition": "auto",
           "type": "bar",
           "x": [
            "Furniture"
           ],
           "xaxis": "x",
           "y": [
            590.2769983050847
           ],
           "yaxis": "y"
          },
          {
           "alignmentgroup": "True",
           "hovertemplate": "Sub-Category=Furnishings<br>Year=2016<br>Category=%{x}<br>Average Sales=%{y}<extra></extra>",
           "legendgroup": "Furnishings",
           "marker": {
            "color": "#ab63fa",
            "pattern": {
             "shape": ""
            }
           },
           "name": "Furnishings",
           "offsetgroup": "Furnishings",
           "orientation": "v",
           "showlegend": true,
           "textposition": "auto",
           "type": "bar",
           "x": [
            "Furniture"
           ],
           "xaxis": "x",
           "y": [
            104.49593999999999
           ],
           "yaxis": "y"
          },
          {
           "alignmentgroup": "True",
           "hovertemplate": "Sub-Category=Supplies<br>Year=2016<br>Category=%{x}<br>Average Sales=%{y}<extra></extra>",
           "legendgroup": "Supplies",
           "marker": {
            "color": "#FFA15A",
            "pattern": {
             "shape": ""
            }
           },
           "name": "Supplies",
           "offsetgroup": "Supplies",
           "orientation": "v",
           "showlegend": true,
           "textposition": "auto",
           "type": "bar",
           "x": [
            "Office Supplies"
           ],
           "xaxis": "x",
           "y": [
            67.30835714285715
           ],
           "yaxis": "y"
          },
          {
           "alignmentgroup": "True",
           "hovertemplate": "Sub-Category=Storage<br>Year=2016<br>Category=%{x}<br>Average Sales=%{y}<extra></extra>",
           "legendgroup": "Storage",
           "marker": {
            "color": "#19d3f3",
            "pattern": {
             "shape": ""
            }
           },
           "name": "Storage",
           "offsetgroup": "Storage",
           "orientation": "v",
           "showlegend": true,
           "textposition": "auto",
           "type": "bar",
           "x": [
            "Office Supplies"
           ],
           "xaxis": "x",
           "y": [
            261.345325443787
           ],
           "yaxis": "y"
          },
          {
           "alignmentgroup": "True",
           "hovertemplate": "Sub-Category=Binders<br>Year=2016<br>Category=%{x}<br>Average Sales=%{y}<extra></extra>",
           "legendgroup": "Binders",
           "marker": {
            "color": "#FF6692",
            "pattern": {
             "shape": ""
            }
           },
           "name": "Binders",
           "offsetgroup": "Binders",
           "orientation": "v",
           "showlegend": true,
           "textposition": "auto",
           "type": "bar",
           "x": [
            "Office Supplies"
           ],
           "xaxis": "x",
           "y": [
            115.84737581699346
           ],
           "yaxis": "y"
          },
          {
           "alignmentgroup": "True",
           "hovertemplate": "Sub-Category=Appliances<br>Year=2016<br>Category=%{x}<br>Average Sales=%{y}<extra></extra>",
           "legendgroup": "Appliances",
           "marker": {
            "color": "#B6E880",
            "pattern": {
             "shape": ""
            }
           },
           "name": "Appliances",
           "offsetgroup": "Appliances",
           "orientation": "v",
           "showlegend": true,
           "textposition": "auto",
           "type": "bar",
           "x": [
            "Office Supplies"
           ],
           "xaxis": "x",
           "y": [
            264.08735789473684
           ],
           "yaxis": "y"
          },
          {
           "alignmentgroup": "True",
           "hovertemplate": "Sub-Category=Envelopes<br>Year=2016<br>Category=%{x}<br>Average Sales=%{y}<extra></extra>",
           "legendgroup": "Envelopes",
           "marker": {
            "color": "#FF97FF",
            "pattern": {
             "shape": ""
            }
           },
           "name": "Envelopes",
           "offsetgroup": "Envelopes",
           "orientation": "v",
           "showlegend": true,
           "textposition": "auto",
           "type": "bar",
           "x": [
            "Office Supplies"
           ],
           "xaxis": "x",
           "y": [
            64.23227272727273
           ],
           "yaxis": "y"
          },
          {
           "alignmentgroup": "True",
           "hovertemplate": "Sub-Category=Machines<br>Year=2016<br>Category=%{x}<br>Average Sales=%{y}<extra></extra>",
           "legendgroup": "Machines",
           "marker": {
            "color": "#FECB52",
            "pattern": {
             "shape": ""
            }
           },
           "name": "Machines",
           "offsetgroup": "Machines",
           "orientation": "v",
           "showlegend": true,
           "textposition": "auto",
           "type": "bar",
           "x": [
            "Technology"
           ],
           "xaxis": "x",
           "y": [
            1082.6287083333334
           ],
           "yaxis": "y"
          },
          {
           "alignmentgroup": "True",
           "hovertemplate": "Sub-Category=Copiers<br>Year=2016<br>Category=%{x}<br>Average Sales=%{y}<extra></extra>",
           "legendgroup": "Copiers",
           "marker": {
            "color": "#636efa",
            "pattern": {
             "shape": ""
            }
           },
           "name": "Copiers",
           "offsetgroup": "Copiers",
           "orientation": "v",
           "showlegend": true,
           "textposition": "auto",
           "type": "bar",
           "x": [
            "Technology"
           ],
           "xaxis": "x",
           "y": [
            1308.9725
           ],
           "yaxis": "y"
          },
          {
           "alignmentgroup": "True",
           "hovertemplate": "Sub-Category=Phones<br>Year=2016<br>Category=%{x}<br>Average Sales=%{y}<extra></extra>",
           "legendgroup": "Phones",
           "marker": {
            "color": "#EF553B",
            "pattern": {
             "shape": ""
            }
           },
           "name": "Phones",
           "offsetgroup": "Phones",
           "orientation": "v",
           "showlegend": true,
           "textposition": "auto",
           "type": "bar",
           "x": [
            "Technology"
           ],
           "xaxis": "x",
           "y": [
            344.21499000000006
           ],
           "yaxis": "y"
          },
          {
           "alignmentgroup": "True",
           "hovertemplate": "Sub-Category=Accessories<br>Year=2016<br>Category=%{x}<br>Average Sales=%{y}<extra></extra>",
           "legendgroup": "Accessories",
           "marker": {
            "color": "#00cc96",
            "pattern": {
             "shape": ""
            }
           },
           "name": "Accessories",
           "offsetgroup": "Accessories",
           "orientation": "v",
           "showlegend": true,
           "textposition": "auto",
           "type": "bar",
           "x": [
            "Technology"
           ],
           "xaxis": "x",
           "y": [
            248.68087861271678
           ],
           "yaxis": "y"
          }
         ],
         "name": "2016"
        },
        {
         "data": [
          {
           "alignmentgroup": "True",
           "hovertemplate": "Sub-Category=Tables<br>Year=2017<br>Category=%{x}<br>Average Sales=%{y}<extra></extra>",
           "legendgroup": "Tables",
           "marker": {
            "color": "#636efa",
            "pattern": {
             "shape": ""
            }
           },
           "name": "Tables",
           "offsetgroup": "Tables",
           "orientation": "v",
           "showlegend": true,
           "textposition": "auto",
           "type": "bar",
           "x": [
            "Furniture"
           ],
           "xaxis": "x",
           "y": [
            722.9365178571429
           ],
           "yaxis": "y"
          },
          {
           "alignmentgroup": "True",
           "hovertemplate": "Sub-Category=Chairs<br>Year=2017<br>Category=%{x}<br>Average Sales=%{y}<extra></extra>",
           "legendgroup": "Chairs",
           "marker": {
            "color": "#EF553B",
            "pattern": {
             "shape": ""
            }
           },
           "name": "Chairs",
           "offsetgroup": "Chairs",
           "orientation": "v",
           "showlegend": true,
           "textposition": "auto",
           "type": "bar",
           "x": [
            "Furniture"
           ],
           "xaxis": "x",
           "y": [
            514.2942738853503
           ],
           "yaxis": "y"
          },
          {
           "alignmentgroup": "True",
           "hovertemplate": "Sub-Category=Bookcases<br>Year=2017<br>Category=%{x}<br>Average Sales=%{y}<extra></extra>",
           "legendgroup": "Bookcases",
           "marker": {
            "color": "#00cc96",
            "pattern": {
             "shape": ""
            }
           },
           "name": "Bookcases",
           "offsetgroup": "Bookcases",
           "orientation": "v",
           "showlegend": true,
           "textposition": "auto",
           "type": "bar",
           "x": [
            "Furniture"
           ],
           "xaxis": "x",
           "y": [
            480.6626636363637
           ],
           "yaxis": "y"
          },
          {
           "alignmentgroup": "True",
           "hovertemplate": "Sub-Category=Furnishings<br>Year=2017<br>Category=%{x}<br>Average Sales=%{y}<extra></extra>",
           "legendgroup": "Furnishings",
           "marker": {
            "color": "#ab63fa",
            "pattern": {
             "shape": ""
            }
           },
           "name": "Furnishings",
           "offsetgroup": "Furnishings",
           "orientation": "v",
           "showlegend": true,
           "textposition": "auto",
           "type": "bar",
           "x": [
            "Furniture"
           ],
           "xaxis": "x",
           "y": [
            108.81380487804878
           ],
           "yaxis": "y"
          },
          {
           "alignmentgroup": "True",
           "hovertemplate": "Sub-Category=Supplies<br>Year=2017<br>Category=%{x}<br>Average Sales=%{y}<extra></extra>",
           "legendgroup": "Supplies",
           "marker": {
            "color": "#FFA15A",
            "pattern": {
             "shape": ""
            }
           },
           "name": "Supplies",
           "offsetgroup": "Supplies",
           "orientation": "v",
           "showlegend": true,
           "textposition": "auto",
           "type": "bar",
           "x": [
            "Office Supplies"
           ],
           "xaxis": "x",
           "y": [
            244.93572413793106
           ],
           "yaxis": "y"
          },
          {
           "alignmentgroup": "True",
           "hovertemplate": "Sub-Category=Storage<br>Year=2017<br>Category=%{x}<br>Average Sales=%{y}<extra></extra>",
           "legendgroup": "Storage",
           "marker": {
            "color": "#19d3f3",
            "pattern": {
             "shape": ""
            }
           },
           "name": "Storage",
           "offsetgroup": "Storage",
           "orientation": "v",
           "showlegend": true,
           "textposition": "auto",
           "type": "bar",
           "x": [
            "Office Supplies"
           ],
           "xaxis": "x",
           "y": [
            272.77257142857144
           ],
           "yaxis": "y"
          },
          {
           "alignmentgroup": "True",
           "hovertemplate": "Sub-Category=Binders<br>Year=2017<br>Category=%{x}<br>Average Sales=%{y}<extra></extra>",
           "legendgroup": "Binders",
           "marker": {
            "color": "#FF6692",
            "pattern": {
             "shape": ""
            }
           },
           "name": "Binders",
           "offsetgroup": "Binders",
           "orientation": "v",
           "showlegend": true,
           "textposition": "auto",
           "type": "bar",
           "x": [
            "Office Supplies"
           ],
           "xaxis": "x",
           "y": [
            122.10719070904645
           ],
           "yaxis": "y"
          },
          {
           "alignmentgroup": "True",
           "hovertemplate": "Sub-Category=Appliances<br>Year=2017<br>Category=%{x}<br>Average Sales=%{y}<extra></extra>",
           "legendgroup": "Appliances",
           "marker": {
            "color": "#B6E880",
            "pattern": {
             "shape": ""
            }
           },
           "name": "Appliances",
           "offsetgroup": "Appliances",
           "orientation": "v",
           "showlegend": true,
           "textposition": "auto",
           "type": "bar",
           "x": [
            "Office Supplies"
           ],
           "xaxis": "x",
           "y": [
            235.36015454545452
           ],
           "yaxis": "y"
          },
          {
           "alignmentgroup": "True",
           "hovertemplate": "Sub-Category=Envelopes<br>Year=2017<br>Category=%{x}<br>Average Sales=%{y}<extra></extra>",
           "legendgroup": "Envelopes",
           "marker": {
            "color": "#FF97FF",
            "pattern": {
             "shape": ""
            }
           },
           "name": "Envelopes",
           "offsetgroup": "Envelopes",
           "orientation": "v",
           "showlegend": true,
           "textposition": "auto",
           "type": "bar",
           "x": [
            "Office Supplies"
           ],
           "xaxis": "x",
           "y": [
            78.80173333333333
           ],
           "yaxis": "y"
          },
          {
           "alignmentgroup": "True",
           "hovertemplate": "Sub-Category=Machines<br>Year=2017<br>Category=%{x}<br>Average Sales=%{y}<extra></extra>",
           "legendgroup": "Machines",
           "marker": {
            "color": "#FECB52",
            "pattern": {
             "shape": ""
            }
           },
           "name": "Machines",
           "offsetgroup": "Machines",
           "orientation": "v",
           "showlegend": true,
           "textposition": "auto",
           "type": "bar",
           "x": [
            "Technology"
           ],
           "xaxis": "x",
           "y": [
            1818.296125
           ],
           "yaxis": "y"
          },
          {
           "alignmentgroup": "True",
           "hovertemplate": "Sub-Category=Copiers<br>Year=2017<br>Category=%{x}<br>Average Sales=%{y}<extra></extra>",
           "legendgroup": "Copiers",
           "marker": {
            "color": "#636efa",
            "pattern": {
             "shape": ""
            }
           },
           "name": "Copiers",
           "offsetgroup": "Copiers",
           "orientation": "v",
           "showlegend": true,
           "textposition": "auto",
           "type": "bar",
           "x": [
            "Technology"
           ],
           "xaxis": "x",
           "y": [
            3308.5338571428574
           ],
           "yaxis": "y"
          },
          {
           "alignmentgroup": "True",
           "hovertemplate": "Sub-Category=Phones<br>Year=2017<br>Category=%{x}<br>Average Sales=%{y}<extra></extra>",
           "legendgroup": "Phones",
           "marker": {
            "color": "#EF553B",
            "pattern": {
             "shape": ""
            }
           },
           "name": "Phones",
           "offsetgroup": "Phones",
           "orientation": "v",
           "showlegend": true,
           "textposition": "auto",
           "type": "bar",
           "x": [
            "Technology"
           ],
           "xaxis": "x",
           "y": [
            348.9316090909091
           ],
           "yaxis": "y"
          },
          {
           "alignmentgroup": "True",
           "hovertemplate": "Sub-Category=Accessories<br>Year=2017<br>Category=%{x}<br>Average Sales=%{y}<extra></extra>",
           "legendgroup": "Accessories",
           "marker": {
            "color": "#00cc96",
            "pattern": {
             "shape": ""
            }
           },
           "name": "Accessories",
           "offsetgroup": "Accessories",
           "orientation": "v",
           "showlegend": true,
           "textposition": "auto",
           "type": "bar",
           "x": [
            "Technology"
           ],
           "xaxis": "x",
           "y": [
            229.22355801104973
           ],
           "yaxis": "y"
          }
         ],
         "name": "2017"
        },
        {
         "data": [
          {
           "alignmentgroup": "True",
           "hovertemplate": "Sub-Category=Tables<br>Year=2018<br>Category=%{x}<br>Average Sales=%{y}<extra></extra>",
           "legendgroup": "Tables",
           "marker": {
            "color": "#636efa",
            "pattern": {
             "shape": ""
            }
           },
           "name": "Tables",
           "offsetgroup": "Tables",
           "orientation": "v",
           "showlegend": true,
           "textposition": "auto",
           "type": "bar",
           "x": [
            "Furniture"
           ],
           "xaxis": "x",
           "y": [
            580.2760714285714
           ],
           "yaxis": "y"
          },
          {
           "alignmentgroup": "True",
           "hovertemplate": "Sub-Category=Chairs<br>Year=2018<br>Category=%{x}<br>Average Sales=%{y}<extra></extra>",
           "legendgroup": "Chairs",
           "marker": {
            "color": "#EF553B",
            "pattern": {
             "shape": ""
            }
           },
           "name": "Chairs",
           "offsetgroup": "Chairs",
           "orientation": "v",
           "showlegend": true,
           "textposition": "auto",
           "type": "bar",
           "x": [
            "Furniture"
           ],
           "xaxis": "x",
           "y": [
            495.17691935483873
           ],
           "yaxis": "y"
          },
          {
           "alignmentgroup": "True",
           "hovertemplate": "Sub-Category=Bookcases<br>Year=2018<br>Category=%{x}<br>Average Sales=%{y}<extra></extra>",
           "legendgroup": "Bookcases",
           "marker": {
            "color": "#00cc96",
            "pattern": {
             "shape": ""
            }
           },
           "name": "Bookcases",
           "offsetgroup": "Bookcases",
           "orientation": "v",
           "showlegend": true,
           "textposition": "auto",
           "type": "bar",
           "x": [
            "Furniture"
           ],
           "xaxis": "x",
           "y": [
            400.30122837837837
           ],
           "yaxis": "y"
          },
          {
           "alignmentgroup": "True",
           "hovertemplate": "Sub-Category=Furnishings<br>Year=2018<br>Category=%{x}<br>Average Sales=%{y}<extra></extra>",
           "legendgroup": "Furnishings",
           "marker": {
            "color": "#ab63fa",
            "pattern": {
             "shape": ""
            }
           },
           "name": "Furnishings",
           "offsetgroup": "Furnishings",
           "orientation": "v",
           "showlegend": true,
           "textposition": "auto",
           "type": "bar",
           "x": [
            "Furniture"
           ],
           "xaxis": "x",
           "y": [
            91.55851465798045
           ],
           "yaxis": "y"
          },
          {
           "alignmentgroup": "True",
           "hovertemplate": "Sub-Category=Supplies<br>Year=2018<br>Category=%{x}<br>Average Sales=%{y}<extra></extra>",
           "legendgroup": "Supplies",
           "marker": {
            "color": "#FFA15A",
            "pattern": {
             "shape": ""
            }
           },
           "name": "Supplies",
           "offsetgroup": "Supplies",
           "orientation": "v",
           "showlegend": true,
           "textposition": "auto",
           "type": "bar",
           "x": [
            "Office Supplies"
           ],
           "xaxis": "x",
           "y": [
            270.3236271186441
           ],
           "yaxis": "y"
          },
          {
           "alignmentgroup": "True",
           "hovertemplate": "Sub-Category=Storage<br>Year=2018<br>Category=%{x}<br>Average Sales=%{y}<extra></extra>",
           "legendgroup": "Storage",
           "marker": {
            "color": "#19d3f3",
            "pattern": {
             "shape": ""
            }
           },
           "name": "Storage",
           "offsetgroup": "Storage",
           "orientation": "v",
           "showlegend": true,
           "textposition": "auto",
           "type": "bar",
           "x": [
            "Office Supplies"
           ],
           "xaxis": "x",
           "y": [
            240.47989285714283
           ],
           "yaxis": "y"
          },
          {
           "alignmentgroup": "True",
           "hovertemplate": "Sub-Category=Binders<br>Year=2018<br>Category=%{x}<br>Average Sales=%{y}<extra></extra>",
           "legendgroup": "Binders",
           "marker": {
            "color": "#FF6692",
            "pattern": {
             "shape": ""
            }
           },
           "name": "Binders",
           "offsetgroup": "Binders",
           "orientation": "v",
           "showlegend": true,
           "textposition": "auto",
           "type": "bar",
           "x": [
            "Office Supplies"
           ],
           "xaxis": "x",
           "y": [
            146.99579303278688
           ],
           "yaxis": "y"
          },
          {
           "alignmentgroup": "True",
           "hovertemplate": "Sub-Category=Appliances<br>Year=2018<br>Category=%{x}<br>Average Sales=%{y}<extra></extra>",
           "legendgroup": "Appliances",
           "marker": {
            "color": "#B6E880",
            "pattern": {
             "shape": ""
            }
           },
           "name": "Appliances",
           "offsetgroup": "Appliances",
           "orientation": "v",
           "showlegend": true,
           "textposition": "auto",
           "type": "bar",
           "x": [
            "Office Supplies"
           ],
           "xaxis": "x",
           "y": [
            244.36822222222224
           ],
           "yaxis": "y"
          },
          {
           "alignmentgroup": "True",
           "hovertemplate": "Sub-Category=Machines<br>Year=2018<br>Category=%{x}<br>Average Sales=%{y}<extra></extra>",
           "legendgroup": "Machines",
           "marker": {
            "color": "#FECB52",
            "pattern": {
             "shape": ""
            }
           },
           "name": "Machines",
           "offsetgroup": "Machines",
           "orientation": "v",
           "showlegend": true,
           "textposition": "auto",
           "type": "bar",
           "x": [
            "Technology"
           ],
           "xaxis": "x",
           "y": [
            1288.6660294117648
           ],
           "yaxis": "y"
          },
          {
           "alignmentgroup": "True",
           "hovertemplate": "Sub-Category=Copiers<br>Year=2018<br>Category=%{x}<br>Average Sales=%{y}<extra></extra>",
           "legendgroup": "Copiers",
           "marker": {
            "color": "#636efa",
            "pattern": {
             "shape": ""
            }
           },
           "name": "Copiers",
           "offsetgroup": "Copiers",
           "orientation": "v",
           "showlegend": true,
           "textposition": "auto",
           "type": "bar",
           "x": [
            "Technology"
           ],
           "xaxis": "x",
           "y": [
            2859.063090909091
           ],
           "yaxis": "y"
          },
          {
           "alignmentgroup": "True",
           "hovertemplate": "Sub-Category=Phones<br>Year=2018<br>Category=%{x}<br>Average Sales=%{y}<extra></extra>",
           "legendgroup": "Phones",
           "marker": {
            "color": "#EF553B",
            "pattern": {
             "shape": ""
            }
           },
           "name": "Phones",
           "offsetgroup": "Phones",
           "orientation": "v",
           "showlegend": true,
           "textposition": "auto",
           "type": "bar",
           "x": [
            "Technology"
           ],
           "xaxis": "x",
           "y": [
            363.1245763888889
           ],
           "yaxis": "y"
          },
          {
           "alignmentgroup": "True",
           "hovertemplate": "Sub-Category=Accessories<br>Year=2018<br>Category=%{x}<br>Average Sales=%{y}<extra></extra>",
           "legendgroup": "Accessories",
           "marker": {
            "color": "#00cc96",
            "pattern": {
             "shape": ""
            }
           },
           "name": "Accessories",
           "offsetgroup": "Accessories",
           "orientation": "v",
           "showlegend": true,
           "textposition": "auto",
           "type": "bar",
           "x": [
            "Technology"
           ],
           "xaxis": "x",
           "y": [
            217.90958801498127
           ],
           "yaxis": "y"
          },
          {
           "alignmentgroup": "True",
           "hovertemplate": "Sub-Category=Paper<br>Year=2018<br>Category=%{x}<br>Average Sales=%{y}<extra></extra>",
           "legendgroup": "Paper",
           "marker": {
            "color": "#ab63fa",
            "pattern": {
             "shape": ""
            }
           },
           "name": "Paper",
           "offsetgroup": "Paper",
           "orientation": "v",
           "showlegend": true,
           "textposition": "auto",
           "type": "bar",
           "x": [
            "Office Supplies"
           ],
           "xaxis": "x",
           "y": [
            60.59459111111111
           ],
           "yaxis": "y"
          }
         ],
         "name": "2018"
        },
        {
         "data": [
          {
           "alignmentgroup": "True",
           "hovertemplate": "Sub-Category=Chairs<br>Year=2019<br>Category=%{x}<br>Average Sales=%{y}<extra></extra>",
           "legendgroup": "Chairs",
           "marker": {
            "color": "#EF553B",
            "pattern": {
             "shape": ""
            }
           },
           "name": "Chairs",
           "offsetgroup": "Chairs",
           "orientation": "v",
           "showlegend": true,
           "textposition": "auto",
           "type": "bar",
           "x": [
            "Furniture"
           ],
           "xaxis": "x",
           "y": [
            454.90200000000004
           ],
           "yaxis": "y"
          },
          {
           "alignmentgroup": "True",
           "hovertemplate": "Sub-Category=Bookcases<br>Year=2019<br>Category=%{x}<br>Average Sales=%{y}<extra></extra>",
           "legendgroup": "Bookcases",
           "marker": {
            "color": "#00cc96",
            "pattern": {
             "shape": ""
            }
           },
           "name": "Bookcases",
           "offsetgroup": "Bookcases",
           "orientation": "v",
           "showlegend": true,
           "textposition": "auto",
           "type": "bar",
           "x": [
            "Furniture"
           ],
           "xaxis": "x",
           "y": [
            200.9944
           ],
           "yaxis": "y"
          },
          {
           "alignmentgroup": "True",
           "hovertemplate": "Sub-Category=Furnishings<br>Year=2019<br>Category=%{x}<br>Average Sales=%{y}<extra></extra>",
           "legendgroup": "Furnishings",
           "marker": {
            "color": "#ab63fa",
            "pattern": {
             "shape": ""
            }
           },
           "name": "Furnishings",
           "offsetgroup": "Furnishings",
           "orientation": "v",
           "showlegend": true,
           "textposition": "auto",
           "type": "bar",
           "x": [
            "Furniture"
           ],
           "xaxis": "x",
           "y": [
            37.5816
           ],
           "yaxis": "y"
          },
          {
           "alignmentgroup": "True",
           "hovertemplate": "Sub-Category=Supplies<br>Year=2019<br>Category=%{x}<br>Average Sales=%{y}<extra></extra>",
           "legendgroup": "Supplies",
           "marker": {
            "color": "#FFA15A",
            "pattern": {
             "shape": ""
            }
           },
           "name": "Supplies",
           "offsetgroup": "Supplies",
           "orientation": "v",
           "showlegend": true,
           "textposition": "auto",
           "type": "bar",
           "x": [
            "Office Supplies"
           ],
           "xaxis": "x",
           "y": [
            44.688
           ],
           "yaxis": "y"
          },
          {
           "alignmentgroup": "True",
           "hovertemplate": "Sub-Category=Storage<br>Year=2019<br>Category=%{x}<br>Average Sales=%{y}<extra></extra>",
           "legendgroup": "Storage",
           "marker": {
            "color": "#19d3f3",
            "pattern": {
             "shape": ""
            }
           },
           "name": "Storage",
           "offsetgroup": "Storage",
           "orientation": "v",
           "showlegend": true,
           "textposition": "auto",
           "type": "bar",
           "x": [
            "Office Supplies"
           ],
           "xaxis": "x",
           "y": [
            302.958
           ],
           "yaxis": "y"
          },
          {
           "alignmentgroup": "True",
           "hovertemplate": "Sub-Category=Appliances<br>Year=2019<br>Category=%{x}<br>Average Sales=%{y}<extra></extra>",
           "legendgroup": "Appliances",
           "marker": {
            "color": "#B6E880",
            "pattern": {
             "shape": ""
            }
           },
           "name": "Appliances",
           "offsetgroup": "Appliances",
           "orientation": "v",
           "showlegend": true,
           "textposition": "auto",
           "type": "bar",
           "x": [
            "Office Supplies"
           ],
           "xaxis": "x",
           "y": [
            209.3
           ],
           "yaxis": "y"
          },
          {
           "alignmentgroup": "True",
           "hovertemplate": "Sub-Category=Phones<br>Year=2019<br>Category=%{x}<br>Average Sales=%{y}<extra></extra>",
           "legendgroup": "Phones",
           "marker": {
            "color": "#EF553B",
            "pattern": {
             "shape": ""
            }
           },
           "name": "Phones",
           "offsetgroup": "Phones",
           "orientation": "v",
           "showlegend": true,
           "textposition": "auto",
           "type": "bar",
           "x": [
            "Technology"
           ],
           "xaxis": "x",
           "y": [
            136.052
           ],
           "yaxis": "y"
          },
          {
           "alignmentgroup": "True",
           "hovertemplate": "Sub-Category=Paper<br>Year=2019<br>Category=%{x}<br>Average Sales=%{y}<extra></extra>",
           "legendgroup": "Paper",
           "marker": {
            "color": "#ab63fa",
            "pattern": {
             "shape": ""
            }
           },
           "name": "Paper",
           "offsetgroup": "Paper",
           "orientation": "v",
           "showlegend": true,
           "textposition": "auto",
           "type": "bar",
           "x": [
            "Office Supplies"
           ],
           "xaxis": "x",
           "y": [
            68.6905
           ],
           "yaxis": "y"
          },
          {
           "alignmentgroup": "True",
           "hovertemplate": "Sub-Category=Labels<br>Year=2019<br>Category=%{x}<br>Average Sales=%{y}<extra></extra>",
           "legendgroup": "Labels",
           "marker": {
            "color": "#FFA15A",
            "pattern": {
             "shape": ""
            }
           },
           "name": "Labels",
           "offsetgroup": "Labels",
           "orientation": "v",
           "showlegend": true,
           "textposition": "auto",
           "type": "bar",
           "x": [
            "Office Supplies"
           ],
           "xaxis": "x",
           "y": [
            72.45
           ],
           "yaxis": "y"
          }
         ],
         "name": "2019"
        }
       ],
       "layout": {
        "barmode": "relative",
        "legend": {
         "title": {
          "text": "Sub-Category"
         },
         "tracegroupgap": 0
        },
        "sliders": [
         {
          "active": 0,
          "currentvalue": {
           "prefix": "Year="
          },
          "len": 0.9,
          "pad": {
           "b": 10,
           "t": 60
          },
          "steps": [
           {
            "args": [
             [
              "2015"
             ],
             {
              "frame": {
               "duration": 0,
               "redraw": true
              },
              "fromcurrent": true,
              "mode": "immediate",
              "transition": {
               "duration": 0,
               "easing": "linear"
              }
             }
            ],
            "label": "2015",
            "method": "animate"
           },
           {
            "args": [
             [
              "2016"
             ],
             {
              "frame": {
               "duration": 0,
               "redraw": true
              },
              "fromcurrent": true,
              "mode": "immediate",
              "transition": {
               "duration": 0,
               "easing": "linear"
              }
             }
            ],
            "label": "2016",
            "method": "animate"
           },
           {
            "args": [
             [
              "2017"
             ],
             {
              "frame": {
               "duration": 0,
               "redraw": true
              },
              "fromcurrent": true,
              "mode": "immediate",
              "transition": {
               "duration": 0,
               "easing": "linear"
              }
             }
            ],
            "label": "2017",
            "method": "animate"
           },
           {
            "args": [
             [
              "2018"
             ],
             {
              "frame": {
               "duration": 0,
               "redraw": true
              },
              "fromcurrent": true,
              "mode": "immediate",
              "transition": {
               "duration": 0,
               "easing": "linear"
              }
             }
            ],
            "label": "2018",
            "method": "animate"
           },
           {
            "args": [
             [
              "2019"
             ],
             {
              "frame": {
               "duration": 0,
               "redraw": true
              },
              "fromcurrent": true,
              "mode": "immediate",
              "transition": {
               "duration": 0,
               "easing": "linear"
              }
             }
            ],
            "label": "2019",
            "method": "animate"
           }
          ],
          "x": 0.1,
          "xanchor": "left",
          "y": 0,
          "yanchor": "top"
         }
        ],
        "template": {
         "data": {
          "bar": [
           {
            "error_x": {
             "color": "#2a3f5f"
            },
            "error_y": {
             "color": "#2a3f5f"
            },
            "marker": {
             "line": {
              "color": "#E5ECF6",
              "width": 0.5
             },
             "pattern": {
              "fillmode": "overlay",
              "size": 10,
              "solidity": 0.2
             }
            },
            "type": "bar"
           }
          ],
          "barpolar": [
           {
            "marker": {
             "line": {
              "color": "#E5ECF6",
              "width": 0.5
             },
             "pattern": {
              "fillmode": "overlay",
              "size": 10,
              "solidity": 0.2
             }
            },
            "type": "barpolar"
           }
          ],
          "carpet": [
           {
            "aaxis": {
             "endlinecolor": "#2a3f5f",
             "gridcolor": "white",
             "linecolor": "white",
             "minorgridcolor": "white",
             "startlinecolor": "#2a3f5f"
            },
            "baxis": {
             "endlinecolor": "#2a3f5f",
             "gridcolor": "white",
             "linecolor": "white",
             "minorgridcolor": "white",
             "startlinecolor": "#2a3f5f"
            },
            "type": "carpet"
           }
          ],
          "choropleth": [
           {
            "colorbar": {
             "outlinewidth": 0,
             "ticks": ""
            },
            "type": "choropleth"
           }
          ],
          "contour": [
           {
            "colorbar": {
             "outlinewidth": 0,
             "ticks": ""
            },
            "colorscale": [
             [
              0,
              "#0d0887"
             ],
             [
              0.1111111111111111,
              "#46039f"
             ],
             [
              0.2222222222222222,
              "#7201a8"
             ],
             [
              0.3333333333333333,
              "#9c179e"
             ],
             [
              0.4444444444444444,
              "#bd3786"
             ],
             [
              0.5555555555555556,
              "#d8576b"
             ],
             [
              0.6666666666666666,
              "#ed7953"
             ],
             [
              0.7777777777777778,
              "#fb9f3a"
             ],
             [
              0.8888888888888888,
              "#fdca26"
             ],
             [
              1,
              "#f0f921"
             ]
            ],
            "type": "contour"
           }
          ],
          "contourcarpet": [
           {
            "colorbar": {
             "outlinewidth": 0,
             "ticks": ""
            },
            "type": "contourcarpet"
           }
          ],
          "heatmap": [
           {
            "colorbar": {
             "outlinewidth": 0,
             "ticks": ""
            },
            "colorscale": [
             [
              0,
              "#0d0887"
             ],
             [
              0.1111111111111111,
              "#46039f"
             ],
             [
              0.2222222222222222,
              "#7201a8"
             ],
             [
              0.3333333333333333,
              "#9c179e"
             ],
             [
              0.4444444444444444,
              "#bd3786"
             ],
             [
              0.5555555555555556,
              "#d8576b"
             ],
             [
              0.6666666666666666,
              "#ed7953"
             ],
             [
              0.7777777777777778,
              "#fb9f3a"
             ],
             [
              0.8888888888888888,
              "#fdca26"
             ],
             [
              1,
              "#f0f921"
             ]
            ],
            "type": "heatmap"
           }
          ],
          "heatmapgl": [
           {
            "colorbar": {
             "outlinewidth": 0,
             "ticks": ""
            },
            "colorscale": [
             [
              0,
              "#0d0887"
             ],
             [
              0.1111111111111111,
              "#46039f"
             ],
             [
              0.2222222222222222,
              "#7201a8"
             ],
             [
              0.3333333333333333,
              "#9c179e"
             ],
             [
              0.4444444444444444,
              "#bd3786"
             ],
             [
              0.5555555555555556,
              "#d8576b"
             ],
             [
              0.6666666666666666,
              "#ed7953"
             ],
             [
              0.7777777777777778,
              "#fb9f3a"
             ],
             [
              0.8888888888888888,
              "#fdca26"
             ],
             [
              1,
              "#f0f921"
             ]
            ],
            "type": "heatmapgl"
           }
          ],
          "histogram": [
           {
            "marker": {
             "pattern": {
              "fillmode": "overlay",
              "size": 10,
              "solidity": 0.2
             }
            },
            "type": "histogram"
           }
          ],
          "histogram2d": [
           {
            "colorbar": {
             "outlinewidth": 0,
             "ticks": ""
            },
            "colorscale": [
             [
              0,
              "#0d0887"
             ],
             [
              0.1111111111111111,
              "#46039f"
             ],
             [
              0.2222222222222222,
              "#7201a8"
             ],
             [
              0.3333333333333333,
              "#9c179e"
             ],
             [
              0.4444444444444444,
              "#bd3786"
             ],
             [
              0.5555555555555556,
              "#d8576b"
             ],
             [
              0.6666666666666666,
              "#ed7953"
             ],
             [
              0.7777777777777778,
              "#fb9f3a"
             ],
             [
              0.8888888888888888,
              "#fdca26"
             ],
             [
              1,
              "#f0f921"
             ]
            ],
            "type": "histogram2d"
           }
          ],
          "histogram2dcontour": [
           {
            "colorbar": {
             "outlinewidth": 0,
             "ticks": ""
            },
            "colorscale": [
             [
              0,
              "#0d0887"
             ],
             [
              0.1111111111111111,
              "#46039f"
             ],
             [
              0.2222222222222222,
              "#7201a8"
             ],
             [
              0.3333333333333333,
              "#9c179e"
             ],
             [
              0.4444444444444444,
              "#bd3786"
             ],
             [
              0.5555555555555556,
              "#d8576b"
             ],
             [
              0.6666666666666666,
              "#ed7953"
             ],
             [
              0.7777777777777778,
              "#fb9f3a"
             ],
             [
              0.8888888888888888,
              "#fdca26"
             ],
             [
              1,
              "#f0f921"
             ]
            ],
            "type": "histogram2dcontour"
           }
          ],
          "mesh3d": [
           {
            "colorbar": {
             "outlinewidth": 0,
             "ticks": ""
            },
            "type": "mesh3d"
           }
          ],
          "parcoords": [
           {
            "line": {
             "colorbar": {
              "outlinewidth": 0,
              "ticks": ""
             }
            },
            "type": "parcoords"
           }
          ],
          "pie": [
           {
            "automargin": true,
            "type": "pie"
           }
          ],
          "scatter": [
           {
            "fillpattern": {
             "fillmode": "overlay",
             "size": 10,
             "solidity": 0.2
            },
            "type": "scatter"
           }
          ],
          "scatter3d": [
           {
            "line": {
             "colorbar": {
              "outlinewidth": 0,
              "ticks": ""
             }
            },
            "marker": {
             "colorbar": {
              "outlinewidth": 0,
              "ticks": ""
             }
            },
            "type": "scatter3d"
           }
          ],
          "scattercarpet": [
           {
            "marker": {
             "colorbar": {
              "outlinewidth": 0,
              "ticks": ""
             }
            },
            "type": "scattercarpet"
           }
          ],
          "scattergeo": [
           {
            "marker": {
             "colorbar": {
              "outlinewidth": 0,
              "ticks": ""
             }
            },
            "type": "scattergeo"
           }
          ],
          "scattergl": [
           {
            "marker": {
             "colorbar": {
              "outlinewidth": 0,
              "ticks": ""
             }
            },
            "type": "scattergl"
           }
          ],
          "scattermapbox": [
           {
            "marker": {
             "colorbar": {
              "outlinewidth": 0,
              "ticks": ""
             }
            },
            "type": "scattermapbox"
           }
          ],
          "scatterpolar": [
           {
            "marker": {
             "colorbar": {
              "outlinewidth": 0,
              "ticks": ""
             }
            },
            "type": "scatterpolar"
           }
          ],
          "scatterpolargl": [
           {
            "marker": {
             "colorbar": {
              "outlinewidth": 0,
              "ticks": ""
             }
            },
            "type": "scatterpolargl"
           }
          ],
          "scatterternary": [
           {
            "marker": {
             "colorbar": {
              "outlinewidth": 0,
              "ticks": ""
             }
            },
            "type": "scatterternary"
           }
          ],
          "surface": [
           {
            "colorbar": {
             "outlinewidth": 0,
             "ticks": ""
            },
            "colorscale": [
             [
              0,
              "#0d0887"
             ],
             [
              0.1111111111111111,
              "#46039f"
             ],
             [
              0.2222222222222222,
              "#7201a8"
             ],
             [
              0.3333333333333333,
              "#9c179e"
             ],
             [
              0.4444444444444444,
              "#bd3786"
             ],
             [
              0.5555555555555556,
              "#d8576b"
             ],
             [
              0.6666666666666666,
              "#ed7953"
             ],
             [
              0.7777777777777778,
              "#fb9f3a"
             ],
             [
              0.8888888888888888,
              "#fdca26"
             ],
             [
              1,
              "#f0f921"
             ]
            ],
            "type": "surface"
           }
          ],
          "table": [
           {
            "cells": {
             "fill": {
              "color": "#EBF0F8"
             },
             "line": {
              "color": "white"
             }
            },
            "header": {
             "fill": {
              "color": "#C8D4E3"
             },
             "line": {
              "color": "white"
             }
            },
            "type": "table"
           }
          ]
         },
         "layout": {
          "annotationdefaults": {
           "arrowcolor": "#2a3f5f",
           "arrowhead": 0,
           "arrowwidth": 1
          },
          "autotypenumbers": "strict",
          "coloraxis": {
           "colorbar": {
            "outlinewidth": 0,
            "ticks": ""
           }
          },
          "colorscale": {
           "diverging": [
            [
             0,
             "#8e0152"
            ],
            [
             0.1,
             "#c51b7d"
            ],
            [
             0.2,
             "#de77ae"
            ],
            [
             0.3,
             "#f1b6da"
            ],
            [
             0.4,
             "#fde0ef"
            ],
            [
             0.5,
             "#f7f7f7"
            ],
            [
             0.6,
             "#e6f5d0"
            ],
            [
             0.7,
             "#b8e186"
            ],
            [
             0.8,
             "#7fbc41"
            ],
            [
             0.9,
             "#4d9221"
            ],
            [
             1,
             "#276419"
            ]
           ],
           "sequential": [
            [
             0,
             "#0d0887"
            ],
            [
             0.1111111111111111,
             "#46039f"
            ],
            [
             0.2222222222222222,
             "#7201a8"
            ],
            [
             0.3333333333333333,
             "#9c179e"
            ],
            [
             0.4444444444444444,
             "#bd3786"
            ],
            [
             0.5555555555555556,
             "#d8576b"
            ],
            [
             0.6666666666666666,
             "#ed7953"
            ],
            [
             0.7777777777777778,
             "#fb9f3a"
            ],
            [
             0.8888888888888888,
             "#fdca26"
            ],
            [
             1,
             "#f0f921"
            ]
           ],
           "sequentialminus": [
            [
             0,
             "#0d0887"
            ],
            [
             0.1111111111111111,
             "#46039f"
            ],
            [
             0.2222222222222222,
             "#7201a8"
            ],
            [
             0.3333333333333333,
             "#9c179e"
            ],
            [
             0.4444444444444444,
             "#bd3786"
            ],
            [
             0.5555555555555556,
             "#d8576b"
            ],
            [
             0.6666666666666666,
             "#ed7953"
            ],
            [
             0.7777777777777778,
             "#fb9f3a"
            ],
            [
             0.8888888888888888,
             "#fdca26"
            ],
            [
             1,
             "#f0f921"
            ]
           ]
          },
          "colorway": [
           "#636efa",
           "#EF553B",
           "#00cc96",
           "#ab63fa",
           "#FFA15A",
           "#19d3f3",
           "#FF6692",
           "#B6E880",
           "#FF97FF",
           "#FECB52"
          ],
          "font": {
           "color": "#2a3f5f"
          },
          "geo": {
           "bgcolor": "white",
           "lakecolor": "white",
           "landcolor": "#E5ECF6",
           "showlakes": true,
           "showland": true,
           "subunitcolor": "white"
          },
          "hoverlabel": {
           "align": "left"
          },
          "hovermode": "closest",
          "mapbox": {
           "style": "light"
          },
          "paper_bgcolor": "white",
          "plot_bgcolor": "#E5ECF6",
          "polar": {
           "angularaxis": {
            "gridcolor": "white",
            "linecolor": "white",
            "ticks": ""
           },
           "bgcolor": "#E5ECF6",
           "radialaxis": {
            "gridcolor": "white",
            "linecolor": "white",
            "ticks": ""
           }
          },
          "scene": {
           "xaxis": {
            "backgroundcolor": "#E5ECF6",
            "gridcolor": "white",
            "gridwidth": 2,
            "linecolor": "white",
            "showbackground": true,
            "ticks": "",
            "zerolinecolor": "white"
           },
           "yaxis": {
            "backgroundcolor": "#E5ECF6",
            "gridcolor": "white",
            "gridwidth": 2,
            "linecolor": "white",
            "showbackground": true,
            "ticks": "",
            "zerolinecolor": "white"
           },
           "zaxis": {
            "backgroundcolor": "#E5ECF6",
            "gridcolor": "white",
            "gridwidth": 2,
            "linecolor": "white",
            "showbackground": true,
            "ticks": "",
            "zerolinecolor": "white"
           }
          },
          "shapedefaults": {
           "line": {
            "color": "#2a3f5f"
           }
          },
          "ternary": {
           "aaxis": {
            "gridcolor": "white",
            "linecolor": "white",
            "ticks": ""
           },
           "baxis": {
            "gridcolor": "white",
            "linecolor": "white",
            "ticks": ""
           },
           "bgcolor": "#E5ECF6",
           "caxis": {
            "gridcolor": "white",
            "linecolor": "white",
            "ticks": ""
           }
          },
          "title": {
           "x": 0.05
          },
          "xaxis": {
           "automargin": true,
           "gridcolor": "white",
           "linecolor": "white",
           "ticks": "",
           "title": {
            "standoff": 15
           },
           "zerolinecolor": "white",
           "zerolinewidth": 2
          },
          "yaxis": {
           "automargin": true,
           "gridcolor": "white",
           "linecolor": "white",
           "ticks": "",
           "title": {
            "standoff": 15
           },
           "zerolinecolor": "white",
           "zerolinewidth": 2
          }
         }
        },
        "title": {
         "text": "Average Sales by Item and SubItem Over Years"
        },
        "updatemenus": [
         {
          "buttons": [
           {
            "args": [
             null,
             {
              "frame": {
               "duration": 500,
               "redraw": true
              },
              "fromcurrent": true,
              "mode": "immediate",
              "transition": {
               "duration": 500,
               "easing": "linear"
              }
             }
            ],
            "label": "&#9654;",
            "method": "animate"
           },
           {
            "args": [
             [
              null
             ],
             {
              "frame": {
               "duration": 0,
               "redraw": true
              },
              "fromcurrent": true,
              "mode": "immediate",
              "transition": {
               "duration": 0,
               "easing": "linear"
              }
             }
            ],
            "label": "&#9724;",
            "method": "animate"
           }
          ],
          "direction": "left",
          "pad": {
           "r": 10,
           "t": 70
          },
          "showactive": false,
          "type": "buttons",
          "x": 0.1,
          "xanchor": "right",
          "y": 0,
          "yanchor": "top"
         }
        ],
        "xaxis": {
         "anchor": "y",
         "domain": [
          0,
          1
         ],
         "title": {
          "text": "Category"
         }
        },
        "yaxis": {
         "anchor": "x",
         "domain": [
          0,
          1
         ],
         "title": {
          "text": "Average Sales"
         }
        }
       }
      },
      "text/html": [
       "<div>                            <div id=\"c7c0fd6b-a93f-4205-9b38-6be1d21e7767\" class=\"plotly-graph-div\" style=\"height:525px; width:100%;\"></div>            <script type=\"text/javascript\">                require([\"plotly\"], function(Plotly) {                    window.PLOTLYENV=window.PLOTLYENV || {};                                    if (document.getElementById(\"c7c0fd6b-a93f-4205-9b38-6be1d21e7767\")) {                    Plotly.newPlot(                        \"c7c0fd6b-a93f-4205-9b38-6be1d21e7767\",                        [{\"alignmentgroup\":\"True\",\"hovertemplate\":\"Sub-Category=Tables<br>Year=2015<br>Category=%{x}<br>Average Sales=%{y}<extra></extra>\",\"legendgroup\":\"Tables\",\"marker\":{\"color\":\"#636efa\",\"pattern\":{\"shape\":\"\"}},\"name\":\"Tables\",\"offsetgroup\":\"Tables\",\"orientation\":\"v\",\"showlegend\":true,\"textposition\":\"outside\",\"x\":[\"Furniture\"],\"xaxis\":\"x\",\"y\":[655.5654130434783],\"yaxis\":\"y\",\"type\":\"bar\",\"texttemplate\":\"%{y:.2f}\"},{\"alignmentgroup\":\"True\",\"hovertemplate\":\"Sub-Category=Chairs<br>Year=2015<br>Category=%{x}<br>Average Sales=%{y}<extra></extra>\",\"legendgroup\":\"Chairs\",\"marker\":{\"color\":\"#EF553B\",\"pattern\":{\"shape\":\"\"}},\"name\":\"Chairs\",\"offsetgroup\":\"Chairs\",\"orientation\":\"v\",\"showlegend\":true,\"textposition\":\"outside\",\"x\":[\"Furniture\"],\"xaxis\":\"x\",\"y\":[604.843492063492],\"yaxis\":\"y\",\"type\":\"bar\",\"texttemplate\":\"%{y:.2f}\"},{\"alignmentgroup\":\"True\",\"hovertemplate\":\"Sub-Category=Bookcases<br>Year=2015<br>Category=%{x}<br>Average Sales=%{y}<extra></extra>\",\"legendgroup\":\"Bookcases\",\"marker\":{\"color\":\"#00cc96\",\"pattern\":{\"shape\":\"\"}},\"name\":\"Bookcases\",\"offsetgroup\":\"Bookcases\",\"orientation\":\"v\",\"showlegend\":true,\"textposition\":\"outside\",\"x\":[\"Furniture\"],\"xaxis\":\"x\",\"y\":[517.749417142857],\"yaxis\":\"y\",\"type\":\"bar\",\"texttemplate\":\"%{y:.2f}\"},{\"alignmentgroup\":\"True\",\"hovertemplate\":\"Sub-Category=Furnishings<br>Year=2015<br>Category=%{x}<br>Average Sales=%{y}<extra></extra>\",\"legendgroup\":\"Furnishings\",\"marker\":{\"color\":\"#ab63fa\",\"pattern\":{\"shape\":\"\"}},\"name\":\"Furnishings\",\"offsetgroup\":\"Furnishings\",\"orientation\":\"v\",\"showlegend\":true,\"textposition\":\"outside\",\"x\":[\"Furniture\"],\"xaxis\":\"x\",\"y\":[76.57954913294797],\"yaxis\":\"y\",\"type\":\"bar\",\"texttemplate\":\"%{y:.2f}\"},{\"alignmentgroup\":\"True\",\"hovertemplate\":\"Sub-Category=Supplies<br>Year=2015<br>Category=%{x}<br>Average Sales=%{y}<extra></extra>\",\"legendgroup\":\"Supplies\",\"marker\":{\"color\":\"#FFA15A\",\"pattern\":{\"shape\":\"\"}},\"name\":\"Supplies\",\"offsetgroup\":\"Supplies\",\"orientation\":\"v\",\"showlegend\":true,\"textposition\":\"outside\",\"x\":[\"Office Supplies\"],\"xaxis\":\"x\",\"y\":[377.2531578947369],\"yaxis\":\"y\",\"type\":\"bar\",\"texttemplate\":\"%{y:.2f}\"},{\"alignmentgroup\":\"True\",\"hovertemplate\":\"Sub-Category=Storage<br>Year=2015<br>Category=%{x}<br>Average Sales=%{y}<extra></extra>\",\"legendgroup\":\"Storage\",\"marker\":{\"color\":\"#19d3f3\",\"pattern\":{\"shape\":\"\"}},\"name\":\"Storage\",\"offsetgroup\":\"Storage\",\"orientation\":\"v\",\"showlegend\":true,\"textposition\":\"outside\",\"x\":[\"Office Supplies\"],\"xaxis\":\"x\",\"y\":[284.53407100591716],\"yaxis\":\"y\",\"type\":\"bar\",\"texttemplate\":\"%{y:.2f}\"},{\"alignmentgroup\":\"True\",\"hovertemplate\":\"Sub-Category=Binders<br>Year=2015<br>Category=%{x}<br>Average Sales=%{y}<extra></extra>\",\"legendgroup\":\"Binders\",\"marker\":{\"color\":\"#FF6692\",\"pattern\":{\"shape\":\"\"}},\"name\":\"Binders\",\"offsetgroup\":\"Binders\",\"orientation\":\"v\",\"showlegend\":true,\"textposition\":\"outside\",\"x\":[\"Office Supplies\"],\"xaxis\":\"x\",\"y\":[152.9003440860215],\"yaxis\":\"y\",\"type\":\"bar\",\"texttemplate\":\"%{y:.2f}\"},{\"alignmentgroup\":\"True\",\"hovertemplate\":\"Sub-Category=Appliances<br>Year=2015<br>Category=%{x}<br>Average Sales=%{y}<extra></extra>\",\"legendgroup\":\"Appliances\",\"marker\":{\"color\":\"#B6E880\",\"pattern\":{\"shape\":\"\"}},\"name\":\"Appliances\",\"offsetgroup\":\"Appliances\",\"orientation\":\"v\",\"showlegend\":true,\"textposition\":\"outside\",\"x\":[\"Office Supplies\"],\"xaxis\":\"x\",\"y\":[147.78438888888888],\"yaxis\":\"y\",\"type\":\"bar\",\"texttemplate\":\"%{y:.2f}\"},{\"alignmentgroup\":\"True\",\"hovertemplate\":\"Sub-Category=Envelopes<br>Year=2015<br>Category=%{x}<br>Average Sales=%{y}<extra></extra>\",\"legendgroup\":\"Envelopes\",\"marker\":{\"color\":\"#FF97FF\",\"pattern\":{\"shape\":\"\"}},\"name\":\"Envelopes\",\"offsetgroup\":\"Envelopes\",\"orientation\":\"v\",\"showlegend\":true,\"textposition\":\"outside\",\"x\":[\"Office Supplies\"],\"xaxis\":\"x\",\"y\":[74.15760784313726],\"yaxis\":\"y\",\"type\":\"bar\",\"texttemplate\":\"%{y:.2f}\"},{\"alignmentgroup\":\"True\",\"hovertemplate\":\"Sub-Category=Machines<br>Year=2015<br>Category=%{x}<br>Average Sales=%{y}<extra></extra>\",\"legendgroup\":\"Machines\",\"marker\":{\"color\":\"#FECB52\",\"pattern\":{\"shape\":\"\"}},\"name\":\"Machines\",\"offsetgroup\":\"Machines\",\"orientation\":\"v\",\"showlegend\":true,\"textposition\":\"outside\",\"x\":[\"Technology\"],\"xaxis\":\"x\",\"y\":[2450.21684],\"yaxis\":\"y\",\"type\":\"bar\",\"texttemplate\":\"%{y:.2f}\"},{\"alignmentgroup\":\"True\",\"hovertemplate\":\"Sub-Category=Copiers<br>Year=2015<br>Category=%{x}<br>Average Sales=%{y}<extra></extra>\",\"legendgroup\":\"Copiers\",\"marker\":{\"color\":\"#636efa\",\"pattern\":{\"shape\":\"\"}},\"name\":\"Copiers\",\"offsetgroup\":\"Copiers\",\"orientation\":\"v\",\"showlegend\":true,\"textposition\":\"outside\",\"x\":[\"Technology\"],\"xaxis\":\"x\",\"y\":[1084.9782],\"yaxis\":\"y\",\"type\":\"bar\",\"texttemplate\":\"%{y:.2f}\"},{\"alignmentgroup\":\"True\",\"hovertemplate\":\"Sub-Category=Phones<br>Year=2015<br>Category=%{x}<br>Average Sales=%{y}<extra></extra>\",\"legendgroup\":\"Phones\",\"marker\":{\"color\":\"#EF553B\",\"pattern\":{\"shape\":\"\"}},\"name\":\"Phones\",\"offsetgroup\":\"Phones\",\"orientation\":\"v\",\"showlegend\":true,\"textposition\":\"outside\",\"x\":[\"Technology\"],\"xaxis\":\"x\",\"y\":[462.7543414634146],\"yaxis\":\"y\",\"type\":\"bar\",\"texttemplate\":\"%{y:.2f}\"},{\"alignmentgroup\":\"True\",\"hovertemplate\":\"Sub-Category=Accessories<br>Year=2015<br>Category=%{x}<br>Average Sales=%{y}<extra></extra>\",\"legendgroup\":\"Accessories\",\"marker\":{\"color\":\"#00cc96\",\"pattern\":{\"shape\":\"\"}},\"name\":\"Accessories\",\"offsetgroup\":\"Accessories\",\"orientation\":\"v\",\"showlegend\":true,\"textposition\":\"outside\",\"x\":[\"Technology\"],\"xaxis\":\"x\",\"y\":[159.3125864661654],\"yaxis\":\"y\",\"type\":\"bar\",\"texttemplate\":\"%{y:.2f}\"}],                        {\"template\":{\"data\":{\"histogram2dcontour\":[{\"type\":\"histogram2dcontour\",\"colorbar\":{\"outlinewidth\":0,\"ticks\":\"\"},\"colorscale\":[[0.0,\"#0d0887\"],[0.1111111111111111,\"#46039f\"],[0.2222222222222222,\"#7201a8\"],[0.3333333333333333,\"#9c179e\"],[0.4444444444444444,\"#bd3786\"],[0.5555555555555556,\"#d8576b\"],[0.6666666666666666,\"#ed7953\"],[0.7777777777777778,\"#fb9f3a\"],[0.8888888888888888,\"#fdca26\"],[1.0,\"#f0f921\"]]}],\"choropleth\":[{\"type\":\"choropleth\",\"colorbar\":{\"outlinewidth\":0,\"ticks\":\"\"}}],\"histogram2d\":[{\"type\":\"histogram2d\",\"colorbar\":{\"outlinewidth\":0,\"ticks\":\"\"},\"colorscale\":[[0.0,\"#0d0887\"],[0.1111111111111111,\"#46039f\"],[0.2222222222222222,\"#7201a8\"],[0.3333333333333333,\"#9c179e\"],[0.4444444444444444,\"#bd3786\"],[0.5555555555555556,\"#d8576b\"],[0.6666666666666666,\"#ed7953\"],[0.7777777777777778,\"#fb9f3a\"],[0.8888888888888888,\"#fdca26\"],[1.0,\"#f0f921\"]]}],\"heatmap\":[{\"type\":\"heatmap\",\"colorbar\":{\"outlinewidth\":0,\"ticks\":\"\"},\"colorscale\":[[0.0,\"#0d0887\"],[0.1111111111111111,\"#46039f\"],[0.2222222222222222,\"#7201a8\"],[0.3333333333333333,\"#9c179e\"],[0.4444444444444444,\"#bd3786\"],[0.5555555555555556,\"#d8576b\"],[0.6666666666666666,\"#ed7953\"],[0.7777777777777778,\"#fb9f3a\"],[0.8888888888888888,\"#fdca26\"],[1.0,\"#f0f921\"]]}],\"heatmapgl\":[{\"type\":\"heatmapgl\",\"colorbar\":{\"outlinewidth\":0,\"ticks\":\"\"},\"colorscale\":[[0.0,\"#0d0887\"],[0.1111111111111111,\"#46039f\"],[0.2222222222222222,\"#7201a8\"],[0.3333333333333333,\"#9c179e\"],[0.4444444444444444,\"#bd3786\"],[0.5555555555555556,\"#d8576b\"],[0.6666666666666666,\"#ed7953\"],[0.7777777777777778,\"#fb9f3a\"],[0.8888888888888888,\"#fdca26\"],[1.0,\"#f0f921\"]]}],\"contourcarpet\":[{\"type\":\"contourcarpet\",\"colorbar\":{\"outlinewidth\":0,\"ticks\":\"\"}}],\"contour\":[{\"type\":\"contour\",\"colorbar\":{\"outlinewidth\":0,\"ticks\":\"\"},\"colorscale\":[[0.0,\"#0d0887\"],[0.1111111111111111,\"#46039f\"],[0.2222222222222222,\"#7201a8\"],[0.3333333333333333,\"#9c179e\"],[0.4444444444444444,\"#bd3786\"],[0.5555555555555556,\"#d8576b\"],[0.6666666666666666,\"#ed7953\"],[0.7777777777777778,\"#fb9f3a\"],[0.8888888888888888,\"#fdca26\"],[1.0,\"#f0f921\"]]}],\"surface\":[{\"type\":\"surface\",\"colorbar\":{\"outlinewidth\":0,\"ticks\":\"\"},\"colorscale\":[[0.0,\"#0d0887\"],[0.1111111111111111,\"#46039f\"],[0.2222222222222222,\"#7201a8\"],[0.3333333333333333,\"#9c179e\"],[0.4444444444444444,\"#bd3786\"],[0.5555555555555556,\"#d8576b\"],[0.6666666666666666,\"#ed7953\"],[0.7777777777777778,\"#fb9f3a\"],[0.8888888888888888,\"#fdca26\"],[1.0,\"#f0f921\"]]}],\"mesh3d\":[{\"type\":\"mesh3d\",\"colorbar\":{\"outlinewidth\":0,\"ticks\":\"\"}}],\"scatter\":[{\"fillpattern\":{\"fillmode\":\"overlay\",\"size\":10,\"solidity\":0.2},\"type\":\"scatter\"}],\"parcoords\":[{\"type\":\"parcoords\",\"line\":{\"colorbar\":{\"outlinewidth\":0,\"ticks\":\"\"}}}],\"scatterpolargl\":[{\"type\":\"scatterpolargl\",\"marker\":{\"colorbar\":{\"outlinewidth\":0,\"ticks\":\"\"}}}],\"bar\":[{\"error_x\":{\"color\":\"#2a3f5f\"},\"error_y\":{\"color\":\"#2a3f5f\"},\"marker\":{\"line\":{\"color\":\"#E5ECF6\",\"width\":0.5},\"pattern\":{\"fillmode\":\"overlay\",\"size\":10,\"solidity\":0.2}},\"type\":\"bar\"}],\"scattergeo\":[{\"type\":\"scattergeo\",\"marker\":{\"colorbar\":{\"outlinewidth\":0,\"ticks\":\"\"}}}],\"scatterpolar\":[{\"type\":\"scatterpolar\",\"marker\":{\"colorbar\":{\"outlinewidth\":0,\"ticks\":\"\"}}}],\"histogram\":[{\"marker\":{\"pattern\":{\"fillmode\":\"overlay\",\"size\":10,\"solidity\":0.2}},\"type\":\"histogram\"}],\"scattergl\":[{\"type\":\"scattergl\",\"marker\":{\"colorbar\":{\"outlinewidth\":0,\"ticks\":\"\"}}}],\"scatter3d\":[{\"type\":\"scatter3d\",\"line\":{\"colorbar\":{\"outlinewidth\":0,\"ticks\":\"\"}},\"marker\":{\"colorbar\":{\"outlinewidth\":0,\"ticks\":\"\"}}}],\"scattermapbox\":[{\"type\":\"scattermapbox\",\"marker\":{\"colorbar\":{\"outlinewidth\":0,\"ticks\":\"\"}}}],\"scatterternary\":[{\"type\":\"scatterternary\",\"marker\":{\"colorbar\":{\"outlinewidth\":0,\"ticks\":\"\"}}}],\"scattercarpet\":[{\"type\":\"scattercarpet\",\"marker\":{\"colorbar\":{\"outlinewidth\":0,\"ticks\":\"\"}}}],\"carpet\":[{\"aaxis\":{\"endlinecolor\":\"#2a3f5f\",\"gridcolor\":\"white\",\"linecolor\":\"white\",\"minorgridcolor\":\"white\",\"startlinecolor\":\"#2a3f5f\"},\"baxis\":{\"endlinecolor\":\"#2a3f5f\",\"gridcolor\":\"white\",\"linecolor\":\"white\",\"minorgridcolor\":\"white\",\"startlinecolor\":\"#2a3f5f\"},\"type\":\"carpet\"}],\"table\":[{\"cells\":{\"fill\":{\"color\":\"#EBF0F8\"},\"line\":{\"color\":\"white\"}},\"header\":{\"fill\":{\"color\":\"#C8D4E3\"},\"line\":{\"color\":\"white\"}},\"type\":\"table\"}],\"barpolar\":[{\"marker\":{\"line\":{\"color\":\"#E5ECF6\",\"width\":0.5},\"pattern\":{\"fillmode\":\"overlay\",\"size\":10,\"solidity\":0.2}},\"type\":\"barpolar\"}],\"pie\":[{\"automargin\":true,\"type\":\"pie\"}]},\"layout\":{\"autotypenumbers\":\"strict\",\"colorway\":[\"#636efa\",\"#EF553B\",\"#00cc96\",\"#ab63fa\",\"#FFA15A\",\"#19d3f3\",\"#FF6692\",\"#B6E880\",\"#FF97FF\",\"#FECB52\"],\"font\":{\"color\":\"#2a3f5f\"},\"hovermode\":\"closest\",\"hoverlabel\":{\"align\":\"left\"},\"paper_bgcolor\":\"white\",\"plot_bgcolor\":\"#E5ECF6\",\"polar\":{\"bgcolor\":\"#E5ECF6\",\"angularaxis\":{\"gridcolor\":\"white\",\"linecolor\":\"white\",\"ticks\":\"\"},\"radialaxis\":{\"gridcolor\":\"white\",\"linecolor\":\"white\",\"ticks\":\"\"}},\"ternary\":{\"bgcolor\":\"#E5ECF6\",\"aaxis\":{\"gridcolor\":\"white\",\"linecolor\":\"white\",\"ticks\":\"\"},\"baxis\":{\"gridcolor\":\"white\",\"linecolor\":\"white\",\"ticks\":\"\"},\"caxis\":{\"gridcolor\":\"white\",\"linecolor\":\"white\",\"ticks\":\"\"}},\"coloraxis\":{\"colorbar\":{\"outlinewidth\":0,\"ticks\":\"\"}},\"colorscale\":{\"sequential\":[[0.0,\"#0d0887\"],[0.1111111111111111,\"#46039f\"],[0.2222222222222222,\"#7201a8\"],[0.3333333333333333,\"#9c179e\"],[0.4444444444444444,\"#bd3786\"],[0.5555555555555556,\"#d8576b\"],[0.6666666666666666,\"#ed7953\"],[0.7777777777777778,\"#fb9f3a\"],[0.8888888888888888,\"#fdca26\"],[1.0,\"#f0f921\"]],\"sequentialminus\":[[0.0,\"#0d0887\"],[0.1111111111111111,\"#46039f\"],[0.2222222222222222,\"#7201a8\"],[0.3333333333333333,\"#9c179e\"],[0.4444444444444444,\"#bd3786\"],[0.5555555555555556,\"#d8576b\"],[0.6666666666666666,\"#ed7953\"],[0.7777777777777778,\"#fb9f3a\"],[0.8888888888888888,\"#fdca26\"],[1.0,\"#f0f921\"]],\"diverging\":[[0,\"#8e0152\"],[0.1,\"#c51b7d\"],[0.2,\"#de77ae\"],[0.3,\"#f1b6da\"],[0.4,\"#fde0ef\"],[0.5,\"#f7f7f7\"],[0.6,\"#e6f5d0\"],[0.7,\"#b8e186\"],[0.8,\"#7fbc41\"],[0.9,\"#4d9221\"],[1,\"#276419\"]]},\"xaxis\":{\"gridcolor\":\"white\",\"linecolor\":\"white\",\"ticks\":\"\",\"title\":{\"standoff\":15},\"zerolinecolor\":\"white\",\"automargin\":true,\"zerolinewidth\":2},\"yaxis\":{\"gridcolor\":\"white\",\"linecolor\":\"white\",\"ticks\":\"\",\"title\":{\"standoff\":15},\"zerolinecolor\":\"white\",\"automargin\":true,\"zerolinewidth\":2},\"scene\":{\"xaxis\":{\"backgroundcolor\":\"#E5ECF6\",\"gridcolor\":\"white\",\"linecolor\":\"white\",\"showbackground\":true,\"ticks\":\"\",\"zerolinecolor\":\"white\",\"gridwidth\":2},\"yaxis\":{\"backgroundcolor\":\"#E5ECF6\",\"gridcolor\":\"white\",\"linecolor\":\"white\",\"showbackground\":true,\"ticks\":\"\",\"zerolinecolor\":\"white\",\"gridwidth\":2},\"zaxis\":{\"backgroundcolor\":\"#E5ECF6\",\"gridcolor\":\"white\",\"linecolor\":\"white\",\"showbackground\":true,\"ticks\":\"\",\"zerolinecolor\":\"white\",\"gridwidth\":2}},\"shapedefaults\":{\"line\":{\"color\":\"#2a3f5f\"}},\"annotationdefaults\":{\"arrowcolor\":\"#2a3f5f\",\"arrowhead\":0,\"arrowwidth\":1},\"geo\":{\"bgcolor\":\"white\",\"landcolor\":\"#E5ECF6\",\"subunitcolor\":\"white\",\"showland\":true,\"showlakes\":true,\"lakecolor\":\"white\"},\"title\":{\"x\":0.05},\"mapbox\":{\"style\":\"light\"}}},\"xaxis\":{\"anchor\":\"y\",\"domain\":[0.0,1.0],\"title\":{\"text\":\"Category\"}},\"yaxis\":{\"anchor\":\"x\",\"domain\":[0.0,1.0],\"title\":{\"text\":\"Average Sales\"}},\"legend\":{\"title\":{\"text\":\"Sub-Category\"},\"tracegroupgap\":0},\"title\":{\"text\":\"Average Sales by Item and SubItem Over Years\"},\"barmode\":\"relative\",\"updatemenus\":[{\"buttons\":[{\"args\":[null,{\"frame\":{\"duration\":500,\"redraw\":true},\"mode\":\"immediate\",\"fromcurrent\":true,\"transition\":{\"duration\":500,\"easing\":\"linear\"}}],\"label\":\"&#9654;\",\"method\":\"animate\"},{\"args\":[[null],{\"frame\":{\"duration\":0,\"redraw\":true},\"mode\":\"immediate\",\"fromcurrent\":true,\"transition\":{\"duration\":0,\"easing\":\"linear\"}}],\"label\":\"&#9724;\",\"method\":\"animate\"}],\"direction\":\"left\",\"pad\":{\"r\":10,\"t\":70},\"showactive\":false,\"type\":\"buttons\",\"x\":0.1,\"xanchor\":\"right\",\"y\":0,\"yanchor\":\"top\"}],\"sliders\":[{\"active\":0,\"currentvalue\":{\"prefix\":\"Year=\"},\"len\":0.9,\"pad\":{\"b\":10,\"t\":60},\"steps\":[{\"args\":[[\"2015\"],{\"frame\":{\"duration\":0,\"redraw\":true},\"mode\":\"immediate\",\"fromcurrent\":true,\"transition\":{\"duration\":0,\"easing\":\"linear\"}}],\"label\":\"2015\",\"method\":\"animate\"},{\"args\":[[\"2016\"],{\"frame\":{\"duration\":0,\"redraw\":true},\"mode\":\"immediate\",\"fromcurrent\":true,\"transition\":{\"duration\":0,\"easing\":\"linear\"}}],\"label\":\"2016\",\"method\":\"animate\"},{\"args\":[[\"2017\"],{\"frame\":{\"duration\":0,\"redraw\":true},\"mode\":\"immediate\",\"fromcurrent\":true,\"transition\":{\"duration\":0,\"easing\":\"linear\"}}],\"label\":\"2017\",\"method\":\"animate\"},{\"args\":[[\"2018\"],{\"frame\":{\"duration\":0,\"redraw\":true},\"mode\":\"immediate\",\"fromcurrent\":true,\"transition\":{\"duration\":0,\"easing\":\"linear\"}}],\"label\":\"2018\",\"method\":\"animate\"},{\"args\":[[\"2019\"],{\"frame\":{\"duration\":0,\"redraw\":true},\"mode\":\"immediate\",\"fromcurrent\":true,\"transition\":{\"duration\":0,\"easing\":\"linear\"}}],\"label\":\"2019\",\"method\":\"animate\"}],\"x\":0.1,\"xanchor\":\"left\",\"y\":0,\"yanchor\":\"top\"}]},                        {\"responsive\": true}                    ).then(function(){\n",
       "                            Plotly.addFrames('c7c0fd6b-a93f-4205-9b38-6be1d21e7767', [{\"data\":[{\"alignmentgroup\":\"True\",\"hovertemplate\":\"Sub-Category=Tables<br>Year=2015<br>Category=%{x}<br>Average Sales=%{y}<extra></extra>\",\"legendgroup\":\"Tables\",\"marker\":{\"color\":\"#636efa\",\"pattern\":{\"shape\":\"\"}},\"name\":\"Tables\",\"offsetgroup\":\"Tables\",\"orientation\":\"v\",\"showlegend\":true,\"textposition\":\"auto\",\"x\":[\"Furniture\"],\"xaxis\":\"x\",\"y\":[655.5654130434783],\"yaxis\":\"y\",\"type\":\"bar\"},{\"alignmentgroup\":\"True\",\"hovertemplate\":\"Sub-Category=Chairs<br>Year=2015<br>Category=%{x}<br>Average Sales=%{y}<extra></extra>\",\"legendgroup\":\"Chairs\",\"marker\":{\"color\":\"#EF553B\",\"pattern\":{\"shape\":\"\"}},\"name\":\"Chairs\",\"offsetgroup\":\"Chairs\",\"orientation\":\"v\",\"showlegend\":true,\"textposition\":\"auto\",\"x\":[\"Furniture\"],\"xaxis\":\"x\",\"y\":[604.843492063492],\"yaxis\":\"y\",\"type\":\"bar\"},{\"alignmentgroup\":\"True\",\"hovertemplate\":\"Sub-Category=Bookcases<br>Year=2015<br>Category=%{x}<br>Average Sales=%{y}<extra></extra>\",\"legendgroup\":\"Bookcases\",\"marker\":{\"color\":\"#00cc96\",\"pattern\":{\"shape\":\"\"}},\"name\":\"Bookcases\",\"offsetgroup\":\"Bookcases\",\"orientation\":\"v\",\"showlegend\":true,\"textposition\":\"auto\",\"x\":[\"Furniture\"],\"xaxis\":\"x\",\"y\":[517.749417142857],\"yaxis\":\"y\",\"type\":\"bar\"},{\"alignmentgroup\":\"True\",\"hovertemplate\":\"Sub-Category=Furnishings<br>Year=2015<br>Category=%{x}<br>Average Sales=%{y}<extra></extra>\",\"legendgroup\":\"Furnishings\",\"marker\":{\"color\":\"#ab63fa\",\"pattern\":{\"shape\":\"\"}},\"name\":\"Furnishings\",\"offsetgroup\":\"Furnishings\",\"orientation\":\"v\",\"showlegend\":true,\"textposition\":\"auto\",\"x\":[\"Furniture\"],\"xaxis\":\"x\",\"y\":[76.57954913294797],\"yaxis\":\"y\",\"type\":\"bar\"},{\"alignmentgroup\":\"True\",\"hovertemplate\":\"Sub-Category=Supplies<br>Year=2015<br>Category=%{x}<br>Average Sales=%{y}<extra></extra>\",\"legendgroup\":\"Supplies\",\"marker\":{\"color\":\"#FFA15A\",\"pattern\":{\"shape\":\"\"}},\"name\":\"Supplies\",\"offsetgroup\":\"Supplies\",\"orientation\":\"v\",\"showlegend\":true,\"textposition\":\"auto\",\"x\":[\"Office Supplies\"],\"xaxis\":\"x\",\"y\":[377.2531578947369],\"yaxis\":\"y\",\"type\":\"bar\"},{\"alignmentgroup\":\"True\",\"hovertemplate\":\"Sub-Category=Storage<br>Year=2015<br>Category=%{x}<br>Average Sales=%{y}<extra></extra>\",\"legendgroup\":\"Storage\",\"marker\":{\"color\":\"#19d3f3\",\"pattern\":{\"shape\":\"\"}},\"name\":\"Storage\",\"offsetgroup\":\"Storage\",\"orientation\":\"v\",\"showlegend\":true,\"textposition\":\"auto\",\"x\":[\"Office Supplies\"],\"xaxis\":\"x\",\"y\":[284.53407100591716],\"yaxis\":\"y\",\"type\":\"bar\"},{\"alignmentgroup\":\"True\",\"hovertemplate\":\"Sub-Category=Binders<br>Year=2015<br>Category=%{x}<br>Average Sales=%{y}<extra></extra>\",\"legendgroup\":\"Binders\",\"marker\":{\"color\":\"#FF6692\",\"pattern\":{\"shape\":\"\"}},\"name\":\"Binders\",\"offsetgroup\":\"Binders\",\"orientation\":\"v\",\"showlegend\":true,\"textposition\":\"auto\",\"x\":[\"Office Supplies\"],\"xaxis\":\"x\",\"y\":[152.9003440860215],\"yaxis\":\"y\",\"type\":\"bar\"},{\"alignmentgroup\":\"True\",\"hovertemplate\":\"Sub-Category=Appliances<br>Year=2015<br>Category=%{x}<br>Average Sales=%{y}<extra></extra>\",\"legendgroup\":\"Appliances\",\"marker\":{\"color\":\"#B6E880\",\"pattern\":{\"shape\":\"\"}},\"name\":\"Appliances\",\"offsetgroup\":\"Appliances\",\"orientation\":\"v\",\"showlegend\":true,\"textposition\":\"auto\",\"x\":[\"Office Supplies\"],\"xaxis\":\"x\",\"y\":[147.78438888888888],\"yaxis\":\"y\",\"type\":\"bar\"},{\"alignmentgroup\":\"True\",\"hovertemplate\":\"Sub-Category=Envelopes<br>Year=2015<br>Category=%{x}<br>Average Sales=%{y}<extra></extra>\",\"legendgroup\":\"Envelopes\",\"marker\":{\"color\":\"#FF97FF\",\"pattern\":{\"shape\":\"\"}},\"name\":\"Envelopes\",\"offsetgroup\":\"Envelopes\",\"orientation\":\"v\",\"showlegend\":true,\"textposition\":\"auto\",\"x\":[\"Office Supplies\"],\"xaxis\":\"x\",\"y\":[74.15760784313726],\"yaxis\":\"y\",\"type\":\"bar\"},{\"alignmentgroup\":\"True\",\"hovertemplate\":\"Sub-Category=Machines<br>Year=2015<br>Category=%{x}<br>Average Sales=%{y}<extra></extra>\",\"legendgroup\":\"Machines\",\"marker\":{\"color\":\"#FECB52\",\"pattern\":{\"shape\":\"\"}},\"name\":\"Machines\",\"offsetgroup\":\"Machines\",\"orientation\":\"v\",\"showlegend\":true,\"textposition\":\"auto\",\"x\":[\"Technology\"],\"xaxis\":\"x\",\"y\":[2450.21684],\"yaxis\":\"y\",\"type\":\"bar\"},{\"alignmentgroup\":\"True\",\"hovertemplate\":\"Sub-Category=Copiers<br>Year=2015<br>Category=%{x}<br>Average Sales=%{y}<extra></extra>\",\"legendgroup\":\"Copiers\",\"marker\":{\"color\":\"#636efa\",\"pattern\":{\"shape\":\"\"}},\"name\":\"Copiers\",\"offsetgroup\":\"Copiers\",\"orientation\":\"v\",\"showlegend\":true,\"textposition\":\"auto\",\"x\":[\"Technology\"],\"xaxis\":\"x\",\"y\":[1084.9782],\"yaxis\":\"y\",\"type\":\"bar\"},{\"alignmentgroup\":\"True\",\"hovertemplate\":\"Sub-Category=Phones<br>Year=2015<br>Category=%{x}<br>Average Sales=%{y}<extra></extra>\",\"legendgroup\":\"Phones\",\"marker\":{\"color\":\"#EF553B\",\"pattern\":{\"shape\":\"\"}},\"name\":\"Phones\",\"offsetgroup\":\"Phones\",\"orientation\":\"v\",\"showlegend\":true,\"textposition\":\"auto\",\"x\":[\"Technology\"],\"xaxis\":\"x\",\"y\":[462.7543414634146],\"yaxis\":\"y\",\"type\":\"bar\"},{\"alignmentgroup\":\"True\",\"hovertemplate\":\"Sub-Category=Accessories<br>Year=2015<br>Category=%{x}<br>Average Sales=%{y}<extra></extra>\",\"legendgroup\":\"Accessories\",\"marker\":{\"color\":\"#00cc96\",\"pattern\":{\"shape\":\"\"}},\"name\":\"Accessories\",\"offsetgroup\":\"Accessories\",\"orientation\":\"v\",\"showlegend\":true,\"textposition\":\"auto\",\"x\":[\"Technology\"],\"xaxis\":\"x\",\"y\":[159.3125864661654],\"yaxis\":\"y\",\"type\":\"bar\"}],\"name\":\"2015\"},{\"data\":[{\"alignmentgroup\":\"True\",\"hovertemplate\":\"Sub-Category=Tables<br>Year=2016<br>Category=%{x}<br>Average Sales=%{y}<extra></extra>\",\"legendgroup\":\"Tables\",\"marker\":{\"color\":\"#636efa\",\"pattern\":{\"shape\":\"\"}},\"name\":\"Tables\",\"offsetgroup\":\"Tables\",\"orientation\":\"v\",\"showlegend\":true,\"textposition\":\"auto\",\"x\":[\"Furniture\"],\"xaxis\":\"x\",\"y\":[641.4457053571429],\"yaxis\":\"y\",\"type\":\"bar\"},{\"alignmentgroup\":\"True\",\"hovertemplate\":\"Sub-Category=Chairs<br>Year=2016<br>Category=%{x}<br>Average Sales=%{y}<extra></extra>\",\"legendgroup\":\"Chairs\",\"marker\":{\"color\":\"#EF553B\",\"pattern\":{\"shape\":\"\"}},\"name\":\"Chairs\",\"offsetgroup\":\"Chairs\",\"orientation\":\"v\",\"showlegend\":true,\"textposition\":\"auto\",\"x\":[\"Furniture\"],\"xaxis\":\"x\",\"y\":[536.1790378787879],\"yaxis\":\"y\",\"type\":\"bar\"},{\"alignmentgroup\":\"True\",\"hovertemplate\":\"Sub-Category=Bookcases<br>Year=2016<br>Category=%{x}<br>Average Sales=%{y}<extra></extra>\",\"legendgroup\":\"Bookcases\",\"marker\":{\"color\":\"#00cc96\",\"pattern\":{\"shape\":\"\"}},\"name\":\"Bookcases\",\"offsetgroup\":\"Bookcases\",\"orientation\":\"v\",\"showlegend\":true,\"textposition\":\"auto\",\"x\":[\"Furniture\"],\"xaxis\":\"x\",\"y\":[590.2769983050847],\"yaxis\":\"y\",\"type\":\"bar\"},{\"alignmentgroup\":\"True\",\"hovertemplate\":\"Sub-Category=Furnishings<br>Year=2016<br>Category=%{x}<br>Average Sales=%{y}<extra></extra>\",\"legendgroup\":\"Furnishings\",\"marker\":{\"color\":\"#ab63fa\",\"pattern\":{\"shape\":\"\"}},\"name\":\"Furnishings\",\"offsetgroup\":\"Furnishings\",\"orientation\":\"v\",\"showlegend\":true,\"textposition\":\"auto\",\"x\":[\"Furniture\"],\"xaxis\":\"x\",\"y\":[104.49593999999999],\"yaxis\":\"y\",\"type\":\"bar\"},{\"alignmentgroup\":\"True\",\"hovertemplate\":\"Sub-Category=Supplies<br>Year=2016<br>Category=%{x}<br>Average Sales=%{y}<extra></extra>\",\"legendgroup\":\"Supplies\",\"marker\":{\"color\":\"#FFA15A\",\"pattern\":{\"shape\":\"\"}},\"name\":\"Supplies\",\"offsetgroup\":\"Supplies\",\"orientation\":\"v\",\"showlegend\":true,\"textposition\":\"auto\",\"x\":[\"Office Supplies\"],\"xaxis\":\"x\",\"y\":[67.30835714285715],\"yaxis\":\"y\",\"type\":\"bar\"},{\"alignmentgroup\":\"True\",\"hovertemplate\":\"Sub-Category=Storage<br>Year=2016<br>Category=%{x}<br>Average Sales=%{y}<extra></extra>\",\"legendgroup\":\"Storage\",\"marker\":{\"color\":\"#19d3f3\",\"pattern\":{\"shape\":\"\"}},\"name\":\"Storage\",\"offsetgroup\":\"Storage\",\"orientation\":\"v\",\"showlegend\":true,\"textposition\":\"auto\",\"x\":[\"Office Supplies\"],\"xaxis\":\"x\",\"y\":[261.345325443787],\"yaxis\":\"y\",\"type\":\"bar\"},{\"alignmentgroup\":\"True\",\"hovertemplate\":\"Sub-Category=Binders<br>Year=2016<br>Category=%{x}<br>Average Sales=%{y}<extra></extra>\",\"legendgroup\":\"Binders\",\"marker\":{\"color\":\"#FF6692\",\"pattern\":{\"shape\":\"\"}},\"name\":\"Binders\",\"offsetgroup\":\"Binders\",\"orientation\":\"v\",\"showlegend\":true,\"textposition\":\"auto\",\"x\":[\"Office Supplies\"],\"xaxis\":\"x\",\"y\":[115.84737581699346],\"yaxis\":\"y\",\"type\":\"bar\"},{\"alignmentgroup\":\"True\",\"hovertemplate\":\"Sub-Category=Appliances<br>Year=2016<br>Category=%{x}<br>Average Sales=%{y}<extra></extra>\",\"legendgroup\":\"Appliances\",\"marker\":{\"color\":\"#B6E880\",\"pattern\":{\"shape\":\"\"}},\"name\":\"Appliances\",\"offsetgroup\":\"Appliances\",\"orientation\":\"v\",\"showlegend\":true,\"textposition\":\"auto\",\"x\":[\"Office Supplies\"],\"xaxis\":\"x\",\"y\":[264.08735789473684],\"yaxis\":\"y\",\"type\":\"bar\"},{\"alignmentgroup\":\"True\",\"hovertemplate\":\"Sub-Category=Envelopes<br>Year=2016<br>Category=%{x}<br>Average Sales=%{y}<extra></extra>\",\"legendgroup\":\"Envelopes\",\"marker\":{\"color\":\"#FF97FF\",\"pattern\":{\"shape\":\"\"}},\"name\":\"Envelopes\",\"offsetgroup\":\"Envelopes\",\"orientation\":\"v\",\"showlegend\":true,\"textposition\":\"auto\",\"x\":[\"Office Supplies\"],\"xaxis\":\"x\",\"y\":[64.23227272727273],\"yaxis\":\"y\",\"type\":\"bar\"},{\"alignmentgroup\":\"True\",\"hovertemplate\":\"Sub-Category=Machines<br>Year=2016<br>Category=%{x}<br>Average Sales=%{y}<extra></extra>\",\"legendgroup\":\"Machines\",\"marker\":{\"color\":\"#FECB52\",\"pattern\":{\"shape\":\"\"}},\"name\":\"Machines\",\"offsetgroup\":\"Machines\",\"orientation\":\"v\",\"showlegend\":true,\"textposition\":\"auto\",\"x\":[\"Technology\"],\"xaxis\":\"x\",\"y\":[1082.6287083333334],\"yaxis\":\"y\",\"type\":\"bar\"},{\"alignmentgroup\":\"True\",\"hovertemplate\":\"Sub-Category=Copiers<br>Year=2016<br>Category=%{x}<br>Average Sales=%{y}<extra></extra>\",\"legendgroup\":\"Copiers\",\"marker\":{\"color\":\"#636efa\",\"pattern\":{\"shape\":\"\"}},\"name\":\"Copiers\",\"offsetgroup\":\"Copiers\",\"orientation\":\"v\",\"showlegend\":true,\"textposition\":\"auto\",\"x\":[\"Technology\"],\"xaxis\":\"x\",\"y\":[1308.9725],\"yaxis\":\"y\",\"type\":\"bar\"},{\"alignmentgroup\":\"True\",\"hovertemplate\":\"Sub-Category=Phones<br>Year=2016<br>Category=%{x}<br>Average Sales=%{y}<extra></extra>\",\"legendgroup\":\"Phones\",\"marker\":{\"color\":\"#EF553B\",\"pattern\":{\"shape\":\"\"}},\"name\":\"Phones\",\"offsetgroup\":\"Phones\",\"orientation\":\"v\",\"showlegend\":true,\"textposition\":\"auto\",\"x\":[\"Technology\"],\"xaxis\":\"x\",\"y\":[344.21499000000006],\"yaxis\":\"y\",\"type\":\"bar\"},{\"alignmentgroup\":\"True\",\"hovertemplate\":\"Sub-Category=Accessories<br>Year=2016<br>Category=%{x}<br>Average Sales=%{y}<extra></extra>\",\"legendgroup\":\"Accessories\",\"marker\":{\"color\":\"#00cc96\",\"pattern\":{\"shape\":\"\"}},\"name\":\"Accessories\",\"offsetgroup\":\"Accessories\",\"orientation\":\"v\",\"showlegend\":true,\"textposition\":\"auto\",\"x\":[\"Technology\"],\"xaxis\":\"x\",\"y\":[248.68087861271678],\"yaxis\":\"y\",\"type\":\"bar\"}],\"name\":\"2016\"},{\"data\":[{\"alignmentgroup\":\"True\",\"hovertemplate\":\"Sub-Category=Tables<br>Year=2017<br>Category=%{x}<br>Average Sales=%{y}<extra></extra>\",\"legendgroup\":\"Tables\",\"marker\":{\"color\":\"#636efa\",\"pattern\":{\"shape\":\"\"}},\"name\":\"Tables\",\"offsetgroup\":\"Tables\",\"orientation\":\"v\",\"showlegend\":true,\"textposition\":\"auto\",\"x\":[\"Furniture\"],\"xaxis\":\"x\",\"y\":[722.9365178571429],\"yaxis\":\"y\",\"type\":\"bar\"},{\"alignmentgroup\":\"True\",\"hovertemplate\":\"Sub-Category=Chairs<br>Year=2017<br>Category=%{x}<br>Average Sales=%{y}<extra></extra>\",\"legendgroup\":\"Chairs\",\"marker\":{\"color\":\"#EF553B\",\"pattern\":{\"shape\":\"\"}},\"name\":\"Chairs\",\"offsetgroup\":\"Chairs\",\"orientation\":\"v\",\"showlegend\":true,\"textposition\":\"auto\",\"x\":[\"Furniture\"],\"xaxis\":\"x\",\"y\":[514.2942738853503],\"yaxis\":\"y\",\"type\":\"bar\"},{\"alignmentgroup\":\"True\",\"hovertemplate\":\"Sub-Category=Bookcases<br>Year=2017<br>Category=%{x}<br>Average Sales=%{y}<extra></extra>\",\"legendgroup\":\"Bookcases\",\"marker\":{\"color\":\"#00cc96\",\"pattern\":{\"shape\":\"\"}},\"name\":\"Bookcases\",\"offsetgroup\":\"Bookcases\",\"orientation\":\"v\",\"showlegend\":true,\"textposition\":\"auto\",\"x\":[\"Furniture\"],\"xaxis\":\"x\",\"y\":[480.6626636363637],\"yaxis\":\"y\",\"type\":\"bar\"},{\"alignmentgroup\":\"True\",\"hovertemplate\":\"Sub-Category=Furnishings<br>Year=2017<br>Category=%{x}<br>Average Sales=%{y}<extra></extra>\",\"legendgroup\":\"Furnishings\",\"marker\":{\"color\":\"#ab63fa\",\"pattern\":{\"shape\":\"\"}},\"name\":\"Furnishings\",\"offsetgroup\":\"Furnishings\",\"orientation\":\"v\",\"showlegend\":true,\"textposition\":\"auto\",\"x\":[\"Furniture\"],\"xaxis\":\"x\",\"y\":[108.81380487804878],\"yaxis\":\"y\",\"type\":\"bar\"},{\"alignmentgroup\":\"True\",\"hovertemplate\":\"Sub-Category=Supplies<br>Year=2017<br>Category=%{x}<br>Average Sales=%{y}<extra></extra>\",\"legendgroup\":\"Supplies\",\"marker\":{\"color\":\"#FFA15A\",\"pattern\":{\"shape\":\"\"}},\"name\":\"Supplies\",\"offsetgroup\":\"Supplies\",\"orientation\":\"v\",\"showlegend\":true,\"textposition\":\"auto\",\"x\":[\"Office Supplies\"],\"xaxis\":\"x\",\"y\":[244.93572413793106],\"yaxis\":\"y\",\"type\":\"bar\"},{\"alignmentgroup\":\"True\",\"hovertemplate\":\"Sub-Category=Storage<br>Year=2017<br>Category=%{x}<br>Average Sales=%{y}<extra></extra>\",\"legendgroup\":\"Storage\",\"marker\":{\"color\":\"#19d3f3\",\"pattern\":{\"shape\":\"\"}},\"name\":\"Storage\",\"offsetgroup\":\"Storage\",\"orientation\":\"v\",\"showlegend\":true,\"textposition\":\"auto\",\"x\":[\"Office Supplies\"],\"xaxis\":\"x\",\"y\":[272.77257142857144],\"yaxis\":\"y\",\"type\":\"bar\"},{\"alignmentgroup\":\"True\",\"hovertemplate\":\"Sub-Category=Binders<br>Year=2017<br>Category=%{x}<br>Average Sales=%{y}<extra></extra>\",\"legendgroup\":\"Binders\",\"marker\":{\"color\":\"#FF6692\",\"pattern\":{\"shape\":\"\"}},\"name\":\"Binders\",\"offsetgroup\":\"Binders\",\"orientation\":\"v\",\"showlegend\":true,\"textposition\":\"auto\",\"x\":[\"Office Supplies\"],\"xaxis\":\"x\",\"y\":[122.10719070904645],\"yaxis\":\"y\",\"type\":\"bar\"},{\"alignmentgroup\":\"True\",\"hovertemplate\":\"Sub-Category=Appliances<br>Year=2017<br>Category=%{x}<br>Average Sales=%{y}<extra></extra>\",\"legendgroup\":\"Appliances\",\"marker\":{\"color\":\"#B6E880\",\"pattern\":{\"shape\":\"\"}},\"name\":\"Appliances\",\"offsetgroup\":\"Appliances\",\"orientation\":\"v\",\"showlegend\":true,\"textposition\":\"auto\",\"x\":[\"Office Supplies\"],\"xaxis\":\"x\",\"y\":[235.36015454545452],\"yaxis\":\"y\",\"type\":\"bar\"},{\"alignmentgroup\":\"True\",\"hovertemplate\":\"Sub-Category=Envelopes<br>Year=2017<br>Category=%{x}<br>Average Sales=%{y}<extra></extra>\",\"legendgroup\":\"Envelopes\",\"marker\":{\"color\":\"#FF97FF\",\"pattern\":{\"shape\":\"\"}},\"name\":\"Envelopes\",\"offsetgroup\":\"Envelopes\",\"orientation\":\"v\",\"showlegend\":true,\"textposition\":\"auto\",\"x\":[\"Office Supplies\"],\"xaxis\":\"x\",\"y\":[78.80173333333333],\"yaxis\":\"y\",\"type\":\"bar\"},{\"alignmentgroup\":\"True\",\"hovertemplate\":\"Sub-Category=Machines<br>Year=2017<br>Category=%{x}<br>Average Sales=%{y}<extra></extra>\",\"legendgroup\":\"Machines\",\"marker\":{\"color\":\"#FECB52\",\"pattern\":{\"shape\":\"\"}},\"name\":\"Machines\",\"offsetgroup\":\"Machines\",\"orientation\":\"v\",\"showlegend\":true,\"textposition\":\"auto\",\"x\":[\"Technology\"],\"xaxis\":\"x\",\"y\":[1818.296125],\"yaxis\":\"y\",\"type\":\"bar\"},{\"alignmentgroup\":\"True\",\"hovertemplate\":\"Sub-Category=Copiers<br>Year=2017<br>Category=%{x}<br>Average Sales=%{y}<extra></extra>\",\"legendgroup\":\"Copiers\",\"marker\":{\"color\":\"#636efa\",\"pattern\":{\"shape\":\"\"}},\"name\":\"Copiers\",\"offsetgroup\":\"Copiers\",\"orientation\":\"v\",\"showlegend\":true,\"textposition\":\"auto\",\"x\":[\"Technology\"],\"xaxis\":\"x\",\"y\":[3308.5338571428574],\"yaxis\":\"y\",\"type\":\"bar\"},{\"alignmentgroup\":\"True\",\"hovertemplate\":\"Sub-Category=Phones<br>Year=2017<br>Category=%{x}<br>Average Sales=%{y}<extra></extra>\",\"legendgroup\":\"Phones\",\"marker\":{\"color\":\"#EF553B\",\"pattern\":{\"shape\":\"\"}},\"name\":\"Phones\",\"offsetgroup\":\"Phones\",\"orientation\":\"v\",\"showlegend\":true,\"textposition\":\"auto\",\"x\":[\"Technology\"],\"xaxis\":\"x\",\"y\":[348.9316090909091],\"yaxis\":\"y\",\"type\":\"bar\"},{\"alignmentgroup\":\"True\",\"hovertemplate\":\"Sub-Category=Accessories<br>Year=2017<br>Category=%{x}<br>Average Sales=%{y}<extra></extra>\",\"legendgroup\":\"Accessories\",\"marker\":{\"color\":\"#00cc96\",\"pattern\":{\"shape\":\"\"}},\"name\":\"Accessories\",\"offsetgroup\":\"Accessories\",\"orientation\":\"v\",\"showlegend\":true,\"textposition\":\"auto\",\"x\":[\"Technology\"],\"xaxis\":\"x\",\"y\":[229.22355801104973],\"yaxis\":\"y\",\"type\":\"bar\"}],\"name\":\"2017\"},{\"data\":[{\"alignmentgroup\":\"True\",\"hovertemplate\":\"Sub-Category=Tables<br>Year=2018<br>Category=%{x}<br>Average Sales=%{y}<extra></extra>\",\"legendgroup\":\"Tables\",\"marker\":{\"color\":\"#636efa\",\"pattern\":{\"shape\":\"\"}},\"name\":\"Tables\",\"offsetgroup\":\"Tables\",\"orientation\":\"v\",\"showlegend\":true,\"textposition\":\"auto\",\"x\":[\"Furniture\"],\"xaxis\":\"x\",\"y\":[580.2760714285714],\"yaxis\":\"y\",\"type\":\"bar\"},{\"alignmentgroup\":\"True\",\"hovertemplate\":\"Sub-Category=Chairs<br>Year=2018<br>Category=%{x}<br>Average Sales=%{y}<extra></extra>\",\"legendgroup\":\"Chairs\",\"marker\":{\"color\":\"#EF553B\",\"pattern\":{\"shape\":\"\"}},\"name\":\"Chairs\",\"offsetgroup\":\"Chairs\",\"orientation\":\"v\",\"showlegend\":true,\"textposition\":\"auto\",\"x\":[\"Furniture\"],\"xaxis\":\"x\",\"y\":[495.17691935483873],\"yaxis\":\"y\",\"type\":\"bar\"},{\"alignmentgroup\":\"True\",\"hovertemplate\":\"Sub-Category=Bookcases<br>Year=2018<br>Category=%{x}<br>Average Sales=%{y}<extra></extra>\",\"legendgroup\":\"Bookcases\",\"marker\":{\"color\":\"#00cc96\",\"pattern\":{\"shape\":\"\"}},\"name\":\"Bookcases\",\"offsetgroup\":\"Bookcases\",\"orientation\":\"v\",\"showlegend\":true,\"textposition\":\"auto\",\"x\":[\"Furniture\"],\"xaxis\":\"x\",\"y\":[400.30122837837837],\"yaxis\":\"y\",\"type\":\"bar\"},{\"alignmentgroup\":\"True\",\"hovertemplate\":\"Sub-Category=Furnishings<br>Year=2018<br>Category=%{x}<br>Average Sales=%{y}<extra></extra>\",\"legendgroup\":\"Furnishings\",\"marker\":{\"color\":\"#ab63fa\",\"pattern\":{\"shape\":\"\"}},\"name\":\"Furnishings\",\"offsetgroup\":\"Furnishings\",\"orientation\":\"v\",\"showlegend\":true,\"textposition\":\"auto\",\"x\":[\"Furniture\"],\"xaxis\":\"x\",\"y\":[91.55851465798045],\"yaxis\":\"y\",\"type\":\"bar\"},{\"alignmentgroup\":\"True\",\"hovertemplate\":\"Sub-Category=Supplies<br>Year=2018<br>Category=%{x}<br>Average Sales=%{y}<extra></extra>\",\"legendgroup\":\"Supplies\",\"marker\":{\"color\":\"#FFA15A\",\"pattern\":{\"shape\":\"\"}},\"name\":\"Supplies\",\"offsetgroup\":\"Supplies\",\"orientation\":\"v\",\"showlegend\":true,\"textposition\":\"auto\",\"x\":[\"Office Supplies\"],\"xaxis\":\"x\",\"y\":[270.3236271186441],\"yaxis\":\"y\",\"type\":\"bar\"},{\"alignmentgroup\":\"True\",\"hovertemplate\":\"Sub-Category=Storage<br>Year=2018<br>Category=%{x}<br>Average Sales=%{y}<extra></extra>\",\"legendgroup\":\"Storage\",\"marker\":{\"color\":\"#19d3f3\",\"pattern\":{\"shape\":\"\"}},\"name\":\"Storage\",\"offsetgroup\":\"Storage\",\"orientation\":\"v\",\"showlegend\":true,\"textposition\":\"auto\",\"x\":[\"Office Supplies\"],\"xaxis\":\"x\",\"y\":[240.47989285714283],\"yaxis\":\"y\",\"type\":\"bar\"},{\"alignmentgroup\":\"True\",\"hovertemplate\":\"Sub-Category=Binders<br>Year=2018<br>Category=%{x}<br>Average Sales=%{y}<extra></extra>\",\"legendgroup\":\"Binders\",\"marker\":{\"color\":\"#FF6692\",\"pattern\":{\"shape\":\"\"}},\"name\":\"Binders\",\"offsetgroup\":\"Binders\",\"orientation\":\"v\",\"showlegend\":true,\"textposition\":\"auto\",\"x\":[\"Office Supplies\"],\"xaxis\":\"x\",\"y\":[146.99579303278688],\"yaxis\":\"y\",\"type\":\"bar\"},{\"alignmentgroup\":\"True\",\"hovertemplate\":\"Sub-Category=Appliances<br>Year=2018<br>Category=%{x}<br>Average Sales=%{y}<extra></extra>\",\"legendgroup\":\"Appliances\",\"marker\":{\"color\":\"#B6E880\",\"pattern\":{\"shape\":\"\"}},\"name\":\"Appliances\",\"offsetgroup\":\"Appliances\",\"orientation\":\"v\",\"showlegend\":true,\"textposition\":\"auto\",\"x\":[\"Office Supplies\"],\"xaxis\":\"x\",\"y\":[244.36822222222224],\"yaxis\":\"y\",\"type\":\"bar\"},{\"alignmentgroup\":\"True\",\"hovertemplate\":\"Sub-Category=Machines<br>Year=2018<br>Category=%{x}<br>Average Sales=%{y}<extra></extra>\",\"legendgroup\":\"Machines\",\"marker\":{\"color\":\"#FECB52\",\"pattern\":{\"shape\":\"\"}},\"name\":\"Machines\",\"offsetgroup\":\"Machines\",\"orientation\":\"v\",\"showlegend\":true,\"textposition\":\"auto\",\"x\":[\"Technology\"],\"xaxis\":\"x\",\"y\":[1288.6660294117648],\"yaxis\":\"y\",\"type\":\"bar\"},{\"alignmentgroup\":\"True\",\"hovertemplate\":\"Sub-Category=Copiers<br>Year=2018<br>Category=%{x}<br>Average Sales=%{y}<extra></extra>\",\"legendgroup\":\"Copiers\",\"marker\":{\"color\":\"#636efa\",\"pattern\":{\"shape\":\"\"}},\"name\":\"Copiers\",\"offsetgroup\":\"Copiers\",\"orientation\":\"v\",\"showlegend\":true,\"textposition\":\"auto\",\"x\":[\"Technology\"],\"xaxis\":\"x\",\"y\":[2859.063090909091],\"yaxis\":\"y\",\"type\":\"bar\"},{\"alignmentgroup\":\"True\",\"hovertemplate\":\"Sub-Category=Phones<br>Year=2018<br>Category=%{x}<br>Average Sales=%{y}<extra></extra>\",\"legendgroup\":\"Phones\",\"marker\":{\"color\":\"#EF553B\",\"pattern\":{\"shape\":\"\"}},\"name\":\"Phones\",\"offsetgroup\":\"Phones\",\"orientation\":\"v\",\"showlegend\":true,\"textposition\":\"auto\",\"x\":[\"Technology\"],\"xaxis\":\"x\",\"y\":[363.1245763888889],\"yaxis\":\"y\",\"type\":\"bar\"},{\"alignmentgroup\":\"True\",\"hovertemplate\":\"Sub-Category=Accessories<br>Year=2018<br>Category=%{x}<br>Average Sales=%{y}<extra></extra>\",\"legendgroup\":\"Accessories\",\"marker\":{\"color\":\"#00cc96\",\"pattern\":{\"shape\":\"\"}},\"name\":\"Accessories\",\"offsetgroup\":\"Accessories\",\"orientation\":\"v\",\"showlegend\":true,\"textposition\":\"auto\",\"x\":[\"Technology\"],\"xaxis\":\"x\",\"y\":[217.90958801498127],\"yaxis\":\"y\",\"type\":\"bar\"},{\"alignmentgroup\":\"True\",\"hovertemplate\":\"Sub-Category=Paper<br>Year=2018<br>Category=%{x}<br>Average Sales=%{y}<extra></extra>\",\"legendgroup\":\"Paper\",\"marker\":{\"color\":\"#ab63fa\",\"pattern\":{\"shape\":\"\"}},\"name\":\"Paper\",\"offsetgroup\":\"Paper\",\"orientation\":\"v\",\"showlegend\":true,\"textposition\":\"auto\",\"x\":[\"Office Supplies\"],\"xaxis\":\"x\",\"y\":[60.59459111111111],\"yaxis\":\"y\",\"type\":\"bar\"}],\"name\":\"2018\"},{\"data\":[{\"alignmentgroup\":\"True\",\"hovertemplate\":\"Sub-Category=Chairs<br>Year=2019<br>Category=%{x}<br>Average Sales=%{y}<extra></extra>\",\"legendgroup\":\"Chairs\",\"marker\":{\"color\":\"#EF553B\",\"pattern\":{\"shape\":\"\"}},\"name\":\"Chairs\",\"offsetgroup\":\"Chairs\",\"orientation\":\"v\",\"showlegend\":true,\"textposition\":\"auto\",\"x\":[\"Furniture\"],\"xaxis\":\"x\",\"y\":[454.90200000000004],\"yaxis\":\"y\",\"type\":\"bar\"},{\"alignmentgroup\":\"True\",\"hovertemplate\":\"Sub-Category=Bookcases<br>Year=2019<br>Category=%{x}<br>Average Sales=%{y}<extra></extra>\",\"legendgroup\":\"Bookcases\",\"marker\":{\"color\":\"#00cc96\",\"pattern\":{\"shape\":\"\"}},\"name\":\"Bookcases\",\"offsetgroup\":\"Bookcases\",\"orientation\":\"v\",\"showlegend\":true,\"textposition\":\"auto\",\"x\":[\"Furniture\"],\"xaxis\":\"x\",\"y\":[200.9944],\"yaxis\":\"y\",\"type\":\"bar\"},{\"alignmentgroup\":\"True\",\"hovertemplate\":\"Sub-Category=Furnishings<br>Year=2019<br>Category=%{x}<br>Average Sales=%{y}<extra></extra>\",\"legendgroup\":\"Furnishings\",\"marker\":{\"color\":\"#ab63fa\",\"pattern\":{\"shape\":\"\"}},\"name\":\"Furnishings\",\"offsetgroup\":\"Furnishings\",\"orientation\":\"v\",\"showlegend\":true,\"textposition\":\"auto\",\"x\":[\"Furniture\"],\"xaxis\":\"x\",\"y\":[37.5816],\"yaxis\":\"y\",\"type\":\"bar\"},{\"alignmentgroup\":\"True\",\"hovertemplate\":\"Sub-Category=Supplies<br>Year=2019<br>Category=%{x}<br>Average Sales=%{y}<extra></extra>\",\"legendgroup\":\"Supplies\",\"marker\":{\"color\":\"#FFA15A\",\"pattern\":{\"shape\":\"\"}},\"name\":\"Supplies\",\"offsetgroup\":\"Supplies\",\"orientation\":\"v\",\"showlegend\":true,\"textposition\":\"auto\",\"x\":[\"Office Supplies\"],\"xaxis\":\"x\",\"y\":[44.688],\"yaxis\":\"y\",\"type\":\"bar\"},{\"alignmentgroup\":\"True\",\"hovertemplate\":\"Sub-Category=Storage<br>Year=2019<br>Category=%{x}<br>Average Sales=%{y}<extra></extra>\",\"legendgroup\":\"Storage\",\"marker\":{\"color\":\"#19d3f3\",\"pattern\":{\"shape\":\"\"}},\"name\":\"Storage\",\"offsetgroup\":\"Storage\",\"orientation\":\"v\",\"showlegend\":true,\"textposition\":\"auto\",\"x\":[\"Office Supplies\"],\"xaxis\":\"x\",\"y\":[302.958],\"yaxis\":\"y\",\"type\":\"bar\"},{\"alignmentgroup\":\"True\",\"hovertemplate\":\"Sub-Category=Appliances<br>Year=2019<br>Category=%{x}<br>Average Sales=%{y}<extra></extra>\",\"legendgroup\":\"Appliances\",\"marker\":{\"color\":\"#B6E880\",\"pattern\":{\"shape\":\"\"}},\"name\":\"Appliances\",\"offsetgroup\":\"Appliances\",\"orientation\":\"v\",\"showlegend\":true,\"textposition\":\"auto\",\"x\":[\"Office Supplies\"],\"xaxis\":\"x\",\"y\":[209.3],\"yaxis\":\"y\",\"type\":\"bar\"},{\"alignmentgroup\":\"True\",\"hovertemplate\":\"Sub-Category=Phones<br>Year=2019<br>Category=%{x}<br>Average Sales=%{y}<extra></extra>\",\"legendgroup\":\"Phones\",\"marker\":{\"color\":\"#EF553B\",\"pattern\":{\"shape\":\"\"}},\"name\":\"Phones\",\"offsetgroup\":\"Phones\",\"orientation\":\"v\",\"showlegend\":true,\"textposition\":\"auto\",\"x\":[\"Technology\"],\"xaxis\":\"x\",\"y\":[136.052],\"yaxis\":\"y\",\"type\":\"bar\"},{\"alignmentgroup\":\"True\",\"hovertemplate\":\"Sub-Category=Paper<br>Year=2019<br>Category=%{x}<br>Average Sales=%{y}<extra></extra>\",\"legendgroup\":\"Paper\",\"marker\":{\"color\":\"#ab63fa\",\"pattern\":{\"shape\":\"\"}},\"name\":\"Paper\",\"offsetgroup\":\"Paper\",\"orientation\":\"v\",\"showlegend\":true,\"textposition\":\"auto\",\"x\":[\"Office Supplies\"],\"xaxis\":\"x\",\"y\":[68.6905],\"yaxis\":\"y\",\"type\":\"bar\"},{\"alignmentgroup\":\"True\",\"hovertemplate\":\"Sub-Category=Labels<br>Year=2019<br>Category=%{x}<br>Average Sales=%{y}<extra></extra>\",\"legendgroup\":\"Labels\",\"marker\":{\"color\":\"#FFA15A\",\"pattern\":{\"shape\":\"\"}},\"name\":\"Labels\",\"offsetgroup\":\"Labels\",\"orientation\":\"v\",\"showlegend\":true,\"textposition\":\"auto\",\"x\":[\"Office Supplies\"],\"xaxis\":\"x\",\"y\":[72.45],\"yaxis\":\"y\",\"type\":\"bar\"}],\"name\":\"2019\"}]);\n",
       "                        }).then(function(){\n",
       "                            \n",
       "var gd = document.getElementById('c7c0fd6b-a93f-4205-9b38-6be1d21e7767');\n",
       "var x = new MutationObserver(function (mutations, observer) {{\n",
       "        var display = window.getComputedStyle(gd).display;\n",
       "        if (!display || display === 'none') {{\n",
       "            console.log([gd, 'removed!']);\n",
       "            Plotly.purge(gd);\n",
       "            observer.disconnect();\n",
       "        }}\n",
       "}});\n",
       "\n",
       "// Listen for the removal of the full notebook cells\n",
       "var notebookContainer = gd.closest('#notebook-container');\n",
       "if (notebookContainer) {{\n",
       "    x.observe(notebookContainer, {childList: true});\n",
       "}}\n",
       "\n",
       "// Listen for the clearing of the current output cell\n",
       "var outputEl = gd.closest('.output');\n",
       "if (outputEl) {{\n",
       "    x.observe(outputEl, {childList: true});\n",
       "}}\n",
       "\n",
       "                        })                };                });            </script>        </div>"
      ]
     },
     "metadata": {},
     "output_type": "display_data"
    }
   ],
   "source": [
    "# Calculate average sales for each combination of Year, Item, and SubItem\n",
    "avg_sales = df.groupby(['Year', 'Category', 'Sub-Category'], as_index=False)['Sales'].mean()\n",
    "\n",
    "# Find the top 5 subcategories for each combination of Year and Item\n",
    "top_subcategories = (\n",
    "    avg_sales.groupby(['Year', 'Category'], as_index=False)\n",
    "    .apply(lambda x: x.nlargest(5, 'Sales'))\n",
    "    .reset_index(drop=True)\n",
    ")\n",
    "# Create an interactive plot\n",
    "cat = px.bar(top_subcategories, \n",
    "             x='Category', \n",
    "             y='Sales', \n",
    "             color='Sub-Category', \n",
    "             animation_frame='Year',\n",
    "             labels={'Sales': 'Average Sales'},\n",
    "             title='Average Sales by Item and SubItem Over Years'\n",
    "            )\n",
    "\n",
    "# Update the layout for better hover information\n",
    "cat.update_traces(texttemplate='%{y:.2f}', textposition='outside')"
   ]
  },
  {
   "cell_type": "code",
   "execution_count": null,
   "id": "7e696707",
   "metadata": {},
   "outputs": [],
   "source": []
  },
  {
   "cell_type": "markdown",
   "id": "9a3d7567",
   "metadata": {},
   "source": [
    "## Percentage of Different Consumers"
   ]
  },
  {
   "cell_type": "code",
   "execution_count": 25,
   "id": "06ebb29c",
   "metadata": {},
   "outputs": [
    {
     "name": "stdout",
     "output_type": "stream",
     "text": [
      "                 Segment  Percentage\n",
      "Segment                             \n",
      "Consumer        Consumer   52.058433\n",
      "Corporate      Corporate   30.115436\n",
      "Home Office  Home Office   17.826131\n"
     ]
    }
   ],
   "source": [
    "# Count the occurrences of each category\n",
    "category_counts = df['Segment'].value_counts()\n",
    "\n",
    "# Calculate the percentage for each category\n",
    "df_percentage = pd.DataFrame({\n",
    "    'Segment': category_counts.index,\n",
    "    'Percentage': (category_counts / len(df)) * 100\n",
    "})\n",
    "\n",
    "print(df_percentage)"
   ]
  },
  {
   "cell_type": "code",
   "execution_count": 27,
   "id": "9fb0dcf7",
   "metadata": {},
   "outputs": [],
   "source": [
    "\n",
    "# Create an interactive pie chart\n",
    "cust_pi = px.pie(df_percentage, names='Segment', values='Percentage',\n",
    "             title='Distribution of Customers',\n",
    "             hover_data=['Percentage'],\n",
    "             labels={'Percentage': 'Percentage (%)'})\n",
    "\n"
   ]
  },
  {
   "cell_type": "code",
   "execution_count": 26,
   "id": "da52ef0c",
   "metadata": {},
   "outputs": [],
   "source": [
    "import plotly.express as px\n",
    "from jupyter_dash import JupyterDash\n",
    "import dash_core_components as dcc\n",
    "import dash_html_components as html\n",
    "from dash.dependencies import Input, Output"
   ]
  },
  {
   "cell_type": "code",
   "execution_count": 38,
   "id": "bd16695a",
   "metadata": {},
   "outputs": [
    {
     "name": "stderr",
     "output_type": "stream",
     "text": [
      "Exception in thread Thread-23 (run):\n",
      "Traceback (most recent call last):\n",
      "  File \"C:\\Users\\multiflow\\anaconda3\\Lib\\threading.py\", line 1038, in _bootstrap_inner\n",
      "    self.run()\n",
      "  File \"C:\\Users\\multiflow\\anaconda3\\Lib\\threading.py\", line 975, in run\n",
      "    self._target(*self._args, **self._kwargs)\n",
      "  File \"C:\\Users\\multiflow\\anaconda3\\Lib\\site-packages\\retrying.py\", line 56, in wrapped_f\n",
      "    return Retrying(*dargs, **dkw).call(f, *args, **kw)\n",
      "           ^^^^^^^^^^^^^^^^^^^^^^^^^^^^^^^^^^^^^^^^^^^^\n",
      "  File \"C:\\Users\\multiflow\\anaconda3\\Lib\\site-packages\\retrying.py\", line 266, in call\n",
      "    raise attempt.get()\n",
      "          ^^^^^^^^^^^^^\n",
      "  File \"C:\\Users\\multiflow\\anaconda3\\Lib\\site-packages\\retrying.py\", line 301, in get\n",
      "    six.reraise(self.value[0], self.value[1], self.value[2])\n",
      "  File \"C:\\Users\\multiflow\\anaconda3\\Lib\\site-packages\\six.py\", line 719, in reraise\n",
      "    raise value\n",
      "  File \"C:\\Users\\multiflow\\anaconda3\\Lib\\site-packages\\retrying.py\", line 251, in call\n",
      "    attempt = Attempt(fn(*args, **kwargs), attempt_number, False)\n",
      "                      ^^^^^^^^^^^^^^^^^^^\n",
      "  File \"C:\\Users\\multiflow\\anaconda3\\Lib\\site-packages\\jupyter_dash\\jupyter_app.py\", line 305, in run\n",
      "    super_run_server(**kwargs)\n",
      "  File \"C:\\Users\\multiflow\\anaconda3\\Lib\\site-packages\\dash\\dash.py\", line 2175, in run_server\n",
      "    self.run(*args, **kwargs)\n",
      "  File \"C:\\Users\\multiflow\\anaconda3\\Lib\\site-packages\\dash\\dash.py\", line 2066, in run\n",
      "    jupyter_dash.run_app(\n",
      "  File \"C:\\Users\\multiflow\\anaconda3\\Lib\\site-packages\\dash\\_jupyter.py\", line 401, in run_app\n",
      "    raise final_error\n",
      "  File \"C:\\Users\\multiflow\\anaconda3\\Lib\\site-packages\\dash\\_jupyter.py\", line 388, in run_app\n",
      "    wait_for_app()\n",
      "  File \"C:\\Users\\multiflow\\anaconda3\\Lib\\site-packages\\retrying.py\", line 56, in wrapped_f\n",
      "    return Retrying(*dargs, **dkw).call(f, *args, **kw)\n",
      "           ^^^^^^^^^^^^^^^^^^^^^^^^^^^^^^^^^^^^^^^^^^^^\n",
      "  File \"C:\\Users\\multiflow\\anaconda3\\Lib\\site-packages\\retrying.py\", line 266, in call\n",
      "    raise attempt.get()\n",
      "          ^^^^^^^^^^^^^\n",
      "  File \"C:\\Users\\multiflow\\anaconda3\\Lib\\site-packages\\retrying.py\", line 301, in get\n",
      "    six.reraise(self.value[0], self.value[1], self.value[2])\n",
      "  File \"C:\\Users\\multiflow\\anaconda3\\Lib\\site-packages\\six.py\", line 719, in reraise\n",
      "    raise value\n",
      "  File \"C:\\Users\\multiflow\\anaconda3\\Lib\\site-packages\\retrying.py\", line 251, in call\n",
      "    attempt = Attempt(fn(*args, **kwargs), attempt_number, False)\n",
      "                      ^^^^^^^^^^^^^^^^^^^\n",
      "  File \"C:\\Users\\multiflow\\anaconda3\\Lib\\site-packages\\dash\\_jupyter.py\", line 379, in wait_for_app\n",
      "    raise OSError(\n",
      "OSError: Address 'http://127.0.0.1:8050' already in use.\n",
      "    Try passing a different port to run_server.\n"
     ]
    }
   ],
   "source": [
    "app1 = JupyterDash(__name__)\n",
    "\n",
    "app1.layout = html.Div([\n",
    "    html.H1(\"Diabetes Regression Analysis Dashboard\"),\n",
    "    dcc.Graph(id='states'),\n",
    "    dcc.Graph(id='scatterplot'),\n",
    "    html.Div(id='mse')])\n",
    "\n",
    "@app1.callback(\n",
    "    Output('states', 'figure'),\n",
    "    Output('cust_pi', 'figure'),\n",
    "    Input('states', 'selectedData'))\n",
    "\n",
    "def update_plots(selected_data):\n",
    "    states = px.choropleth(df,\n",
    "            locations='State',\n",
    "            locationmode='USA-states',\n",
    "            color='Average_Sales',\n",
    "            hover_name='State',\n",
    "            animation_frame='Year',\n",
    "            scope='usa',\n",
    "            color_continuous_scale='Viridis',\n",
    "            title='Average Sales by State (Yearly)',\n",
    "            range_color=[0, max(df['Average_Sales'])])\n",
    "    cust_pi = px.pie(df_percentage, names='Segment', values='Percentage',\n",
    "             title='Distribution of Customers',\n",
    "             hover_data=['Percentage'],\n",
    "             labels={'Percentage': 'Percentage (%)'})\n",
    " \n",
    "    \n",
    "    return states, cust_pi"
   ]
  },
  {
   "cell_type": "code",
   "execution_count": 30,
   "id": "5009d329",
   "metadata": {},
   "outputs": [
    {
     "ename": "OSError",
     "evalue": "Address 'http://127.0.0.1:8050' already in use.\n    Try passing a different port to run_server.",
     "output_type": "error",
     "traceback": [
      "\u001b[1;31m---------------------------------------------------------------------------\u001b[0m",
      "\u001b[1;31mOSError\u001b[0m                                   Traceback (most recent call last)",
      "Cell \u001b[1;32mIn[30], line 1\u001b[0m\n\u001b[1;32m----> 1\u001b[0m app1\u001b[38;5;241m.\u001b[39mrun_server(mode\u001b[38;5;241m=\u001b[39m\u001b[38;5;124m'\u001b[39m\u001b[38;5;124minline\u001b[39m\u001b[38;5;124m'\u001b[39m)\n",
      "File \u001b[1;32m~\\anaconda3\\Lib\\site-packages\\jupyter_dash\\jupyter_app.py:339\u001b[0m, in \u001b[0;36mJupyterDash.run_server\u001b[1;34m(self, mode, width, height, inline_exceptions, **kwargs)\u001b[0m\n\u001b[0;32m    329\u001b[0m         url \u001b[38;5;241m=\u001b[39m \u001b[38;5;124m\"\u001b[39m\u001b[38;5;124mhttp://\u001b[39m\u001b[38;5;132;01m{host}\u001b[39;00m\u001b[38;5;124m:\u001b[39m\u001b[38;5;132;01m{port}\u001b[39;00m\u001b[38;5;124m\"\u001b[39m\u001b[38;5;241m.\u001b[39mformat(\n\u001b[0;32m    330\u001b[0m             host\u001b[38;5;241m=\u001b[39mhost, port\u001b[38;5;241m=\u001b[39mport, token\u001b[38;5;241m=\u001b[39mJupyterDash\u001b[38;5;241m.\u001b[39m_token\n\u001b[0;32m    331\u001b[0m         )\n\u001b[0;32m    332\u001b[0m         \u001b[38;5;28;01mraise\u001b[39;00m \u001b[38;5;167;01mOSError\u001b[39;00m(\n\u001b[0;32m    333\u001b[0m             \u001b[38;5;124m\"\u001b[39m\u001b[38;5;124mAddress \u001b[39m\u001b[38;5;124m'\u001b[39m\u001b[38;5;132;01m{url}\u001b[39;00m\u001b[38;5;124m'\u001b[39m\u001b[38;5;124m already in use.\u001b[39m\u001b[38;5;130;01m\\n\u001b[39;00m\u001b[38;5;124m\"\u001b[39m\n\u001b[0;32m    334\u001b[0m             \u001b[38;5;124m\"\u001b[39m\u001b[38;5;124m    Try passing a different port to run_server.\u001b[39m\u001b[38;5;124m\"\u001b[39m\u001b[38;5;241m.\u001b[39mformat(\n\u001b[0;32m    335\u001b[0m                 url\u001b[38;5;241m=\u001b[39murl\n\u001b[0;32m    336\u001b[0m             )\n\u001b[0;32m    337\u001b[0m         )\n\u001b[1;32m--> 339\u001b[0m wait_for_app()\n\u001b[0;32m    341\u001b[0m \u001b[38;5;28;01mif\u001b[39;00m JupyterDash\u001b[38;5;241m.\u001b[39m_in_colab:\n\u001b[0;32m    342\u001b[0m     \u001b[38;5;28mself\u001b[39m\u001b[38;5;241m.\u001b[39m_display_in_colab(dashboard_url, port, mode, width, height)\n",
      "File \u001b[1;32m~\\anaconda3\\Lib\\site-packages\\retrying.py:56\u001b[0m, in \u001b[0;36mretry.<locals>.wrap.<locals>.wrapped_f\u001b[1;34m(*args, **kw)\u001b[0m\n\u001b[0;32m     54\u001b[0m \u001b[38;5;129m@six\u001b[39m\u001b[38;5;241m.\u001b[39mwraps(f)\n\u001b[0;32m     55\u001b[0m \u001b[38;5;28;01mdef\u001b[39;00m \u001b[38;5;21mwrapped_f\u001b[39m(\u001b[38;5;241m*\u001b[39margs, \u001b[38;5;241m*\u001b[39m\u001b[38;5;241m*\u001b[39mkw):\n\u001b[1;32m---> 56\u001b[0m     \u001b[38;5;28;01mreturn\u001b[39;00m Retrying(\u001b[38;5;241m*\u001b[39mdargs, \u001b[38;5;241m*\u001b[39m\u001b[38;5;241m*\u001b[39mdkw)\u001b[38;5;241m.\u001b[39mcall(f, \u001b[38;5;241m*\u001b[39margs, \u001b[38;5;241m*\u001b[39m\u001b[38;5;241m*\u001b[39mkw)\n",
      "File \u001b[1;32m~\\anaconda3\\Lib\\site-packages\\retrying.py:266\u001b[0m, in \u001b[0;36mRetrying.call\u001b[1;34m(self, fn, *args, **kwargs)\u001b[0m\n\u001b[0;32m    263\u001b[0m \u001b[38;5;28;01mif\u001b[39;00m \u001b[38;5;28mself\u001b[39m\u001b[38;5;241m.\u001b[39mstop(attempt_number, delay_since_first_attempt_ms):\n\u001b[0;32m    264\u001b[0m     \u001b[38;5;28;01mif\u001b[39;00m \u001b[38;5;129;01mnot\u001b[39;00m \u001b[38;5;28mself\u001b[39m\u001b[38;5;241m.\u001b[39m_wrap_exception \u001b[38;5;129;01mand\u001b[39;00m attempt\u001b[38;5;241m.\u001b[39mhas_exception:\n\u001b[0;32m    265\u001b[0m         \u001b[38;5;66;03m# get() on an attempt with an exception should cause it to be raised, but raise just in case\u001b[39;00m\n\u001b[1;32m--> 266\u001b[0m         \u001b[38;5;28;01mraise\u001b[39;00m attempt\u001b[38;5;241m.\u001b[39mget()\n\u001b[0;32m    267\u001b[0m     \u001b[38;5;28;01melse\u001b[39;00m:\n\u001b[0;32m    268\u001b[0m         \u001b[38;5;28;01mraise\u001b[39;00m RetryError(attempt)\n",
      "File \u001b[1;32m~\\anaconda3\\Lib\\site-packages\\retrying.py:301\u001b[0m, in \u001b[0;36mAttempt.get\u001b[1;34m(self, wrap_exception)\u001b[0m\n\u001b[0;32m    299\u001b[0m         \u001b[38;5;28;01mraise\u001b[39;00m RetryError(\u001b[38;5;28mself\u001b[39m)\n\u001b[0;32m    300\u001b[0m     \u001b[38;5;28;01melse\u001b[39;00m:\n\u001b[1;32m--> 301\u001b[0m         six\u001b[38;5;241m.\u001b[39mreraise(\u001b[38;5;28mself\u001b[39m\u001b[38;5;241m.\u001b[39mvalue[\u001b[38;5;241m0\u001b[39m], \u001b[38;5;28mself\u001b[39m\u001b[38;5;241m.\u001b[39mvalue[\u001b[38;5;241m1\u001b[39m], \u001b[38;5;28mself\u001b[39m\u001b[38;5;241m.\u001b[39mvalue[\u001b[38;5;241m2\u001b[39m])\n\u001b[0;32m    302\u001b[0m \u001b[38;5;28;01melse\u001b[39;00m:\n\u001b[0;32m    303\u001b[0m     \u001b[38;5;28;01mreturn\u001b[39;00m \u001b[38;5;28mself\u001b[39m\u001b[38;5;241m.\u001b[39mvalue\n",
      "File \u001b[1;32m~\\anaconda3\\Lib\\site-packages\\six.py:719\u001b[0m, in \u001b[0;36mreraise\u001b[1;34m(tp, value, tb)\u001b[0m\n\u001b[0;32m    717\u001b[0m     \u001b[38;5;28;01mif\u001b[39;00m value\u001b[38;5;241m.\u001b[39m__traceback__ \u001b[38;5;129;01mis\u001b[39;00m \u001b[38;5;129;01mnot\u001b[39;00m tb:\n\u001b[0;32m    718\u001b[0m         \u001b[38;5;28;01mraise\u001b[39;00m value\u001b[38;5;241m.\u001b[39mwith_traceback(tb)\n\u001b[1;32m--> 719\u001b[0m     \u001b[38;5;28;01mraise\u001b[39;00m value\n\u001b[0;32m    720\u001b[0m \u001b[38;5;28;01mfinally\u001b[39;00m:\n\u001b[0;32m    721\u001b[0m     value \u001b[38;5;241m=\u001b[39m \u001b[38;5;28;01mNone\u001b[39;00m\n",
      "File \u001b[1;32m~\\anaconda3\\Lib\\site-packages\\retrying.py:251\u001b[0m, in \u001b[0;36mRetrying.call\u001b[1;34m(self, fn, *args, **kwargs)\u001b[0m\n\u001b[0;32m    248\u001b[0m     \u001b[38;5;28mself\u001b[39m\u001b[38;5;241m.\u001b[39m_before_attempts(attempt_number)\n\u001b[0;32m    250\u001b[0m \u001b[38;5;28;01mtry\u001b[39;00m:\n\u001b[1;32m--> 251\u001b[0m     attempt \u001b[38;5;241m=\u001b[39m Attempt(fn(\u001b[38;5;241m*\u001b[39margs, \u001b[38;5;241m*\u001b[39m\u001b[38;5;241m*\u001b[39mkwargs), attempt_number, \u001b[38;5;28;01mFalse\u001b[39;00m)\n\u001b[0;32m    252\u001b[0m \u001b[38;5;28;01mexcept\u001b[39;00m:\n\u001b[0;32m    253\u001b[0m     tb \u001b[38;5;241m=\u001b[39m sys\u001b[38;5;241m.\u001b[39mexc_info()\n",
      "File \u001b[1;32m~\\anaconda3\\Lib\\site-packages\\jupyter_dash\\jupyter_app.py:332\u001b[0m, in \u001b[0;36mJupyterDash.run_server.<locals>.wait_for_app\u001b[1;34m()\u001b[0m\n\u001b[0;32m    328\u001b[0m \u001b[38;5;28;01mif\u001b[39;00m res \u001b[38;5;241m!=\u001b[39m \u001b[38;5;124m\"\u001b[39m\u001b[38;5;124mAlive\u001b[39m\u001b[38;5;124m\"\u001b[39m:\n\u001b[0;32m    329\u001b[0m     url \u001b[38;5;241m=\u001b[39m \u001b[38;5;124m\"\u001b[39m\u001b[38;5;124mhttp://\u001b[39m\u001b[38;5;132;01m{host}\u001b[39;00m\u001b[38;5;124m:\u001b[39m\u001b[38;5;132;01m{port}\u001b[39;00m\u001b[38;5;124m\"\u001b[39m\u001b[38;5;241m.\u001b[39mformat(\n\u001b[0;32m    330\u001b[0m         host\u001b[38;5;241m=\u001b[39mhost, port\u001b[38;5;241m=\u001b[39mport, token\u001b[38;5;241m=\u001b[39mJupyterDash\u001b[38;5;241m.\u001b[39m_token\n\u001b[0;32m    331\u001b[0m     )\n\u001b[1;32m--> 332\u001b[0m     \u001b[38;5;28;01mraise\u001b[39;00m \u001b[38;5;167;01mOSError\u001b[39;00m(\n\u001b[0;32m    333\u001b[0m         \u001b[38;5;124m\"\u001b[39m\u001b[38;5;124mAddress \u001b[39m\u001b[38;5;124m'\u001b[39m\u001b[38;5;132;01m{url}\u001b[39;00m\u001b[38;5;124m'\u001b[39m\u001b[38;5;124m already in use.\u001b[39m\u001b[38;5;130;01m\\n\u001b[39;00m\u001b[38;5;124m\"\u001b[39m\n\u001b[0;32m    334\u001b[0m         \u001b[38;5;124m\"\u001b[39m\u001b[38;5;124m    Try passing a different port to run_server.\u001b[39m\u001b[38;5;124m\"\u001b[39m\u001b[38;5;241m.\u001b[39mformat(\n\u001b[0;32m    335\u001b[0m             url\u001b[38;5;241m=\u001b[39murl\n\u001b[0;32m    336\u001b[0m         )\n\u001b[0;32m    337\u001b[0m     )\n",
      "\u001b[1;31mOSError\u001b[0m: Address 'http://127.0.0.1:8050' already in use.\n    Try passing a different port to run_server."
     ]
    }
   ],
   "source": [
    "app1.run_server(mode='inline')"
   ]
  },
  {
   "cell_type": "code",
   "execution_count": 37,
   "id": "6cea1fb2",
   "metadata": {},
   "outputs": [
    {
     "ename": "TypeError",
     "evalue": "'NoneType' object cannot be interpreted as an integer",
     "output_type": "error",
     "traceback": [
      "\u001b[1;31m---------------------------------------------------------------------------\u001b[0m",
      "\u001b[1;31mTypeError\u001b[0m                                 Traceback (most recent call last)",
      "Cell \u001b[1;32mIn[37], line 1\u001b[0m\n\u001b[1;32m----> 1\u001b[0m app1\u001b[38;5;241m.\u001b[39mrun_server(port\u001b[38;5;241m=\u001b[39m\u001b[38;5;241m2223\u001b[39m)\n",
      "File \u001b[1;32m~\\anaconda3\\Lib\\site-packages\\jupyter_dash\\jupyter_app.py:222\u001b[0m, in \u001b[0;36mJupyterDash.run_server\u001b[1;34m(self, mode, width, height, inline_exceptions, **kwargs)\u001b[0m\n\u001b[0;32m    220\u001b[0m old_server \u001b[38;5;241m=\u001b[39m \u001b[38;5;28mself\u001b[39m\u001b[38;5;241m.\u001b[39m_server_threads\u001b[38;5;241m.\u001b[39mget((host, port))\n\u001b[0;32m    221\u001b[0m \u001b[38;5;28;01mif\u001b[39;00m old_server:\n\u001b[1;32m--> 222\u001b[0m     old_server\u001b[38;5;241m.\u001b[39mkill()\n\u001b[0;32m    223\u001b[0m     old_server\u001b[38;5;241m.\u001b[39mjoin()\n\u001b[0;32m    224\u001b[0m     \u001b[38;5;28;01mdel\u001b[39;00m \u001b[38;5;28mself\u001b[39m\u001b[38;5;241m.\u001b[39m_server_threads[(host, port)]\n",
      "File \u001b[1;32m~\\anaconda3\\Lib\\site-packages\\jupyter_dash\\_stoppable_thread.py:16\u001b[0m, in \u001b[0;36mStoppableThread.kill\u001b[1;34m(self)\u001b[0m\n\u001b[0;32m     13\u001b[0m \u001b[38;5;28;01mdef\u001b[39;00m \u001b[38;5;21mkill\u001b[39m(\u001b[38;5;28mself\u001b[39m):\n\u001b[0;32m     14\u001b[0m     thread_id \u001b[38;5;241m=\u001b[39m \u001b[38;5;28mself\u001b[39m\u001b[38;5;241m.\u001b[39mget_id()\n\u001b[0;32m     15\u001b[0m     res \u001b[38;5;241m=\u001b[39m ctypes\u001b[38;5;241m.\u001b[39mpythonapi\u001b[38;5;241m.\u001b[39mPyThreadState_SetAsyncExc(\n\u001b[1;32m---> 16\u001b[0m         ctypes\u001b[38;5;241m.\u001b[39mc_long(thread_id), ctypes\u001b[38;5;241m.\u001b[39mpy_object(\u001b[38;5;167;01mSystemExit\u001b[39;00m)\n\u001b[0;32m     17\u001b[0m     )\n\u001b[0;32m     18\u001b[0m     \u001b[38;5;28;01mif\u001b[39;00m res \u001b[38;5;241m==\u001b[39m \u001b[38;5;241m0\u001b[39m:\n\u001b[0;32m     19\u001b[0m         \u001b[38;5;28;01mraise\u001b[39;00m \u001b[38;5;167;01mValueError\u001b[39;00m(\u001b[38;5;124mf\u001b[39m\u001b[38;5;124m\"\u001b[39m\u001b[38;5;124mInvalid thread id: \u001b[39m\u001b[38;5;132;01m{\u001b[39;00mthread_id\u001b[38;5;132;01m}\u001b[39;00m\u001b[38;5;124m\"\u001b[39m)\n",
      "\u001b[1;31mTypeError\u001b[0m: 'NoneType' object cannot be interpreted as an integer"
     ]
    }
   ],
   "source": [
    "app1.run_server(port=2223)"
   ]
  },
  {
   "cell_type": "code",
   "execution_count": null,
   "id": "d2f46b42",
   "metadata": {},
   "outputs": [],
   "source": [
    "title = '# Our Customer Base'\n",
    "logo = pn.panel('floodsImage.png', width=200, align='start')\n",
    "text = \"Dataset:Global Active Archive of Large Flood Events \"\n",
    "# Header box\n",
    "header_box = pn.WidgetBox(title, logo, year,  pn.layout.Spacer(margin=200), text, width=300, height=1000, align=\"center\")\n",
    "# Plot Box\n",
    "plots_box = pn.WidgetBox(pn.Column(pn.Row(pn.Column(year_range), pn.layout.HSpacer(), pn.Column(dead_stat)), plot_map, plot_bar, align=\"start\", width=600,sizing_mode=\"stretch_width\"))\n",
    "# Dashboard\n",
    "dashboard = pn.Row(header_box, plots_box, sizing_mode=\"stretch_width\")\n",
    "dashboard"
   ]
  }
 ],
 "metadata": {
  "colab": {
   "provenance": []
  },
  "kernelspec": {
   "display_name": "Python 3 (ipykernel)",
   "language": "python",
   "name": "python3"
  },
  "language_info": {
   "codemirror_mode": {
    "name": "ipython",
    "version": 3
   },
   "file_extension": ".py",
   "mimetype": "text/x-python",
   "name": "python",
   "nbconvert_exporter": "python",
   "pygments_lexer": "ipython3",
   "version": "3.11.5"
  }
 },
 "nbformat": 4,
 "nbformat_minor": 5
}
